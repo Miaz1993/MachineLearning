{
 "cells": [
  {
   "cell_type": "code",
   "execution_count": 103,
   "metadata": {
    "collapsed": true
   },
   "outputs": [],
   "source": [
    "import numpy as np\n",
    "import matplotlib.pyplot as plt\n",
    "\n",
    "% matplotlib inline"
   ]
  },
  {
   "cell_type": "markdown",
   "metadata": {},
   "source": [
    "## SVD calculation"
   ]
  },
  {
   "cell_type": "code",
   "execution_count": 104,
   "metadata": {
    "collapsed": false
   },
   "outputs": [
    {
     "name": "stdout",
     "output_type": "stream",
     "text": [
      "[[-0.14142136 -0.98994949]\n",
      " [-0.98994949  0.14142136]]\n",
      "[ 10.   0.]\n",
      "[[-0.70710678 -0.70710678]\n",
      " [-0.70710678  0.70710678]]\n"
     ]
    }
   ],
   "source": [
    "U, sigma, VT = np.linalg.svd([[1, 1], [7, 7]])\n",
    "print(U)\n",
    "print(sigma) # vector for saving space\n",
    "print(VT)"
   ]
  },
  {
   "cell_type": "code",
   "execution_count": 105,
   "metadata": {
    "collapsed": true
   },
   "outputs": [],
   "source": [
    "def loadExData():\n",
    "    return[[0, 0, 0, 2, 2],\n",
    "           [0, 0, 0, 3, 3],\n",
    "           [0, 0, 0, 1, 1],\n",
    "           [1, 1, 1, 0, 0],\n",
    "           [2, 2, 2, 0, 0],\n",
    "           [5, 5, 5, 0, 0],\n",
    "           [1, 1, 1, 0, 0]]"
   ]
  },
  {
   "cell_type": "code",
   "execution_count": 12,
   "metadata": {
    "collapsed": false
   },
   "outputs": [
    {
     "name": "stdout",
     "output_type": "stream",
     "text": [
      "('data', [[0, 0, 0, 2, 2], [0, 0, 0, 3, 3], [0, 0, 0, 1, 1], [1, 1, 1, 0, 0], [2, 2, 2, 0, 0], [5, 5, 5, 0, 0], [1, 1, 1, 0, 0]])\n",
      "('U', array([[ -2.22044605e-16,   5.34522484e-01,   8.41641151e-01,\n",
      "         -1.37443101e-02,  -7.57428665e-02,  -1.11022302e-16,\n",
      "          1.38777878e-17],\n",
      "       [  0.00000000e+00,   8.01783726e-01,  -4.92426901e-01,\n",
      "         -2.47257115e-01,   2.31349353e-01,   3.15719673e-16,\n",
      "         -2.77555756e-17],\n",
      "       [  0.00000000e+00,   2.67261242e-01,  -2.06001597e-01,\n",
      "          7.69259966e-01,  -5.42562325e-01,  -7.55450741e-16,\n",
      "          1.09551769e-16],\n",
      "       [ -1.79605302e-01,   2.77555756e-17,  -3.00520660e-02,\n",
      "         -2.15935735e-01,  -2.94749442e-01,   9.05439185e-01,\n",
      "         -1.16246358e-01],\n",
      "       [ -3.59210604e-01,   5.55111512e-17,  -6.01041319e-02,\n",
      "         -4.31871470e-01,  -5.89498885e-01,  -4.19124526e-01,\n",
      "         -3.97074256e-01],\n",
      "       [ -8.98026510e-01,   0.00000000e+00,   3.60624791e-02,\n",
      "          2.59122882e-01,   3.53699331e-01,   5.40010673e-16,\n",
      "         -6.71525577e-17],\n",
      "       [ -1.79605302e-01,   2.77555756e-17,  -3.00520660e-02,\n",
      "         -2.15935735e-01,  -2.94749442e-01,  -6.71901321e-02,\n",
      "          9.10394870e-01]]))\n",
      "('sigma', array([  9.64365076e+00,   5.29150262e+00,   8.36478329e-16,\n",
      "         6.91811207e-17,   1.11917251e-33]))\n",
      "('VT', array([[ -5.77350269e-01,  -5.77350269e-01,  -5.77350269e-01,\n",
      "          0.00000000e+00,   0.00000000e+00],\n",
      "       [ -2.46566547e-16,   1.23283273e-16,   1.23283273e-16,\n",
      "          7.07106781e-01,   7.07106781e-01],\n",
      "       [ -7.01908483e-01,  -1.02844064e-02,   7.12192890e-01,\n",
      "         -2.22044605e-16,  -1.66533454e-16],\n",
      "       [ -4.17122461e-01,   8.16431808e-01,  -3.99309347e-01,\n",
      "          0.00000000e+00,  -1.11022302e-16],\n",
      "       [ -0.00000000e+00,  -1.96261557e-16,   1.96261557e-16,\n",
      "          7.07106781e-01,  -7.07106781e-01]]))\n",
      "('reconMat', array([[  4.47427211e-17,   1.57774942e-15,   2.08638397e-15,\n",
      "          2.00000000e+00,   2.00000000e+00],\n",
      "       [ -7.56974048e-16,   5.27282824e-16,   2.29691224e-16,\n",
      "          3.00000000e+00,   3.00000000e+00],\n",
      "       [ -2.27747782e-16,   1.76121044e-16,   5.16267387e-17,\n",
      "          1.00000000e+00,   1.00000000e+00],\n",
      "       [  1.00000000e+00,   1.00000000e+00,   1.00000000e+00,\n",
      "          1.03851855e-16,   1.03851855e-16],\n",
      "       [  2.00000000e+00,   2.00000000e+00,   2.00000000e+00,\n",
      "          2.07703709e-16,   2.07703709e-16],\n",
      "       [  5.00000000e+00,   5.00000000e+00,   5.00000000e+00,\n",
      "         -6.69808260e-33,  -5.02356195e-33],\n",
      "       [  1.00000000e+00,   1.00000000e+00,   1.00000000e+00,\n",
      "          1.03851855e-16,   1.03851855e-16]]))\n"
     ]
    }
   ],
   "source": [
    "data = loadExData()\n",
    "print(\"data\", data)\n",
    "U, sigma, VT = np.linalg.svd(data)\n",
    "print(\"U\", U)\n",
    "print(\"sigma\", sigma)\n",
    "print(\"VT\", VT)\n",
    "\n",
    "# reconstruction\n",
    "sig3 = np.mat([[sigma[0], 0, 0], [0, sigma[1], 0], [0, 0, sigma[2]] ])\n",
    "reconMat = U[:,:3] * sig3 * VT[:3,:]\n",
    "print(\"reconMat\", reconMat.A)"
   ]
  },
  {
   "cell_type": "markdown",
   "metadata": {},
   "source": [
    "## collaborative filtering based recomendation system"
   ]
  },
  {
   "cell_type": "code",
   "execution_count": 13,
   "metadata": {
    "collapsed": true
   },
   "outputs": [],
   "source": [
    "# similarity function\n",
    "\n",
    "def eulidSim(inA, inB):\n",
    "    return 1.0 / (1.0 + np.linalg.norm(inA - inB))\n",
    "\n",
    "def pearsSim(inA, inB):\n",
    "    if len(inA) < 3:\n",
    "        return 1.0\n",
    "    return 0.5 + 0.5 * np.corrcoef(inA, inB, rowvar=0)[0][1] # map [-1,1] to [0, 1]\n",
    "\n",
    "def cosSim(inA, inB):\n",
    "    num = float(np.sum(inA * inB))\n",
    "    denom = np.linalg.norm(inA) * np.linalg.norm(inB)\n",
    "    return 0.5 + 0.5 * (num / denom) # map [-1, 1] to [0,1]"
   ]
  },
  {
   "cell_type": "code",
   "execution_count": 19,
   "metadata": {
    "collapsed": false
   },
   "outputs": [
    {
     "name": "stdout",
     "output_type": "stream",
     "text": [
      "eulidSum: \n",
      "0.5\n",
      "0.261203874964\n",
      "pearsSim: \n",
      "0.990990253031\n",
      "0.5\n",
      "cosSim: \n",
      "0.991641002492\n",
      "0.936393024089\n"
     ]
    }
   ],
   "source": [
    "dataArr = np.array([[2, 0, 0, 4, 4], [5, 5, 5, 3, 3], [2, 4, 2, 1, 2]])\n",
    "dataArr.shape\n",
    "print(\"eulidSum: \")\n",
    "print(eulidSim(dataArr[:,3], dataArr[:,4]))\n",
    "print(eulidSim(dataArr[:,0], dataArr[:,4]))\n",
    "print(\"pearsSim: \")\n",
    "print(pearsSim(dataArr[:,3], dataArr[:,4]))\n",
    "print(pearsSim(dataArr[:,0], dataArr[:,4]))\n",
    "print(\"cosSim: \")\n",
    "print(cosSim(dataArr[:,3], dataArr[:,4]))\n",
    "print(cosSim(dataArr[:,0], dataArr[:,4]))"
   ]
  },
  {
   "cell_type": "markdown",
   "metadata": {},
   "source": [
    "## A real case : food recomendation"
   ]
  },
  {
   "cell_type": "markdown",
   "metadata": {},
   "source": [
    "### recomend food "
   ]
  },
  {
   "cell_type": "code",
   "execution_count": 84,
   "metadata": {
    "collapsed": true
   },
   "outputs": [],
   "source": [
    "def standarEstimate(dataArr, userId, simFunc, itemId):\n",
    "    n = dataArr.shape[1]\n",
    "    simTotal = 0.0\n",
    "    ratSimTotal = 0.0\n",
    "    for j in range(n): # traverse for each feature which have been rated by user \n",
    "        userRating = dataArr[userId, j]\n",
    "        #print(userId, j, userRating)\n",
    "        if userRating == 0 or j == itemId:\n",
    "            continue\n",
    "        \n",
    "        overLap = np.nonzero(np.logical_and(dataArr[:, itemId]>0, dataArr[:, j]>0))[0]\n",
    "        #print(overLap)\n",
    "        if(len(overLap) == 0):\n",
    "            similarity = 0\n",
    "        else:\n",
    "            similarity = simFunc(dataArr[overLap, itemId], dataArr[overLap, j])\n",
    "        \n",
    "        #print(\"the %d and %d similarity is : %f\" % (itemId, j, similarity) )\n",
    "        simTotal += similarity\n",
    "        ratSimTotal += userRating * similarity\n",
    "    \n",
    "    if simTotal == 0.0:\n",
    "        return 0\n",
    "    else:\n",
    "        return ratSimTotal / simTotal\n",
    "\n",
    "def recomend(dataArr, userId, N=3, simFunc = cosSim, estMethod=standarEstimate):\n",
    "    unratedItemInds = np.nonzero(dataArr[userId,:] == 0)[0]\n",
    "    print(unratedItemInds)\n",
    "    if len(unratedItemInds) == 0:\n",
    "        return 'you rated everything'\n",
    "    \n",
    "    itemScores = []\n",
    "    for itemId in unratedItemInds:\n",
    "        estScore = estMethod(dataArr, userId, simFunc, itemId)\n",
    "        itemScores.append((itemId, estScore))\n",
    "    \n",
    "    itemScoresSorted = sorted(itemScores, key=lambda p: p[1], reverse=True)\n",
    "    return itemScoresSorted[:N]"
   ]
  },
  {
   "cell_type": "code",
   "execution_count": 86,
   "metadata": {
    "collapsed": false
   },
   "outputs": [
    {
     "name": "stdout",
     "output_type": "stream",
     "text": [
      "(7, 5)\n",
      "cosSim\n",
      "[1 2]\n",
      "[(2, 2.5), (1, 2.0243290220056256)]\n",
      "eulidSim)\n",
      "[1 2]\n",
      "[(2, 3.0), (1, 2.8266504712098603)]\n",
      "pearsSim\n",
      "[1 2]\n",
      "[(2, 2.5), (1, 2.0)]\n"
     ]
    }
   ],
   "source": [
    "dataArr = [[4, 4, 0, 2, 2],\n",
    "           [4, 0, 0, 3, 3], \n",
    "           [4, 0, 0, 1, 1],\n",
    "           [1, 1, 1, 2, 0],\n",
    "           [2, 2, 2, 0, 0],\n",
    "           [1, 1, 1, 0, 0],\n",
    "           [5, 5, 5, 0, 0]]\n",
    "dataArr = np.array(dataArr)\n",
    "print(dataArr.shape)\n",
    "print(\"cosSim\")\n",
    "scoreList = recomend(dataArr, 2)\n",
    "print(scoreList)\n",
    "\n",
    "print(\"eulidSim)\")\n",
    "scoreList = recomend(dataArr, 2, simFunc=eulidSim)\n",
    "print(scoreList)\n",
    "\n",
    "print(\"pearsSim\")\n",
    "scoreList = recomend(dataArr, 2, simFunc=pearsSim)\n",
    "print(scoreList)"
   ]
  },
  {
   "cell_type": "markdown",
   "metadata": {},
   "source": [
    "### improve performance by SVD"
   ]
  },
  {
   "cell_type": "code",
   "execution_count": 99,
   "metadata": {
    "collapsed": false
   },
   "outputs": [],
   "source": [
    "def svdEstimate(dataArr, userId, simFunc, itemId):\n",
    "    dataMat = np.mat(dataArr)\n",
    "    n = dataArr.shape[1]\n",
    "    simTotal = 0.0\n",
    "    ratSimTotal = 0.0\n",
    "    U, Sigma, VT = np.linalg.svd(np.mat(dataArr))\n",
    "    sigCumsum = np.cumsum(Sigma**2/np.sum(Sigma**2))\n",
    "    \n",
    "    reduceN = 0\n",
    "    for i in range(len(sigCumsum)):\n",
    "        if sigCumsum[i] > 0.90:\n",
    "            reduceN = i + 1\n",
    "            break\n",
    "    \n",
    "    SigmaN = np.mat(np.eye(reduceN)*Sigma[:reduceN])\n",
    "    xformedItems = dataMat.T * U[:, :reduceN] * SigmaN.I\n",
    "    xformedItems = xformedItems.A\n",
    "    for j in range(n):\n",
    "        userRating = dataArr[userId, j]\n",
    "        if userRating == 0 or j == itemId:\n",
    "            continue\n",
    "            \n",
    "        #print(xformedItems[itemId,:])\n",
    "        #print(xformedItems[j, :])\n",
    "        similarity = simFunc(xformedItems[itemId,:].T, xformedItems[j,:].T)\n",
    "        print(\"the %d and %d similarity is : %f\" % (itemId, j, similarity))\n",
    "        simTotal += similarity\n",
    "        ratSimTotal += similarity * userRating\n",
    "    \n",
    "    if simTotal == 0:\n",
    "        return 0\n",
    "    else:\n",
    "        return ratSimTotal / simTotal"
   ]
  },
  {
   "cell_type": "code",
   "execution_count": 88,
   "metadata": {
    "collapsed": true
   },
   "outputs": [],
   "source": [
    "def loadExData2():\n",
    "    return[[0, 0, 0, 0, 0, 4, 0, 0, 0, 0, 5],\n",
    "           [0, 0, 0, 3, 0, 4, 0, 0, 0, 0, 3],\n",
    "           [0, 0, 0, 0, 4, 0, 0, 1, 0, 4, 0],\n",
    "           [3, 3, 4, 0, 0, 0, 0, 2, 2, 0, 0],\n",
    "           [5, 4, 5, 0, 0, 0, 0, 5, 5, 0, 0],\n",
    "           [0, 0, 0, 0, 5, 0, 1, 0, 0, 5, 0],\n",
    "           [4, 3, 4, 0, 0, 0, 0, 5, 5, 0, 1],\n",
    "           [0, 0, 0, 4, 0, 4, 0, 0, 0, 0, 4],\n",
    "           [0, 0, 0, 2, 0, 2, 5, 0, 0, 1, 2],\n",
    "           [0, 0, 0, 0, 5, 0, 0, 0, 0, 4, 0],\n",
    "           [1, 0, 0, 0, 0, 0, 0, 1, 2, 0, 0]]"
   ]
  },
  {
   "cell_type": "code",
   "execution_count": 89,
   "metadata": {
    "collapsed": false
   },
   "outputs": [
    {
     "data": {
      "text/plain": [
       "(11, 11)"
      ]
     },
     "execution_count": 89,
     "metadata": {},
     "output_type": "execute_result"
    }
   ],
   "source": [
    "dataArr = np.array(loadExData2())\n",
    "dataArr.shape"
   ]
  },
  {
   "cell_type": "code",
   "execution_count": 100,
   "metadata": {
    "collapsed": false
   },
   "outputs": [
    {
     "name": "stdout",
     "output_type": "stream",
     "text": [
      "[0 1 2 4 6 7 8 9]\n",
      "the 0 and 3 similarity is : 0.485722\n",
      "the 0 and 5 similarity is : 0.486944\n",
      "the 0 and 10 similarity is : 0.517241\n",
      "the 1 and 3 similarity is : 0.484158\n",
      "the 1 and 5 similarity is : 0.485385\n",
      "the 1 and 10 similarity is : 0.515683\n",
      "the 2 and 3 similarity is : 0.484789\n",
      "the 2 and 5 similarity is : 0.486017\n",
      "the 2 and 10 similarity is : 0.516315\n",
      "the 4 and 3 similarity is : 0.488043\n",
      "the 4 and 5 similarity is : 0.479187\n",
      "the 4 and 10 similarity is : 0.478511\n",
      "the 6 and 3 similarity is : 0.928889\n",
      "the 6 and 5 similarity is : 0.924259\n",
      "the 6 and 10 similarity is : 0.922822\n",
      "the 7 and 3 similarity is : 0.488958\n",
      "the 7 and 5 similarity is : 0.489308\n",
      "the 7 and 10 similarity is : 0.519452\n",
      "the 8 and 3 similarity is : 0.490173\n",
      "the 8 and 5 similarity is : 0.491386\n",
      "the 8 and 10 similarity is : 0.521681\n",
      "the 9 and 3 similarity is : 0.512438\n",
      "the 9 and 5 similarity is : 0.503579\n",
      "the 9 and 10 similarity is : 0.502871\n"
     ]
    },
    {
     "data": {
      "text/plain": [
       "[(6, 3.3329499901459845), (9, 3.331544717872839), (4, 3.3314474877128615)]"
      ]
     },
     "execution_count": 100,
     "metadata": {},
     "output_type": "execute_result"
    }
   ],
   "source": [
    "recomend(dataArr, 1, estMethod=svdEstimate)"
   ]
  },
  {
   "cell_type": "code",
   "execution_count": 101,
   "metadata": {
    "collapsed": false
   },
   "outputs": [
    {
     "name": "stdout",
     "output_type": "stream",
     "text": [
      "[0 1 2 4 6 7 8 9]\n",
      "the 0 and 3 similarity is : 0.617776\n",
      "the 0 and 5 similarity is : 0.559356\n",
      "the 0 and 10 similarity is : 0.565443\n",
      "the 1 and 3 similarity is : 0.642742\n",
      "the 1 and 5 similarity is : 0.574987\n",
      "the 1 and 10 similarity is : 0.580252\n",
      "the 2 and 3 similarity is : 0.612547\n",
      "the 2 and 5 similarity is : 0.555860\n",
      "the 2 and 10 similarity is : 0.562054\n",
      "the 4 and 3 similarity is : 0.543297\n",
      "the 4 and 5 similarity is : 0.504578\n",
      "the 4 and 10 similarity is : 0.503755\n",
      "the 6 and 3 similarity is : 0.790208\n",
      "the 6 and 5 similarity is : 0.674235\n",
      "the 6 and 10 similarity is : 0.672206\n",
      "the 7 and 3 similarity is : 0.613964\n",
      "the 7 and 5 similarity is : 0.556923\n",
      "the 7 and 10 similarity is : 0.563111\n",
      "the 8 and 3 similarity is : 0.612877\n",
      "the 8 and 5 similarity is : 0.556507\n",
      "the 8 and 10 similarity is : 0.562790\n",
      "the 9 and 3 similarity is : 0.559882\n",
      "the 9 and 5 similarity is : 0.518984\n",
      "the 9 and 10 similarity is : 0.518104\n"
     ]
    },
    {
     "data": {
      "text/plain": [
       "[(4, 3.3251923577254852), (9, 3.3249807281901855), (8, 3.3212767383990696)]"
      ]
     },
     "execution_count": 101,
     "metadata": {},
     "output_type": "execute_result"
    }
   ],
   "source": [
    "recomend(dataArr, 1, simFunc=eulidSim, estMethod=svdEstimate)"
   ]
  },
  {
   "cell_type": "markdown",
   "metadata": {},
   "source": [
    "## A real case: image compress"
   ]
  },
  {
   "cell_type": "code",
   "execution_count": 145,
   "metadata": {
    "collapsed": true
   },
   "outputs": [],
   "source": [
    "def printArr(inArr, threshold=0.8):\n",
    "    m, n = inArr.shape\n",
    "    for i in range(m):\n",
    "        sprint = ''\n",
    "        for j in range(n):\n",
    "            if float(inArr[i,j]) > threshold:\n",
    "                sprint += '1'\n",
    "            else:\n",
    "                sprint += '0'\n",
    "        print(sprint)"
   ]
  },
  {
   "cell_type": "code",
   "execution_count": 154,
   "metadata": {
    "collapsed": false
   },
   "outputs": [
    {
     "name": "stdout",
     "output_type": "stream",
     "text": [
      "(32, 32)\n",
      "original matrix:\n",
      "00000000000000110000000000000000\n",
      "00000000000011111100000000000000\n",
      "00000000000111111110000000000000\n",
      "00000000001111111111000000000000\n",
      "00000000111111111111100000000000\n",
      "00000001111111111111110000000000\n",
      "00000000111111111111111000000000\n",
      "00000000111111100001111100000000\n",
      "00000001111111000001111100000000\n",
      "00000011111100000000111100000000\n",
      "00000011111100000000111110000000\n",
      "00000011111100000000011110000000\n",
      "00000011111100000000011110000000\n",
      "00000001111110000000001111000000\n",
      "00000011111110000000001111000000\n",
      "00000011111100000000001111000000\n",
      "00000001111100000000001111000000\n",
      "00000011111100000000001111000000\n",
      "00000001111100000000001111000000\n",
      "00000001111100000000011111000000\n",
      "00000000111110000000001111100000\n",
      "00000000111110000000001111100000\n",
      "00000000111110000000001111100000\n",
      "00000000111110000000011111000000\n",
      "00000000111110000000111111000000\n",
      "00000000111111000001111110000000\n",
      "00000000011111111111111110000000\n",
      "00000000001111111111111110000000\n",
      "00000000001111111111111110000000\n",
      "00000000000111111111111000000000\n",
      "00000000000011111111110000000000\n",
      "00000000000000111111000000000000\n"
     ]
    }
   ],
   "source": [
    "# load data\n",
    "DATA_DIR = '../data/svd/'\n",
    "fr = open(DATA_DIR+'0_5.txt')\n",
    "img = []\n",
    "for line in fr.readlines():\n",
    "    line = line.strip()\n",
    "    newRow = []\n",
    "    for i in range(len(line)):\n",
    "        newRow.append(int(line[i]))\n",
    "    img.append(newRow)\n",
    "img = np.array(img)\n",
    "print(img.shape)\n",
    "print(\"original matrix:\")\n",
    "printArr(img)"
   ]
  },
  {
   "cell_type": "code",
   "execution_count": 159,
   "metadata": {
    "collapsed": false,
    "scrolled": true
   },
   "outputs": [
    {
     "name": "stdout",
     "output_type": "stream",
     "text": [
      "[ 0.62849327  0.84809829  0.89044201  0.92225372  0.94346124  0.95239395\n",
      "  0.96067484  0.96848838  0.9743196   0.97943047  0.98408721  0.98787129\n",
      "  0.99125731  0.99391059  0.99555759  0.99702034  0.99832518  0.99921147\n",
      "  0.9996952   1.          1.          1.          1.          1.          1.\n",
      "  1.          1.          1.          1.          1.          1.          1.        ]\n"
     ]
    },
    {
     "data": {
      "text/plain": [
       "[<matplotlib.lines.Line2D at 0x7fcbc3866b90>]"
      ]
     },
     "execution_count": 159,
     "metadata": {},
     "output_type": "execute_result"
    },
    {
     "data": {
      "image/png": "[encoded data removed]",
      "text/plain": [
       "<matplotlib.figure.Figure at 0x7fcbc3971910>"
      ]
     },
     "metadata": {},
     "output_type": "display_data"
    }
   ],
   "source": [
    "U, Sigma, VT = np.linalg.svd(np.mat(img))\n",
    "sigmaCumsum = np.cumsum(Sigma**2 / np.sum(Sigma**2))\n",
    "print( sigmaCumsum )\n",
    "plt.plot(sigmaCumsum)"
   ]
  },
  {
   "cell_type": "code",
   "execution_count": 166,
   "metadata": {
    "collapsed": false
   },
   "outputs": [
    {
     "name": "stdout",
     "output_type": "stream",
     "text": [
      "reconstruction image: \n",
      "00000000000000000000000000000000\n",
      "00000000000000111100000000000000\n",
      "00000000000000111110000000000000\n",
      "00000000000011111110000000000000\n",
      "00000000000111111111000000000000\n",
      "00000000001101111111110000000000\n",
      "00000000001111111111110000000000\n",
      "00000000011111000001111100000000\n",
      "00000000111100000000111100000000\n",
      "00000001111100000000011100000000\n",
      "00000011111100000000011100000000\n",
      "00000011111100000000001100000000\n",
      "00000011111100000000001100000000\n",
      "00000000111100000000001111000000\n",
      "00000001111100000000001111000000\n",
      "00000001111100000000001111000000\n",
      "00000001111100000000001111000000\n",
      "00000001111100000000001111000000\n",
      "00000001111100000000001111000000\n",
      "00000001111100000000001110000000\n",
      "00000000111110000000001111000000\n",
      "00000000111110000000001111000000\n",
      "00000000111110000000001111000000\n",
      "00000000111110000000001111000000\n",
      "00000000111110000000001110000000\n",
      "00000000111110000000111100000000\n",
      "00000000001111111111111000000000\n",
      "00000000001111111111110000000000\n",
      "00000000001111111111110000000000\n",
      "00000000000011111111110000000000\n",
      "00000000000011111111100000000000\n",
      "00000000000000111110000000000000\n"
     ]
    }
   ],
   "source": [
    "## reconstruction\n",
    "numSV = 4\n",
    "SigmaRecon = np.zeros((numSV, numSV))\n",
    "for i in range(numSV):\n",
    "    SigmaRecon[i,i] = Sigma[i]\n",
    "\n",
    "reconMat = U[:,:numSV] * SigmaRecon * VT[:numSV,:]\n",
    "print(\"reconstruction image: \")\n",
    "printArr(reconMat.A)"
   ]
  },
  {
   "cell_type": "code",
   "execution_count": null,
   "metadata": {
    "collapsed": true
   },
   "outputs": [],
   "source": []
  }
 ],
 "metadata": {
  "anaconda-cloud": {},
  "kernelspec": {
   "display_name": "Python [default]",
   "language": "python",
   "name": "python2"
  },
  "language_info": {
   "codemirror_mode": {
    "name": "ipython",
    "version": 2
   },
   "file_extension": ".py",
   "mimetype": "text/x-python",
   "name": "python",
   "nbconvert_exporter": "python",
   "pygments_lexer": "ipython2",
   "version": "2.7.12"
  }
 },
 "nbformat": 4,
 "nbformat_minor": 1
}
