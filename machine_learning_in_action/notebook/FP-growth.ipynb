{
 "cells": [
  {
   "cell_type": "code",
   "execution_count": 2,
   "metadata": {
    "collapsed": true
   },
   "outputs": [],
   "source": [
    "import numpy as np\n",
    "import matplotlib.pyplot as plt\n",
    "\n",
    "% matplotlib inline"
   ]
  },
  {
   "cell_type": "markdown",
   "metadata": {},
   "source": [
    "## Tree Node Class"
   ]
  },
  {
   "cell_type": "code",
   "execution_count": 3,
   "metadata": {
    "collapsed": false
   },
   "outputs": [],
   "source": [
    "class treeNode:\n",
    "    def __init__(self, nameVal, numOccurence, parentNode):\n",
    "        self.name = nameVal\n",
    "        self.count = numOccurence\n",
    "        self.nodeLink = None\n",
    "        self.parent = parentNode\n",
    "        self.children = {}\n",
    "    \n",
    "    def inc(self, numOccurence):\n",
    "        self.count += numOccurence\n",
    "    \n",
    "    def display(self, ind=1):\n",
    "        print(' '*ind + str(self.name)+' ' + str(self.count))\n",
    "        for child in self.children.values():\n",
    "            child.display(ind+1)"
   ]
  },
  {
   "cell_type": "code",
   "execution_count": 4,
   "metadata": {
    "collapsed": false
   },
   "outputs": [
    {
     "name": "stdout",
     "output_type": "stream",
     "text": [
      " pyramid 9\n",
      "  php 11\n",
      "  eye 13\n"
     ]
    }
   ],
   "source": [
    "root = treeNode('pyramid', 9, None)\n",
    "root.children['eye'] = treeNode('eye', 13, None)\n",
    "root.children['php'] = treeNode('php', 11, None)\n",
    "root.display()"
   ]
  },
  {
   "cell_type": "markdown",
   "metadata": {},
   "source": [
    "## Create Tree"
   ]
  },
  {
   "cell_type": "code",
   "execution_count": 21,
   "metadata": {
    "collapsed": true
   },
   "outputs": [],
   "source": [
    "def createTree(dataDic, minSup = 1):\n",
    "    # count the frequency for each item\n",
    "    headerTable = {}\n",
    "    for trans, count in dataDic.items():\n",
    "        for item in trans:\n",
    "            headerTable[item] = headerTable.get(item, 0) + count\n",
    "    \n",
    "    # filter the items whos frequency less than minSup\n",
    "    for k in headerTable.keys():\n",
    "        if headerTable[k] < minSup:\n",
    "            del headerTable[k]\n",
    "            \n",
    "    # get the frequent item set\n",
    "    freqItemsSet = set(headerTable.keys())\n",
    "    if(len(freqItemsSet) == 0):\n",
    "        return None, None\n",
    "    \n",
    "    # reshape the headerTable\n",
    "    for k in headerTable.keys():\n",
    "        headerTable[k] = [headerTable[k], None] # [the frequency of item, the first node in link list]\n",
    "    #print(headerTable)\n",
    "    # create tree\n",
    "    retTree = treeNode('Null Set', 1, None)\n",
    "    for trans, count in dataDic.items():\n",
    "        # sort the items in each transaction by the frequency\n",
    "        localDic = {} # localDic[item] = item frequency\n",
    "        for item in trans:\n",
    "            if item in freqItemsSet:\n",
    "                localDic[item] = headerTable[item][0]\n",
    "        if(len(localDic) > 0):\n",
    "            orderedItems = [ v[0] for v in sorted(localDic.items(), key = lambda p : p[1], reverse = True) ]\n",
    "            #print(orderedItems)\n",
    "            updateTree(orderedItems, retTree, headerTable, count) # insert new transaction into FP tree\n",
    "    \n",
    "    return retTree, headerTable\n",
    "        \n",
    "    \n",
    "def updateTree(items, retTree, headerTable, count):\n",
    "    # the first item \n",
    "    if items[0] in retTree.children:\n",
    "        retTree.children[items[0]].inc(count)\n",
    "    else:\n",
    "        retTree.children[items[0]] = treeNode(items[0], count, retTree)\n",
    "        if headerTable[items[0]][1] == None:\n",
    "            headerTable[items[0]][1] = retTree.children[items[0]]\n",
    "        else:\n",
    "            updateHeader(headerTable[items[0]][1], retTree.children[items[0]])\n",
    "    \n",
    "    # if there are any other node except the first item, insert into FP tree recursion\n",
    "    if len(items) > 1:\n",
    "        updateTree(items[1::], retTree.children[items[0]], headerTable, count)\n",
    "    \n",
    "def updateHeader(nodeToSim, targetNode):\n",
    "    while nodeToSim.nodeLink != None:\n",
    "        nodeToSim = nodeToSim.nodeLink\n",
    "    nodeToSim.nodeLink = targetNode"
   ]
  },
  {
   "cell_type": "code",
   "execution_count": 6,
   "metadata": {
    "collapsed": true
   },
   "outputs": [],
   "source": [
    "def loadSimpDataSet():\n",
    "    simpDat = [['r', 'z', 'h', 'j', 'p'],\n",
    "               ['z', 'y', 'x', 'w', 'v', 'u', 't', 's'],\n",
    "               ['z'],\n",
    "               ['r', 'x', 'n', 'o', 's'],\n",
    "               ['y', 'r', 'x', 'z', 'q', 't', 'p'],\n",
    "               ['y', 'z', 'x', 'e', 'q', 's', 't', 'm']]\n",
    "    return simpDat\n",
    "\n",
    "def createInitSet(dataList):\n",
    "    retDit = {}\n",
    "    for trans in dataList:\n",
    "        froz = frozenset(trans)\n",
    "        retDit[froz] = retDit.get(froz, 0) + 1\n",
    "    return retDit"
   ]
  },
  {
   "cell_type": "code",
   "execution_count": 7,
   "metadata": {
    "collapsed": false
   },
   "outputs": [
    {
     "data": {
      "text/plain": [
       "{frozenset({'e', 'm', 'q', 's', 't', 'x', 'y', 'z'}): 1,\n",
       " frozenset({'n', 'o', 'r', 's', 'x'}): 1,\n",
       " frozenset({'z'}): 1,\n",
       " frozenset({'s', 't', 'u', 'v', 'w', 'x', 'y', 'z'}): 1,\n",
       " frozenset({'p', 'q', 'r', 't', 'x', 'y', 'z'}): 1,\n",
       " frozenset({'h', 'j', 'p', 'r', 'z'}): 1}"
      ]
     },
     "execution_count": 7,
     "metadata": {},
     "output_type": "execute_result"
    }
   ],
   "source": [
    "dataList = loadSimpDataSet()\n",
    "dataDic = createInitSet(dataList)\n",
    "dataDic"
   ]
  },
  {
   "cell_type": "code",
   "execution_count": 8,
   "metadata": {
    "collapsed": false
   },
   "outputs": [
    {
     "name": "stdout",
     "output_type": "stream",
     "text": [
      "['z', 'x', 'y', 's', 't']\n",
      "['x', 's', 'r']\n",
      "['z', 'x', 'y', 's', 't']\n",
      "['z', 'x', 'y', 'r', 't']\n",
      "['z', 'r']\n",
      "['z']\n",
      " Null Set 1\n",
      "  x 1\n",
      "   s 1\n",
      "    r 1\n",
      "  z 5\n",
      "   x 3\n",
      "    y 3\n",
      "     s 2\n",
      "      t 2\n",
      "     r 1\n",
      "      t 1\n",
      "   r 1\n"
     ]
    }
   ],
   "source": [
    "fpTree, headTabel = createTree(dataDic, 3)\n",
    "fpTree.display()"
   ]
  },
  {
   "cell_type": "markdown",
   "metadata": {},
   "source": [
    "## Mining frequent tree"
   ]
  },
  {
   "cell_type": "code",
   "execution_count": 16,
   "metadata": {
    "collapsed": true
   },
   "outputs": [],
   "source": [
    "def ascendTree(leafNode, prefixPath):\n",
    "    if( leafNode.parent != None ):\n",
    "        prefixPath.append(leafNode.name)\n",
    "        ascendTree(leafNode.parent, prefixPath)\n",
    "\n",
    "def findPrefixPath(basePath, treeNode):\n",
    "    conditionalPaths = {}\n",
    "    while treeNode != None:\n",
    "        prefixPath = []\n",
    "        ascendTree(treeNode, prefixPath)\n",
    "        #print(prefixPath)\n",
    "        if len(prefixPath) > 1:\n",
    "            conditionalPaths[frozenset(prefixPath[1:])] = treeNode.count\n",
    "        treeNode = treeNode.nodeLink\n",
    "    return conditionalPaths\n",
    "\n",
    "def mineTree(inTree, headerTable, minSup, prefixItems, freqItemList):\n",
    "    bigL = [ v[0] for v in sorted(headerTable.items(), key=lambda p : p[1]) ]\n",
    "    for basePath in bigL:\n",
    "        newFreqSet = prefixItems.copy()\n",
    "        newFreqSet.add(basePath)\n",
    "        freqItemList.append(newFreqSet)\n",
    "        conditionalPaths = findPrefixPath(basePath, headerTable[basePath][1])\n",
    "        conditionalTree, conditionalHeadTable = createTree(conditionalPaths, minSup)\n",
    "        \n",
    "        if conditionalHeadTable != None:\n",
    "            mineTree(conditionalTree, conditionalHeadTable, minSup, newFreqSet, freqItemList)"
   ]
  },
  {
   "cell_type": "code",
   "execution_count": 18,
   "metadata": {
    "collapsed": false
   },
   "outputs": [
    {
     "name": "stdout",
     "output_type": "stream",
     "text": [
      "{frozenset(['z']): 3}\n",
      "{}\n",
      "{frozenset(['x', 's']): 1, frozenset(['z']): 1, frozenset(['y', 'x', 'z']): 1}\n"
     ]
    }
   ],
   "source": [
    "print(findPrefixPath('x', headTabel['x'][1]))\n",
    "print(findPrefixPath('z', headTabel['z'][1]))\n",
    "print(findPrefixPath('r', headTabel['r'][1]))"
   ]
  },
  {
   "cell_type": "code",
   "execution_count": 22,
   "metadata": {
    "collapsed": false
   },
   "outputs": [
    {
     "name": "stdout",
     "output_type": "stream",
     "text": [
      " Null Set 1\n",
      "  x 1\n",
      "   s 1\n",
      "    r 1\n",
      "  z 5\n",
      "   x 3\n",
      "    y 3\n",
      "     s 2\n",
      "      t 2\n",
      "     r 1\n",
      "      t 1\n",
      "   r 1\n",
      "\n",
      "\n",
      "[set(['t']), set(['y', 't']), set(['z', 't']), set(['x', 'z', 't']), set(['y', 'x', 'z', 't']), set(['y', 'z', 't']), set(['x', 't']), set(['y', 'x', 't']), set(['y']), set(['y', 'z']), set(['y', 'x', 'z']), set(['y', 'x']), set(['r']), set(['s']), set(['x', 's']), set(['x']), set(['x', 'z']), set(['z'])]\n"
     ]
    }
   ],
   "source": [
    "fpTree, headTabel = createTree(dataDic, 3)\n",
    "fpTree.display()\n",
    "freqItemList = []\n",
    "mineTree(fpTree, headTabel, 3, set([]), freqItemList)\n",
    "print('\\n')\n",
    "print(freqItemList)"
   ]
  },
  {
   "cell_type": "markdown",
   "metadata": {},
   "source": [
    "## A real case:"
   ]
  },
  {
   "cell_type": "code",
   "execution_count": 27,
   "metadata": {
    "collapsed": false
   },
   "outputs": [
    {
     "data": {
      "text/plain": [
       "[(frozenset({'1',\n",
       "             '1057',\n",
       "             '11',\n",
       "             '136',\n",
       "             '1601',\n",
       "             '259',\n",
       "             '3145',\n",
       "             '368',\n",
       "             '3957',\n",
       "             '4',\n",
       "             '4598',\n",
       "             '56',\n",
       "             '6',\n",
       "             '764',\n",
       "             '77'}),\n",
       "  1),\n",
       " (frozenset({'11', '40', '4674', '6'}), 1),\n",
       " (frozenset({'11', '1450', '2'}), 1),\n",
       " (frozenset({'1130',\n",
       "             '148',\n",
       "             '15030',\n",
       "             '1607',\n",
       "             '218',\n",
       "             '3297',\n",
       "             '5143',\n",
       "             '5688',\n",
       "             '6',\n",
       "             '7',\n",
       "             '772',\n",
       "             '838',\n",
       "             '885'}),\n",
       "  1),\n",
       " (frozenset({'1', '2131', '3'}), 1)]"
      ]
     },
     "execution_count": 27,
     "metadata": {},
     "output_type": "execute_result"
    }
   ],
   "source": [
    "DATA_DIR = \"data/fpGrowth/\"\n",
    "dataList = [line.split() for line in open(DATA_DIR + 'kosarak.dat').readlines()]\n",
    "dataDic = createInitSet(dataList)\n",
    "dataDic.items()[:5]"
   ]
  },
  {
   "cell_type": "code",
   "execution_count": 28,
   "metadata": {
    "collapsed": true
   },
   "outputs": [],
   "source": [
    "fpTree, headerTable = createTree(dataDic, 100000)"
   ]
  },
  {
   "cell_type": "code",
   "execution_count": 29,
   "metadata": {
    "collapsed": true
   },
   "outputs": [],
   "source": [
    "freqItemList = []\n",
    "mineTree(fpTree, headerTable, 100000, set([]), freqItemList)"
   ]
  },
  {
   "cell_type": "code",
   "execution_count": 30,
   "metadata": {
    "collapsed": false
   },
   "outputs": [
    {
     "data": {
      "text/plain": [
       "[{'1'},\n",
       " {'1', '6'},\n",
       " {'11'},\n",
       " {'11', '3'},\n",
       " {'11', '3', '6'},\n",
       " {'11', '6'},\n",
       " {'3'},\n",
       " {'3', '6'},\n",
       " {'6'}]"
      ]
     },
     "execution_count": 30,
     "metadata": {},
     "output_type": "execute_result"
    }
   ],
   "source": [
    "freqItemList"
   ]
  },
  {
   "cell_type": "code",
   "execution_count": null,
   "metadata": {
    "collapsed": true
   },
   "outputs": [],
   "source": []
  }
 ],
 "metadata": {
  "anaconda-cloud": {},
  "kernelspec": {
   "display_name": "Python [conda root]",
   "language": "python",
   "name": "conda-root-py"
  },
  "language_info": {
   "codemirror_mode": {
    "name": "ipython",
    "version": 2
   },
   "file_extension": ".py",
   "mimetype": "text/x-python",
   "name": "python",
   "nbconvert_exporter": "python",
   "pygments_lexer": "ipython2",
   "version": "2.7.12"
  }
 },
 "nbformat": 4,
 "nbformat_minor": 1
}
