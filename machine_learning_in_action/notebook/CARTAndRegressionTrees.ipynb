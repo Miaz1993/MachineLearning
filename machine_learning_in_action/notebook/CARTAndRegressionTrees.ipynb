{
 "cells": [
  {
   "cell_type": "code",
   "execution_count": 1,
   "metadata": {
    "collapsed": true
   },
   "outputs": [],
   "source": [
    "import numpy as np\n",
    "import matplotlib.pyplot as plt\n",
    "\n",
    "% matplotlib inline"
   ]
  },
  {
   "cell_type": "code",
   "execution_count": 2,
   "metadata": {
    "collapsed": true
   },
   "outputs": [],
   "source": [
    "DATA_ROOT = \"data/cart/\""
   ]
  },
  {
   "cell_type": "markdown",
   "metadata": {},
   "source": [
    "# Regression Tree"
   ]
  },
  {
   "cell_type": "markdown",
   "metadata": {
    "collapsed": true
   },
   "source": [
    "## basec function"
   ]
  },
  {
   "cell_type": "code",
   "execution_count": 3,
   "metadata": {
    "collapsed": true
   },
   "outputs": [],
   "source": [
    "def loadDataSet(filename):\n",
    "    dataList = []\n",
    "    fr = open(filename)\n",
    "    for line in fr.readlines():\n",
    "        lineList = line.split('\\t')\n",
    "        lineList = map(np.float, lineList)\n",
    "        dataList.append(lineList)\n",
    "    return np.array(dataList)\n",
    "\n",
    "def binSplitDataSet(dataArr, feature, value):\n",
    "    branch1 = dataArr[dataArr[:, feature] > value]\n",
    "    branch2 = dataArr[dataArr[:, feature] <= value]\n",
    "    return branch1, branch2"
   ]
  },
  {
   "cell_type": "code",
   "execution_count": 4,
   "metadata": {
    "collapsed": false
   },
   "outputs": [
    {
     "name": "stdout",
     "output_type": "stream",
     "text": [
      "('branch1', array([[ 0.,  1.,  0.,  0.]]))\n",
      "('branch2', array([[ 1.,  0.,  0.,  0.],\n",
      "       [ 0.,  0.,  1.,  0.],\n",
      "       [ 0.,  0.,  0.,  1.]]))\n"
     ]
    }
   ],
   "source": [
    "testArr = np.eye(4)\n",
    "branch1, branch2 = binSplitDataSet(testArr, 1, 0.5)\n",
    "print(\"branch1\", branch1)\n",
    "print(\"branch2\", branch2)"
   ]
  },
  {
   "cell_type": "markdown",
   "metadata": {},
   "source": [
    "## choose best split"
   ]
  },
  {
   "cell_type": "code",
   "execution_count": 5,
   "metadata": {
    "collapsed": true
   },
   "outputs": [],
   "source": [
    "def regLeaf(dataArr):\n",
    "    return dataArr[:,-1].mean() # the last colum is labels\n",
    "\n",
    "def regErr(dataArr):\n",
    "    targetValue = dataArr[:,-1]\n",
    "    #return np.sum((targetValue - np.mean(targetValue))**2)\n",
    "    # or\n",
    "    return np.var(targetValue) * len(targetValue)"
   ]
  },
  {
   "cell_type": "code",
   "execution_count": 6,
   "metadata": {
    "collapsed": false
   },
   "outputs": [],
   "source": [
    "def chooseBestSplit(dataArr, leafTypeFunc=regLeaf, errTpyeFunc=regErr, ops=(1,4)):\n",
    "    # node: the last column is target value\n",
    "    \n",
    "    toleranceE = ops[0]  # the mininum error threshold to stop split\n",
    "    toleranceN = ops[1]  # the minimum number of instance to stop split\n",
    "    if len(set(dataArr[:,-1])) == 1:\n",
    "        # all of target value are equal, stop split\n",
    "        return None, leafTypeFunc(dataArr)\n",
    "    \n",
    "    # iterate to find the best split position\n",
    "    m, n = dataArr.shape\n",
    "    errOrigin = errTpyeFunc(dataArr)\n",
    "    bestErr = np.inf\n",
    "    bestInd = 0\n",
    "    bestSplitVal = 0\n",
    "    for featInd in range(n-1):\n",
    "        for splitVal in set(dataArr[:,featInd]):\n",
    "            branch1, branch2 = binSplitDataSet(dataArr, featInd, splitVal)\n",
    "            if (len(branch1) < toleranceN) or (len(branch2) < toleranceN):\n",
    "                continue\n",
    "            tempErr = errTpyeFunc(branch1) + errTpyeFunc(branch2)\n",
    "            if tempErr < bestErr:\n",
    "                bestErr = tempErr\n",
    "                bestInd = featInd\n",
    "                bestSplitVal = splitVal\n",
    "                \n",
    "    if (errOrigin - bestErr) < toleranceE:\n",
    "        # the decreasing of error not very manifist significant, so stop split\n",
    "        return None, leafTypeFunc(dataArr)\n",
    "    \n",
    "    # split data set by best split position\n",
    "    branch1, branch2 = binSplitDataSet(dataArr, bestInd, bestSplitVal)\n",
    "    if (len(branch1) < toleranceN or len(branch2) < toleranceN):\n",
    "        return None, leafTypeFunc(dataArr)\n",
    "    \n",
    "    return bestInd, bestSplitVal"
   ]
  },
  {
   "cell_type": "markdown",
   "metadata": {},
   "source": [
    "## Create Tree"
   ]
  },
  {
   "cell_type": "code",
   "execution_count": 7,
   "metadata": {
    "collapsed": true
   },
   "outputs": [],
   "source": [
    "def createTree(dataArr, leafTypeFunc=regLeaf, errTpyeFunc=regErr, ops=(1,4)):\n",
    "    featInd, splitVal = chooseBestSplit(dataArr, leafTypeFunc, errTpyeFunc, ops)\n",
    "    if featInd == None : \n",
    "        return splitVal\n",
    "    \n",
    "    retTree = {}\n",
    "    retTree['splitInd'] = featInd\n",
    "    retTree['splitVal'] = splitVal\n",
    "    \n",
    "    branch1, branch2 = binSplitDataSet(dataArr, featInd, splitVal)\n",
    "    retTree['left'] = createTree(branch1, leafTypeFunc, errTpyeFunc, ops)\n",
    "    retTree['right'] = createTree(branch2, leafTypeFunc, errTpyeFunc, ops)\n",
    "    \n",
    "    return retTree"
   ]
  },
  {
   "cell_type": "markdown",
   "metadata": {},
   "source": [
    "## Test"
   ]
  },
  {
   "cell_type": "markdown",
   "metadata": {},
   "source": [
    "### Case - 1"
   ]
  },
  {
   "cell_type": "code",
   "execution_count": 20,
   "metadata": {
    "collapsed": false
   },
   "outputs": [
    {
     "name": "stdout",
     "output_type": "stream",
     "text": [
      "(200, 2)\n",
      "[[ 0.036098  0.155096]\n",
      " [ 0.993349  1.077553]\n",
      " [ 0.530897  0.893462]]\n"
     ]
    },
    {
     "data": {
      "text/plain": [
       "{'left': 1.0180967672413792,\n",
       " 'right': -0.044650285714285719,\n",
       " 'splitInd': 0,\n",
       " 'splitVal': 0.48813000000000001}"
      ]
     },
     "execution_count": 20,
     "metadata": {},
     "output_type": "execute_result"
    },
    {
     "data": {
      "image/png": "[encoded data removed]",
      "text/plain": [
       "<matplotlib.figure.Figure at 0x7fdd5e07ba90>"
      ]
     },
     "metadata": {},
     "output_type": "display_data"
    }
   ],
   "source": [
    "dataArr = loadDataSet(DATA_ROOT + 'ex00.txt')\n",
    "print(dataArr.shape)\n",
    "print(dataArr[:3,:])\n",
    "plt.scatter(dataArr[:,0], dataArr[:,1])\n",
    "plt.xlabel('0')\n",
    "plt.ylabel('1')\n",
    "createTree(dataArr) # 2 leaf node"
   ]
  },
  {
   "cell_type": "markdown",
   "metadata": {},
   "source": [
    "### Case-2"
   ]
  },
  {
   "cell_type": "code",
   "execution_count": 19,
   "metadata": {
    "collapsed": false
   },
   "outputs": [
    {
     "name": "stdout",
     "output_type": "stream",
     "text": [
      "(200, 2)\n",
      "[[ 0.409175  1.88318 ]\n",
      " [ 0.182603  0.063908]\n",
      " [ 0.663687  3.042257]]\n"
     ]
    },
    {
     "data": {
      "text/plain": [
       "{'left': {'left': {'left': 3.9871631999999999,\n",
       "   'right': 2.9836209534883724,\n",
       "   'splitInd': 0,\n",
       "   'splitVal': 0.79758300000000004},\n",
       "  'right': 1.980035071428571,\n",
       "  'splitInd': 0,\n",
       "  'splitVal': 0.58200200000000002},\n",
       " 'right': {'left': 1.0289583666666666,\n",
       "  'right': -0.023838155555555553,\n",
       "  'splitInd': 0,\n",
       "  'splitVal': 0.19783400000000001},\n",
       " 'splitInd': 0,\n",
       " 'splitVal': 0.39434999999999998}"
      ]
     },
     "execution_count": 19,
     "metadata": {},
     "output_type": "execute_result"
    },
    {
     "data": {
      "image/png": "[encoded data removed]",
      "text/plain": [
       "<matplotlib.figure.Figure at 0x7fdd5de36e10>"
      ]
     },
     "metadata": {},
     "output_type": "display_data"
    }
   ],
   "source": [
    "dataArr = loadDataSet(DATA_ROOT + 'ex0.txt')\n",
    "dataArr = dataArr[:,1::]\n",
    "print(dataArr.shape)\n",
    "print(dataArr[:3,:])\n",
    "plt.scatter(dataArr[:,0], dataArr[:,1])\n",
    "createTree(dataArr) # 5 leaf node"
   ]
  },
  {
   "cell_type": "markdown",
   "metadata": {},
   "source": [
    "## Tree pruning"
   ]
  },
  {
   "cell_type": "markdown",
   "metadata": {},
   "source": [
    "### pre-pruning"
   ]
  },
  {
   "cell_type": "code",
   "execution_count": null,
   "metadata": {
    "collapsed": true
   },
   "outputs": [],
   "source": []
  },
  {
   "cell_type": "markdown",
   "metadata": {},
   "source": [
    "### post-pruning"
   ]
  },
  {
   "cell_type": "code",
   "execution_count": 8,
   "metadata": {
    "collapsed": true
   },
   "outputs": [],
   "source": [
    "def isTree(obj):\n",
    "    return type(obj).__name__ == 'dict'\n",
    "\n",
    "def getMean(tree):\n",
    "    if isTree(tree['left']) :\n",
    "        tree['left'] = getMean(tree['left'])\n",
    "    if isTree(tree['right']):\n",
    "        tree['right'] = getMean(tree['right'])\n",
    "        \n",
    "    return (tree['left'] + tree['right'])/2.0\n",
    "\n",
    "\n",
    "def prune(tree, testDataArr):\n",
    "    if len(testDataArr) == 0: # #if we have no test data collapse the tree\n",
    "        return getMean(tree) \n",
    "    \n",
    "    if (not isTree(tree['left'])) and (not isTree(tree['right'])):\n",
    "        # leaf, try to merge\n",
    "        lDataArr, rDataArr = binSplitDataSet(testDataArr, tree['splitInd'], tree['splitVal'])\n",
    "        errLeft = np.sum(np.power(lDataArr[:,-1] - tree['left'], 2))\n",
    "        errRight = np.sum(np.power(rDataArr[:,-1] - tree['right'], 2))\n",
    "        errNoMerge = errLeft + errRight\n",
    "        treeMean = (tree['left'] + tree['right'])/2.0\n",
    "        errMerge = np.sum(np.power(testDataArr - treeMean, 2))\n",
    "        #print(errNoMerge, errMerge)\n",
    "        if errMerge < errNoMerge:\n",
    "            print (\"merging.....\")\n",
    "            return treeMean\n",
    "        else:\n",
    "            return tree\n",
    "    else: \n",
    "        lDataArr, rDataArr = binSplitDataSet(testDataArr, tree['splitInd'], tree['splitVal'])\n",
    "        if ( isTree(tree['left']) ):\n",
    "            tree['left'] = prune(tree['left'], lDataArr)\n",
    "        if ( isTree(tree['right']) ):\n",
    "            tree['right'] = prune(tree['right'], rDataArr)\n",
    "        return tree"
   ]
  },
  {
   "cell_type": "code",
   "execution_count": 39,
   "metadata": {
    "collapsed": false
   },
   "outputs": [
    {
     "name": "stdout",
     "output_type": "stream",
     "text": [
      "(200, 2)\n",
      "(200, 2)\n",
      "merging.....\n",
      "merging.....\n",
      "merging.....\n",
      "merging.....\n",
      "merging.....\n",
      "merging.....\n",
      "merging.....\n",
      "merging.....\n",
      "{'splitInd': 0, 'right': {'splitInd': 0, 'right': {'splitInd': 0, 'right': {'splitInd': 0, 'right': {'splitInd': 0, 'right': {'splitInd': 0, 'right': {'splitInd': 0, 'right': {'splitInd': 0, 'right': {'splitInd': 0, 'right': {'splitInd': 0, 'right': {'splitInd': 0, 'right': {'splitInd': 0, 'right': 0.64550600000000014, 'splitVal': 0.028545999999999998, 'left': {'splitInd': 0, 'right': 11.220098999999999, 'splitVal': 0.039913999999999998, 'left': 3.8553929999999998}}, 'splitVal': 0.044736999999999999, 'left': {'splitInd': 0, 'right': -13.731698, 'splitVal': 0.053763999999999999, 'left': {'splitInd': 0, 'right': -3.131497, 'splitVal': 0.055862000000000002, 'left': 6.6955669999999996}}}, 'splitVal': 0.061219000000000003, 'left': -15.160836}, 'splitVal': 0.068373000000000003, 'left': 15.824970500000001}, 'splitVal': 0.080060999999999993, 'left': -24.132225999999999}, 'splitVal': 0.084661, 'left': 37.820658999999999}, 'splitVal': 0.085111000000000006, 'left': {'splitInd': 0, 'right': {'splitInd': 0, 'right': {'splitInd': 0, 'right': -10.137104000000001, 'splitVal': 0.085873000000000005, 'left': -1.2931950000000001}, 'splitVal': 0.10796, 'left': -16.106164}, 'splitVal': 0.10880099999999999, 'left': 6.1965159999999999}}, 'splitVal': 0.124723, 'left': 22.891674999999999}, 'splitVal': 0.126833, 'left': {'splitInd': 0, 'right': -39.524461000000002, 'splitVal': 0.13062599999999999, 'left': {'splitInd': 0, 'right': {'splitInd': 0, 'right': {'splitInd': 0, 'right': {'splitInd': 0, 'right': {'splitInd': 0, 'right': 22.478290999999999, 'splitVal': 0.13183300000000001, 'left': {'splitInd': 0, 'right': -29.087463, 'splitVal': 0.13861899999999999, 'left': {'splitInd': 0, 'right': {'splitInd': 0, 'right': 7.3367839999999998, 'splitVal': 0.13988, 'left': 7.5573490000000003}, 'splitVal': 0.15606700000000001, 'left': {'splitInd': 0, 'right': {'splitInd': 0, 'right': 0.225886, 'splitVal': 0.156273, 'left': {'splitInd': 0, 'right': -27.405211000000001, 'splitVal': 0.164134, 'left': {'splitInd': 0, 'right': -6.5125060000000001, 'splitVal': 0.166431, 'left': -14.740059}}}, 'splitVal': 0.166765, 'left': {'splitInd': 0, 'right': {'splitInd': 0, 'right': 0.94634799999999997, 'splitVal': 0.17652300000000001, 'left': 18.208423}, 'splitVal': 0.19328200000000001, 'left': {'splitInd': 0, 'right': {'splitInd': 0, 'right': -2.6781804999999999, 'splitVal': 0.20216100000000001, 'left': -16.427370249999999}, 'splitVal': 0.21163299999999999, 'left': {'splitInd': 0, 'right': {'splitInd': 0, 'right': {'splitInd': 0, 'right': -1.273992, 'splitVal': 0.21832099999999999, 'left': -9.2558520000000009}, 'splitVal': 0.222271, 'left': {'splitInd': 0, 'right': 15.501642, 'splitVal': 0.22320000000000001, 'left': 19.425158}}, 'splitVal': 0.22847300000000001, 'left': {'splitInd': 0, 'right': {'splitInd': 0, 'right': -2.266273, 'splitVal': 0.228628, 'left': {'splitInd': 0, 'right': -30.812912000000001, 'splitVal': 0.22875100000000001, 'left': -9.601409499999999}}, 'splitVal': 0.25807000000000002, 'left': {'splitInd': 0, 'right': {'splitInd': 0, 'right': {'splitInd': 0, 'right': {'splitInd': 0, 'right': 2.5579230000000002, 'splitVal': 0.26463900000000001, 'left': 5.2805790000000004}, 'splitVal': 0.26492599999999999, 'left': -9.4575560000000003}, 'splitVal': 0.27386300000000002, 'left': 35.623745999999997}, 'splitVal': 0.28479399999999999, 'left': {'splitInd': 0, 'right': {'splitInd': 0, 'right': {'splitInd': 0, 'right': {'splitInd': 0, 'right': -14.391613, 'splitVal': 0.29074899999999998, 'left': -14.988279}, 'splitVal': 0.29599300000000001, 'left': -1.7983769999999999}, 'splitVal': 0.29710700000000001, 'left': -18.051317999999998}, 'splitVal': 0.30031799999999997, 'left': 8.8147249999999993}}}}}}}}}}, 'splitVal': 0.30913299999999999, 'left': {'splitInd': 0, 'right': -49.939515999999998, 'splitVal': 0.31095600000000001, 'left': {'splitInd': 0, 'right': -27.605423999999999, 'splitVal': 0.31830900000000001, 'left': -13.189242999999999}}}, 'splitVal': 0.32427400000000001, 'left': 22.286959625000001}, 'splitVal': 0.33518199999999998, 'left': {'splitInd': 0, 'right': {'splitInd': 0, 'right': {'splitInd': 0, 'right': -26.851234812500003, 'splitVal': 0.35072500000000001, 'left': -9.9938275000000001}, 'splitVal': 0.35679, 'left': -32.124495000000003}, 'splitVal': 0.37004199999999998, 'left': {'splitInd': 0, 'right': {'splitInd': 0, 'right': -8.2282969999999995, 'splitVal': 0.37350100000000003, 'left': {'splitInd': 0, 'right': 5.2411960000000004, 'splitVal': 0.37738300000000002, 'left': 13.583555}}, 'splitVal': 0.378965, 'left': -29.007783}}}, 'splitVal': 0.38203700000000002, 'left': {'splitInd': 0, 'right': {'splitInd': 0, 'right': 24.816941, 'splitVal': 0.385021, 'left': 21.578006999999999}, 'splitVal': 0.388789, 'left': {'splitInd': 0, 'right': {'splitInd': 0, 'right': {'splitInd': 0, 'right': 0.63593000000000011, 'splitVal': 0.40322799999999998, 'left': -26.419288999999999}, 'splitVal': 0.41251599999999999, 'left': {'splitInd': 0, 'right': 44.161493, 'splitVal': 0.41894300000000001, 'left': {'splitInd': 0, 'right': -21.594268, 'splitVal': 0.42671100000000001, 'left': {'splitInd': 0, 'right': 15.224266, 'splitVal': 0.42858200000000002, 'left': 19.745224}}}}, 'splitVal': 0.43765199999999999, 'left': {'splitInd': 0, 'right': {'splitInd': 0, 'right': -5.1081719999999997, 'splitVal': 0.44619599999999998, 'left': {'splitInd': 0, 'right': -28.724685000000001, 'splitVal': 0.45108700000000002, 'left': -20.360067000000001}}, 'splitVal': 0.45431199999999999, 'left': 6.4429250000000007}}}}}}, 'splitVal': 0.45576100000000003, 'left': -34.044555000000003}, 'splitVal': 0.457563, 'left': {'splitInd': 0, 'right': {'splitInd': 0, 'right': 17.171057000000001, 'splitVal': 0.46324100000000001, 'left': 30.051931}, 'splitVal': 0.465561, 'left': {'splitInd': 0, 'right': {'splitInd': 0, 'right': -23.777531, 'splitVal': 0.46567999999999998, 'left': -9.7129250000000003}, 'splitVal': 0.46738299999999999, 'left': {'splitInd': 0, 'right': 5.224234, 'splitVal': 0.48380299999999998, 'left': {'splitInd': 0, 'right': 27.729263, 'splitVal': 0.48738100000000001, 'left': {'splitInd': 0, 'right': 5.1493359999999999, 'splitVal': 0.487537, 'left': 11.924204}}}}}}, 'splitVal': 0.49917099999999998, 'left': {'splitInd': 0, 'right': {'splitInd': 0, 'right': {'splitInd': 0, 'right': {'splitInd': 0, 'right': {'splitInd': 0, 'right': {'splitInd': 0, 'right': {'splitInd': 0, 'right': 96.403373000000002, 'splitVal': 0.50854200000000005, 'left': 93.292828999999998}, 'splitVal': 0.508548, 'left': 101.075609}, 'splitVal': 0.51333200000000001, 'left': {'splitInd': 0, 'right': {'splitInd': 0, 'right': 116.17616200000001, 'splitVal': 0.51915, 'left': {'splitInd': 0, 'right': 124.795495, 'splitVal': 0.53194399999999997, 'left': 129.76674299999999}}, 'splitVal': 0.53351099999999996, 'left': {'splitInd': 0, 'right': {'splitInd': 0, 'right': {'splitInd': 0, 'right': 90.995536000000001, 'splitVal': 0.53783400000000003, 'left': 97.340526499999996}, 'splitVal': 0.546601, 'left': 83.114502000000002}, 'splitVal': 0.548539, 'left': {'splitInd': 0, 'right': {'splitInd': 0, 'right': 137.26757599999999, 'splitVal': 0.54981400000000002, 'left': 120.857321}, 'splitVal': 0.55379699999999998, 'left': {'splitInd': 0, 'right': 82.903944999999993, 'splitVal': 0.56030100000000005, 'left': {'splitInd': 0, 'right': {'splitInd': 0, 'right': {'splitInd': 0, 'right': {'splitInd': 0, 'right': {'splitInd': 0, 'right': 108.43539199999999, 'splitVal': 0.56932700000000003, 'left': 114.872056}, 'splitVal': 0.571214, 'left': 82.589327999999995}, 'splitVal': 0.58231100000000002, 'left': {'splitInd': 0, 'right': 125.295113, 'splitVal': 0.58541299999999996, 'left': 98.674874000000003}}, 'splitVal': 0.58980600000000005, 'left': 130.37852899999999}, 'splitVal': 0.59914199999999995, 'left': 93.521395999999996}}}}}}, 'splitVal': 0.60641699999999998, 'left': 168.180746}, 'splitVal': 0.61300399999999999, 'left': {'splitInd': 0, 'right': {'splitInd': 0, 'right': 76.917665, 'splitVal': 0.61886799999999997, 'left': 87.181863000000007}, 'splitVal': 0.62390900000000005, 'left': {'splitInd': 0, 'right': {'splitInd': 0, 'right': 105.970743, 'splitVal': 0.62482700000000002, 'left': 117.62834599999999}, 'splitVal': 0.62806099999999998, 'left': {'splitInd': 0, 'right': {'splitInd': 0, 'right': 93.645292999999995, 'splitVal': 0.632691, 'left': 91.656616999999997}, 'splitVal': 0.63799899999999998, 'left': 82.713621000000003}}}}, 'splitVal': 0.64051499999999995, 'left': {'splitInd': 0, 'right': 140.61394100000001, 'splitVal': 0.64237299999999997, 'left': {'splitInd': 0, 'right': 82.500765999999999, 'splitVal': 0.64270700000000003, 'left': {'splitInd': 0, 'right': {'splitInd': 0, 'right': {'splitInd': 0, 'right': 112.715799, 'splitVal': 0.65246199999999999, 'left': 115.687524}, 'splitVal': 0.66107300000000002, 'left': 121.98060700000001}, 'splitVal': 0.66532899999999995, 'left': {'splitInd': 0, 'right': {'splitInd': 0, 'right': {'splitInd': 0, 'right': {'splitInd': 0, 'right': 112.78136649999999, 'splitVal': 0.66645200000000004, 'left': {'splitInd': 0, 'right': 92.449663999999999, 'splitVal': 0.66785099999999997, 'left': {'splitInd': 0, 'right': 110.367074, 'splitVal': 0.68048600000000004, 'left': 112.378209}}}, 'splitVal': 0.68909900000000002, 'left': 120.521925}, 'splitVal': 0.69847199999999998, 'left': {'splitInd': 0, 'right': 92.470635999999999, 'splitVal': 0.69891999999999999, 'left': {'splitInd': 0, 'right': 115.58660500000001, 'splitVal': 0.69987299999999997, 'left': {'splitInd': 0, 'right': 105.062147, 'splitVal': 0.70638999999999996, 'left': 106.18042699999999}}}}, 'splitVal': 0.70696099999999995, 'left': {'splitInd': 0, 'right': 135.41676699999999, 'splitVal': 0.70889000000000002, 'left': {'splitInd': 0, 'right': {'splitInd': 0, 'right': 108.55391899999999, 'splitVal': 0.71023400000000003, 'left': 103.345308}, 'splitVal': 0.71621100000000004, 'left': 110.90282999999999}}}}}}}, 'splitVal': 0.72939699999999996, 'left': {'splitInd': 0, 'right': {'splitInd': 0, 'right': {'splitInd': 0, 'right': 83.842978500000001, 'splitVal': 0.74085900000000005, 'left': {'splitInd': 0, 'right': 63.549854000000003, 'splitVal': 0.75752699999999995, 'left': 81.106762000000003}}, 'splitVal': 0.75950399999999996, 'left': {'splitInd': 0, 'right': 115.199195, 'splitVal': 0.76332800000000001, 'left': {'splitInd': 0, 'right': 64.041940999999994, 'splitVal': 0.76904300000000003, 'left': {'splitInd': 0, 'right': {'splitInd': 0, 'right': {'splitInd': 0, 'right': {'splitInd': 0, 'right': 100.838446, 'splitVal': 0.777582, 'left': 107.024467}, 'splitVal': 0.78557399999999999, 'left': 100.59882500000001}, 'splitVal': 0.78686500000000004, 'left': 114.4008695}, 'splitVal': 0.79031200000000001, 'left': {'splitInd': 0, 'right': {'splitInd': 0, 'right': {'splitInd': 0, 'right': 76.853728000000004, 'splitVal': 0.79819799999999996, 'left': 91.368472999999994}, 'splitVal': 0.79987299999999995, 'left': 62.877698000000002}, 'splitVal': 0.80615800000000004, 'left': {'splitInd': 0, 'right': {'splitInd': 0, 'right': {'splitInd': 0, 'right': 112.981216, 'splitVal': 0.81136299999999995, 'left': 99.841379000000003}, 'splitVal': 0.81160200000000005, 'left': 118.319942}, 'splitVal': 0.81521500000000002, 'left': {'splitInd': 0, 'right': {'splitInd': 0, 'right': {'splitInd': 0, 'right': 70.054507999999998, 'splitVal': 0.81972199999999995, 'left': 59.342323}, 'splitVal': 0.82384800000000002, 'left': 76.723834999999994}, 'splitVal': 0.83302600000000004, 'left': {'splitInd': 0, 'right': {'splitInd': 0, 'right': 134.089674, 'splitVal': 0.83858699999999997, 'left': 115.669032}, 'splitVal': 0.84154700000000005, 'left': {'splitInd': 0, 'right': 60.552307999999996, 'splitVal': 0.84162499999999996, 'left': {'splitInd': 0, 'right': {'splitInd': 0, 'right': {'splitInd': 0, 'right': 95.893130999999997, 'splitVal': 0.84294000000000002, 'left': {'splitInd': 0, 'right': 76.240983999999997, 'splitVal': 0.84721900000000006, 'left': 89.20993}}, 'splitVal': 0.85497000000000001, 'left': {'splitInd': 0, 'right': {'splitInd': 0, 'right': {'splitInd': 0, 'right': {'splitInd': 0, 'right': {'splitInd': 0, 'right': {'splitInd': 0, 'right': {'splitInd': 0, 'right': {'splitInd': 0, 'right': {'splitInd': 0, 'right': {'splitInd': 0, 'right': {'splitInd': 0, 'right': 107.166848, 'splitVal': 0.85642099999999999, 'left': 94.402101999999999}, 'splitVal': 0.86645099999999997, 'left': 111.552716}, 'splitVal': 0.87219899999999995, 'left': {'splitInd': 0, 'right': {'splitInd': 0, 'right': 95.887711999999993, 'splitVal': 0.87288299999999996, 'left': 95.348184000000003}, 'splitVal': 0.88361500000000004, 'left': {'splitInd': 0, 'right': 108.045948, 'splitVal': 0.88567600000000002, 'left': 94.896354000000002}}}, 'splitVal': 0.88842600000000005, 'left': 82.436685999999995}, 'splitVal': 0.89299899999999999, 'left': {'splitInd': 0, 'right': {'splitInd': 0, 'right': 107.00162, 'splitVal': 0.89668300000000001, 'left': 109.188248}, 'splitVal': 0.90069900000000003, 'left': 100.133819}}, 'splitVal': 0.90142100000000003, 'left': 87.300624999999997}, 'splitVal': 0.90144400000000002, 'left': {'splitInd': 0, 'right': 118.513475, 'splitVal': 0.90862900000000002, 'left': 106.814667}}, 'splitVal': 0.91097499999999998, 'left': {'splitInd': 0, 'right': 85.005351000000005, 'splitVal': 0.912161, 'left': {'splitInd': 0, 'right': 96.717609999999993, 'splitVal': 0.91526300000000005, 'left': 92.074618999999998}}}, 'splitVal': 0.92578199999999999, 'left': 115.75399400000001}, 'splitVal': 0.93485300000000005, 'left': 65.548417999999998}, 'splitVal': 0.93652400000000002, 'left': {'splitInd': 0, 'right': 119.94982400000001, 'splitVal': 0.93776599999999999, 'left': 100.12025300000001}}}, 'splitVal': 0.94422099999999998, 'left': {'splitInd': 0, 'right': 69.318648999999994, 'splitVal': 0.94882200000000005, 'left': {'splitInd': 0, 'right': 105.75250800000001, 'splitVal': 0.94919799999999999, 'left': {'splitInd': 0, 'right': 73.520802000000003, 'splitVal': 0.95237700000000003, 'left': 100.649591}}}}}}}}}}}}}, 'splitVal': 0.95283300000000004, 'left': {'splitInd': 0, 'right': {'splitInd': 0, 'right': {'splitInd': 0, 'right': 130.92648, 'splitVal': 0.95390200000000003, 'left': 91.476165000000009}, 'splitVal': 0.956951, 'left': {'splitInd': 0, 'right': 135.83701300000001, 'splitVal': 0.95851200000000003, 'left': {'splitInd': 0, 'right': 123.559747, 'splitVal': 0.96039799999999997, 'left': 112.386764}}}, 'splitVal': 0.96596899999999997, 'left': {'splitInd': 0, 'right': 98.648346000000004, 'splitVal': 0.96862099999999995, 'left': 86.399636999999998}}}}}\n"
     ]
    }
   ],
   "source": [
    "trainDataArr = loadDataSet(DATA_ROOT + 'ex2.txt')\n",
    "print(trainDataArr.shape)\n",
    "testDataArr = loadDataSet(DATA_ROOT + 'ex2test.txt')\n",
    "print(testDataArr.shape)\n",
    "treeDic = createTree(trainDataArr, ops=(0,1))\n",
    "treePruned = prune(treeDic, testDataArr)\n",
    "print(treePruned)"
   ]
  },
  {
   "cell_type": "markdown",
   "metadata": {},
   "source": [
    "# Model Tree"
   ]
  },
  {
   "cell_type": "code",
   "execution_count": 9,
   "metadata": {
    "collapsed": true
   },
   "outputs": [],
   "source": [
    "def linearSolve(dataArr):\n",
    "    m, n = dataArr.shape\n",
    "    X = np.ones((m,n))\n",
    "    y = np.ones(m)\n",
    "    X[:,1:n] = dataArr[:,:-1]\n",
    "    y = dataArr[:,-1]\n",
    "    X = np.mat(X)\n",
    "    y = np.mat(y).T\n",
    "    \n",
    "    xTx = X.T * X\n",
    "    if np.linalg.det(xTx) == 0:\n",
    "        raise NameError(\"This matrix is singular, cannot do inverse, \\n\\ try increasing the second value of ops\")\n",
    "    \n",
    "    wHat = xTx.I * (X.T * y)\n",
    "    return wHat.A, X.A, y.A\n",
    "\n",
    "def modelLeaf(dataArr):\n",
    "    wHat, _, _ = linearSolve(dataArr)\n",
    "    return wHat\n",
    "\n",
    "def modelErr(dataArr):\n",
    "    wHat, X, y, = linearSolve(dataArr)\n",
    "    yHat = np.mat(X)*np.mat(wHat)\n",
    "    return np.sum(np.power(y-yHat.A, 2))"
   ]
  },
  {
   "cell_type": "code",
   "execution_count": 51,
   "metadata": {
    "collapsed": false
   },
   "outputs": [
    {
     "data": {
      "text/plain": [
       "<matplotlib.text.Text at 0x7fdd5da9d550>"
      ]
     },
     "execution_count": 51,
     "metadata": {},
     "output_type": "execute_result"
    },
    {
     "data": {
      "image/png": "[encoded data removed]",
      "text/plain": [
       "<matplotlib.figure.Figure at 0x7fdd5da920d0>"
      ]
     },
     "metadata": {},
     "output_type": "display_data"
    }
   ],
   "source": [
    "dataArr = loadDataSet(DATA_ROOT + 'exp2.txt')\n",
    "plt.scatter(dataArr[:,0], dataArr[:,1])\n",
    "plt.xlabel('dim-0')\n",
    "plt.ylabel('dim-1')"
   ]
  },
  {
   "cell_type": "code",
   "execution_count": 83,
   "metadata": {
    "collapsed": false
   },
   "outputs": [
    {
     "data": {
      "text/plain": [
       "{'left': array([[  1.69855694e-03],\n",
       "        [  1.19647739e+01]]), 'right': array([[ 3.46877936],\n",
       "        [ 1.18521743]]), 'splitInd': 0, 'splitVal': 0.28547699999999998}"
      ]
     },
     "execution_count": 83,
     "metadata": {},
     "output_type": "execute_result"
    }
   ],
   "source": [
    "modelTree = createTree(dataArr, modelLeaf, modelErr, ops=(1,10))\n",
    "modelTree"
   ]
  },
  {
   "cell_type": "markdown",
   "metadata": {},
   "source": [
    "# Compare CART with standar linear regression"
   ]
  },
  {
   "cell_type": "code",
   "execution_count": 72,
   "metadata": {
    "collapsed": true
   },
   "outputs": [],
   "source": [
    "def regTreeEval(model, inData):\n",
    "    return model\n",
    "\n",
    "def modelTreeEval(model, inData):\n",
    "    model = np.mat(model)\n",
    "    \n",
    "    n = len(model)\n",
    "    X = np.mat(np.ones([1, n]))\n",
    "#     print(X.shape)\n",
    "#     print(inData.shape)\n",
    "#     print(inData[:-1])\n",
    "    X[:,1::] = inData[:-1]\n",
    "    return np.float(X*model)\n",
    "\n",
    "def treeForecast(tree, inData, modelEvalFunc = regTreeEval):\n",
    "    if not isTree(tree): # leaf\n",
    "        return modelEvalFunc(tree, inData)\n",
    "    \n",
    "    if (inData[tree['splitInd']] > tree['splitVal']): # left tree\n",
    "        if isTree(tree['left']):\n",
    "            return treeForecast(tree['left'], inData, modelEvalFunc)\n",
    "        else:\n",
    "            return modelEvalFunc(tree['left'], inData)\n",
    "    else:\n",
    "        # right tree\n",
    "        if isTree(tree['right']):\n",
    "            return treeForecast(tree['right'], inData, modelEvalFunc)\n",
    "        else:\n",
    "            return modelEvalFunc(tree['right'], inData)\n",
    "\n",
    "def createForecast(tree, testDataArr, modelEvalFunc = regTreeEval):\n",
    "    m = len(testDataArr)\n",
    "    yHat = np.zeros(m)\n",
    "    for i in range(m):\n",
    "        yHat[i] = treeForecast(tree, testDataArr[i], modelEvalFunc)\n",
    "    return yHat"
   ]
  },
  {
   "cell_type": "code",
   "execution_count": 74,
   "metadata": {
    "collapsed": false
   },
   "outputs": [
    {
     "name": "stdout",
     "output_type": "stream",
     "text": [
      "{'splitInd': 0, 'right': {'splitInd': 0, 'right': {'splitInd': 0, 'right': 50.946836650000002, 'splitVal': 5.0, 'left': 69.02117757692308}, 'splitVal': 7.0, 'left': 94.706657812499998}, 'splitVal': 10.0, 'left': {'splitInd': 0, 'right': {'splitInd': 0, 'right': 122.90893026923078, 'splitVal': 14.0, 'left': 141.06067981481482}, 'splitVal': 17.0, 'left': {'splitInd': 0, 'right': 157.04840788461539, 'splitVal': 20.0, 'left': 168.34161286956524}}}\n",
      "\n",
      "correlation coeficent : \n",
      "[[ 1.          0.96408523]\n",
      " [ 0.96408523  1.        ]]\n"
     ]
    }
   ],
   "source": [
    "## regression tree\n",
    "trainDataArr = loadDataSet(DATA_ROOT + 'bikeSpeedVsIq_train.txt')\n",
    "testDataArr = loadDataSet(DATA_ROOT + 'bikeSpeedVsIq_test.txt')\n",
    "tree = createTree(trainDataArr, regLeaf, regErr, (1,20))\n",
    "print(tree)\n",
    "\n",
    "yHat = createForecast(tree, testDataArr, regTreeEval)\n",
    "print(\"\\ncorrelation coeficent : \")\n",
    "print(np.corrcoef(yHat, testDataArr[:,-1]))"
   ]
  },
  {
   "cell_type": "code",
   "execution_count": 75,
   "metadata": {
    "collapsed": false
   },
   "outputs": [
    {
     "name": "stdout",
     "output_type": "stream",
     "text": [
      "(200, 2)\n",
      "(200, 2)\n",
      "{'splitInd': 0, 'right': array([[ 68.87014372],\n",
      "       [-11.78556471]]), 'splitVal': 4.0, 'left': {'splitInd': 0, 'right': {'splitInd': 0, 'right': {'splitInd': 0, 'right': array([[-17.21714265],\n",
      "       [ 13.72153115]]), 'splitVal': 6.0, 'left': array([[-11.84548851],\n",
      "       [ 12.12382261]])}, 'splitVal': 9.0, 'left': array([[ -2.87684083],\n",
      "       [ 10.20804482]])}, 'splitVal': 12.0, 'left': {'splitInd': 0, 'right': array([[ 43.41251481],\n",
      "       [  6.37966738]]), 'splitVal': 16.0, 'left': {'splitInd': 0, 'right': array([[ 37.54851927],\n",
      "       [  6.23298637]]), 'splitVal': 20.0, 'left': array([[ 47.58621512],\n",
      "       [  5.51066299]])}}}}\n",
      "\n",
      "correlation coeficent : \n",
      "[[ 1.          0.97604122]\n",
      " [ 0.97604122  1.        ]]\n"
     ]
    }
   ],
   "source": [
    "## model tree\n",
    "trainDataArr = loadDataSet(DATA_ROOT + 'bikeSpeedVsIq_train.txt')\n",
    "print(trainDataArr.shape)\n",
    "testDataArr = loadDataSet(DATA_ROOT + 'bikeSpeedVsIq_test.txt')\n",
    "print(testDataArr.shape)\n",
    "tree = createTree(trainDataArr, modelLeaf, modelErr, (1,20))\n",
    "print(tree)\n",
    "\n",
    "yHat = createForecast(tree, testDataArr, modelTreeEval)\n",
    "print(\"\\ncorrelation coeficent : \")\n",
    "print(np.corrcoef(yHat, testDataArr[:,-1]))"
   ]
  },
  {
   "cell_type": "code",
   "execution_count": 112,
   "metadata": {
    "collapsed": false
   },
   "outputs": [
    {
     "name": "stdout",
     "output_type": "stream",
     "text": [
      "(200, 2)\n",
      "(200, 2)\n",
      "\n",
      "\n",
      "[[ 1.          0.94346842]\n",
      " [ 0.94346842  1.        ]]\n"
     ]
    }
   ],
   "source": [
    "## standar linear regression\n",
    "trainDataArr = loadDataSet(DATA_ROOT + 'bikeSpeedVsIq_train.txt')\n",
    "print(trainDataArr.shape)\n",
    "testDataArr = loadDataSet(DATA_ROOT + 'bikeSpeedVsIq_test.txt')\n",
    "print(testDataArr.shape)\n",
    "print(\"\\n\")\n",
    "\n",
    "wHat, X, y = linearSolve(trainDataArr)\n",
    "#print(wHat)\n",
    "yHat = []\n",
    "#wHat = np.mat(wHat)\n",
    "#print(wHat.shape)\n",
    "n = len(wHat)\n",
    "for i in range(len(testDataArr)):\n",
    "    XTest = np.ones([1, n])\n",
    "    XTest[0,1::] = testDataArr[i,:-1]\n",
    "    #print(XTest)\n",
    "    XTest = np.mat(XTest)\n",
    "    \n",
    "    temp = np.float(XTest*wHat)\n",
    "    yHat.append( temp )\n",
    "\n",
    "print(np.corrcoef(yHat, testDataArr[:,-1]))"
   ]
  },
  {
   "cell_type": "code",
   "execution_count": null,
   "metadata": {
    "collapsed": true
   },
   "outputs": [],
   "source": []
  }
 ],
 "metadata": {
  "anaconda-cloud": {},
  "kernelspec": {
   "display_name": "Python [default]",
   "language": "python",
   "name": "python2"
  },
  "language_info": {
   "codemirror_mode": {
    "name": "ipython",
    "version": 2
   },
   "file_extension": ".py",
   "mimetype": "text/x-python",
   "name": "python",
   "nbconvert_exporter": "python",
   "pygments_lexer": "ipython2",
   "version": "2.7.12"
  }
 },
 "nbformat": 4,
 "nbformat_minor": 1
}
