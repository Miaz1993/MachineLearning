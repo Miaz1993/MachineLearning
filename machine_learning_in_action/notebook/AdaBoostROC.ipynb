{
 "cells": [
  {
   "cell_type": "code",
   "execution_count": 1,
   "metadata": {
    "collapsed": true
   },
   "outputs": [],
   "source": [
    "import numpy as np\n",
    "import matplotlib.pyplot as plt\n",
    "\n",
    "% matplotlib inline"
   ]
  },
  {
   "cell_type": "code",
   "execution_count": 7,
   "metadata": {
    "collapsed": true
   },
   "outputs": [],
   "source": [
    "DATA_ROOT = \"../data/\""
   ]
  },
  {
   "cell_type": "code",
   "execution_count": 8,
   "metadata": {
    "collapsed": true
   },
   "outputs": [],
   "source": [
    "def loadSimData():\n",
    "    # for algorithm test\n",
    "    dataMat = np.array([[ 1. ,  2.1],\n",
    "        [ 2. ,  1.1],\n",
    "        [ 1.3,  1. ],\n",
    "        [ 1. ,  1. ],\n",
    "        [ 2. ,  1. ]], dtype='float')\n",
    "    classLabels = np.array([1.0, 1.0, -1.0, -1.0, 1.0], dtype='float')\n",
    "    return dataMat, classLabels "
   ]
  },
  {
   "cell_type": "code",
   "execution_count": 9,
   "metadata": {
    "collapsed": false
   },
   "outputs": [
    {
     "data": {
      "text/plain": [
       "1.0"
      ]
     },
     "execution_count": 9,
     "metadata": {},
     "output_type": "execute_result"
    }
   ],
   "source": [
    "min(dataMat[:,1])"
   ]
  },
  {
   "cell_type": "code",
   "execution_count": null,
   "metadata": {
    "collapsed": false
   },
   "outputs": [
    {
     "name": "stdout",
     "output_type": "stream",
     "text": [
      "[ 1.3  1. ]\n",
      "(2, 2)\n",
      "[[ 1.   2.1]\n",
      " [ 2.   1.1]\n",
      " [ 2.   1. ]]\n"
     ]
    },
    {
     "data": {
      "text/plain": [
       "<matplotlib.legend.Legend at 0x7f3b65303750>"
      ]
     },
     "execution_count": 10,
     "metadata": {},
     "output_type": "execute_result"
    }
   ],
   "source": [
    "dataMat, classLabels = loadSimData()\n",
    "uniqueClass = np.unique(classLabels)\n",
    "class1 = uniqueClass[0]\n",
    "class2 = uniqueClass[1]\n",
    "\n",
    "plt.figure()\n",
    "dataClass1 = dataMat[classLabels == class1, :]\n",
    "print(dataClass1[:,0])\n",
    "print(np.shape(dataClass1))\n",
    "plt.scatter(dataClass1[:,0], dataClass1[:,1], c='r', label = 'class1')\n",
    "dataClass2 = dataMat[classLabels == class2, :]\n",
    "print(dataClass2)\n",
    "plt.scatter(dataClass2[:,0], dataClass2[:,1], c='g', label = 'class2')\n",
    "plt.xlabel('x')\n",
    "plt.ylabel('y')\n",
    "plt.xlim([min(dataMat[:,0])-0.5, max(dataMat[:,0])+0.5 ])\n",
    "plt.ylim([min(dataMat[:,1])-0.5, max(dataMat[:,1])+0.5 ])\n",
    "plt.legend(loc='best')"
   ]
  },
  {
   "cell_type": "markdown",
   "metadata": {},
   "source": [
    "## weak classifier realization: one layer decistion tree (stump)"
   ]
  },
  {
   "cell_type": "code",
   "execution_count": 5,
   "metadata": {
    "collapsed": true
   },
   "outputs": [],
   "source": [
    "def stumpClassify(dataArr, dimen, threshVal, threshIneq):\n",
    "    retPredArr = np.ones((np.shape(dataArr)[0], 1))\n",
    "    if threshIneq == 'lt':\n",
    "        retPredArr[dataArr[:,dimen] <= threshVal] = -1\n",
    "    else:\n",
    "        retPredArr[dataArr[:,dimen] > threshVal] = -1\n",
    "    \n",
    "    return retPredArr\n",
    "\n",
    "def buildStump(dataArr, labelsArr, weights, numSteps = 10.0):\n",
    "    m, n = np.shape(dataArr)\n",
    "    labelsArr = labelsArr.reshape(len(labelsArr), 1)\n",
    "    print(labelsArr.shape)\n",
    "    bestStump = {}\n",
    "    bestClassEst = np.zeros((m, 1))\n",
    "    minError = np.inf\n",
    "    for i in range(n): # traverse each feature\n",
    "        rangeMin = min(dataArr[:,i])\n",
    "        rangeMax = max(dataArr[:,i])\n",
    "        stepSize = (rangeMax - rangeMin) / numSteps\n",
    "        for j in range(-1, np.int(numSteps)+1):\n",
    "            for inequal in ('lt', 'gt'):\n",
    "                threshVal = rangeMin + float(j)*stepSize\n",
    "                predicVal = stumpClassify(dataArr, i, threshVal, inequal)\n",
    "                errArr = np.ones((m, 1))\n",
    "                errArr[labelsArr == predicVal] = 0\n",
    "                errWeighted = np.sum(weights*errArr)\n",
    "                #print(\"dim = %d threshold = %.2f, inequal = %s, errWeighted = %.3f\" % (i, threshVal, inequal, errWeighted))\n",
    "                if errWeighted < minError:\n",
    "                    minError = errWeighted\n",
    "                    bestClassEst = predicVal\n",
    "                    bestStump['dim'] = i\n",
    "                    bestStump['thresh'] = threshVal\n",
    "                    bestStump['ineq'] = inequal\n",
    "    return bestStump, minError, bestClassEst"
   ]
  },
  {
   "cell_type": "code",
   "execution_count": 102,
   "metadata": {
    "collapsed": false,
    "scrolled": true
   },
   "outputs": [
    {
     "name": "stdout",
     "output_type": "stream",
     "text": [
      "(5, 1)\n",
      "dim = 0 threshold = 0.90, inequal = lt, errWeighted = 2.000\n",
      "dim = 0 threshold = 0.90, inequal = gt, errWeighted = 3.000\n",
      "dim = 0 threshold = 1.00, inequal = lt, errWeighted = 2.000\n",
      "dim = 0 threshold = 1.00, inequal = gt, errWeighted = 3.000\n",
      "dim = 0 threshold = 1.10, inequal = lt, errWeighted = 2.000\n",
      "dim = 0 threshold = 1.10, inequal = gt, errWeighted = 3.000\n",
      "dim = 0 threshold = 1.20, inequal = lt, errWeighted = 2.000\n",
      "dim = 0 threshold = 1.20, inequal = gt, errWeighted = 3.000\n",
      "dim = 0 threshold = 1.30, inequal = lt, errWeighted = 1.000\n",
      "dim = 0 threshold = 1.30, inequal = gt, errWeighted = 4.000\n",
      "dim = 0 threshold = 1.40, inequal = lt, errWeighted = 1.000\n",
      "dim = 0 threshold = 1.40, inequal = gt, errWeighted = 4.000\n",
      "dim = 0 threshold = 1.50, inequal = lt, errWeighted = 1.000\n",
      "dim = 0 threshold = 1.50, inequal = gt, errWeighted = 4.000\n",
      "dim = 0 threshold = 1.60, inequal = lt, errWeighted = 1.000\n",
      "dim = 0 threshold = 1.60, inequal = gt, errWeighted = 4.000\n",
      "dim = 0 threshold = 1.70, inequal = lt, errWeighted = 1.000\n",
      "dim = 0 threshold = 1.70, inequal = gt, errWeighted = 4.000\n",
      "dim = 0 threshold = 1.80, inequal = lt, errWeighted = 1.000\n",
      "dim = 0 threshold = 1.80, inequal = gt, errWeighted = 4.000\n",
      "dim = 0 threshold = 1.90, inequal = lt, errWeighted = 1.000\n",
      "dim = 0 threshold = 1.90, inequal = gt, errWeighted = 4.000\n",
      "dim = 0 threshold = 2.00, inequal = lt, errWeighted = 3.000\n",
      "dim = 0 threshold = 2.00, inequal = gt, errWeighted = 2.000\n",
      "dim = 1 threshold = 0.89, inequal = lt, errWeighted = 2.000\n",
      "dim = 1 threshold = 0.89, inequal = gt, errWeighted = 3.000\n",
      "dim = 1 threshold = 1.00, inequal = lt, errWeighted = 1.000\n",
      "dim = 1 threshold = 1.00, inequal = gt, errWeighted = 4.000\n",
      "dim = 1 threshold = 1.11, inequal = lt, errWeighted = 2.000\n",
      "dim = 1 threshold = 1.11, inequal = gt, errWeighted = 3.000\n",
      "dim = 1 threshold = 1.22, inequal = lt, errWeighted = 2.000\n",
      "dim = 1 threshold = 1.22, inequal = gt, errWeighted = 3.000\n",
      "dim = 1 threshold = 1.33, inequal = lt, errWeighted = 2.000\n",
      "dim = 1 threshold = 1.33, inequal = gt, errWeighted = 3.000\n",
      "dim = 1 threshold = 1.44, inequal = lt, errWeighted = 2.000\n",
      "dim = 1 threshold = 1.44, inequal = gt, errWeighted = 3.000\n",
      "dim = 1 threshold = 1.55, inequal = lt, errWeighted = 2.000\n",
      "dim = 1 threshold = 1.55, inequal = gt, errWeighted = 3.000\n",
      "dim = 1 threshold = 1.66, inequal = lt, errWeighted = 2.000\n",
      "dim = 1 threshold = 1.66, inequal = gt, errWeighted = 3.000\n",
      "dim = 1 threshold = 1.77, inequal = lt, errWeighted = 2.000\n",
      "dim = 1 threshold = 1.77, inequal = gt, errWeighted = 3.000\n",
      "dim = 1 threshold = 1.88, inequal = lt, errWeighted = 2.000\n",
      "dim = 1 threshold = 1.88, inequal = gt, errWeighted = 3.000\n",
      "dim = 1 threshold = 1.99, inequal = lt, errWeighted = 2.000\n",
      "dim = 1 threshold = 1.99, inequal = gt, errWeighted = 3.000\n",
      "dim = 1 threshold = 2.10, inequal = lt, errWeighted = 3.000\n",
      "dim = 1 threshold = 2.10, inequal = gt, errWeighted = 2.000\n"
     ]
    },
    {
     "data": {
      "text/plain": [
       "({'dim': 0, 'ineq': 'lt', 'thresh': 1.3}, 1.0, array([[-1.],\n",
       "        [ 1.],\n",
       "        [-1.],\n",
       "        [-1.],\n",
       "        [ 1.]]))"
      ]
     },
     "execution_count": 102,
     "metadata": {},
     "output_type": "execute_result"
    }
   ],
   "source": [
    "weights = np.ones((5,1))\n",
    "dataArr, labelsArr = loadSimData()\n",
    "buildStump(dataArr, labelsArr, weights)"
   ]
  },
  {
   "cell_type": "markdown",
   "metadata": {},
   "source": [
    "## Realization the AdaBoost Algorithm\n",
    "```\n",
    "    for each iteration:\n",
    "        find the best decision stump by 'buildStump()' function  \n",
    "        add the best decision stump into the whole array of week classifier  \n",
    "        calculate the 'alpha'  \n",
    "        update the vector of weights\n",
    "        update the aggregate class estimated value\n",
    "        \n",
    "        if error == 0.0:\n",
    "            break\n",
    "```"
   ]
  },
  {
   "cell_type": "code",
   "execution_count": 142,
   "metadata": {
    "collapsed": true
   },
   "outputs": [],
   "source": [
    "def adaBoostTrainDS(dataArr, labelsArr, numIter = 40):\n",
    "    weakClassifierList = []\n",
    "    labelsArr = labelsArr.reshape(len(labelsArr), 1)\n",
    "    m = dataArr.shape[0]\n",
    "    weights = np.ones((m,1))/m  # initial weight is 1/m\n",
    "    aggClassEst = np.zeros((m,1))\n",
    "    \n",
    "    for i in range(numIter):\n",
    "        bestStump, error, classEst = buildStump(dataArr, labelsArr, weights)\n",
    "        #print(\"weights: \", weights.T)\n",
    "        alpha = float( 0.5 * np.log( (1-error)/max(error, 1e-16) ) ) # max(error, 1e-16) avoid overflow\n",
    "        bestStump['alpha'] = alpha\n",
    "        weakClassifierList.append(bestStump)\n",
    "        #print(\"classEst\", classEst.T)\n",
    "        \n",
    "        # labelsArr * classEst = 1 : classify accurately , so exp(-1*alpha)\n",
    "        # labelsaRR * classEst = -1 : classify error, so exp(alpha)\n",
    "        expon = (-1*alpha*(labelsArr*classEst.reshape(len(classEst),1)))\n",
    "        weights = weights * np.exp(expon)\n",
    "        weights = weights / np.sum(weights)\n",
    "        \n",
    "        aggClassEst += alpha * classEst # vote class by weights\n",
    "        #print(\"aggClassEst: \", aggClassEst.T)\n",
    "        aggErrors = (np.sign(aggClassEst) != labelsArr) * np.ones((m, 1))\n",
    "        \n",
    "        errorRate = np.sum(aggErrors) / m\n",
    "        print(\"total error : \", errorRate)\n",
    "        \n",
    "        if errorRate == 0.0 : \n",
    "            break\n",
    "    \n",
    "    return weakClassifierList, aggClassEst"
   ]
  },
  {
   "cell_type": "code",
   "execution_count": 146,
   "metadata": {
    "collapsed": false
   },
   "outputs": [
    {
     "name": "stdout",
     "output_type": "stream",
     "text": [
      "(5, 1)\n",
      "('total error : ', 0.20000000000000001)\n",
      "(5, 1)\n",
      "('total error : ', 0.20000000000000001)\n",
      "(5, 1)\n",
      "('total error : ', 0.0)\n",
      "[{'dim': 0, 'ineq': 'lt', 'thresh': 1.3, 'alpha': 0.6931471805599453}, {'dim': 1, 'ineq': 'lt', 'thresh': 1.0, 'alpha': 0.9729550745276565}, {'dim': 0, 'ineq': 'lt', 'thresh': 0.90000000000000002, 'alpha': 0.8958797346140273}]\n"
     ]
    }
   ],
   "source": [
    "dataArr, labelsArr = loadSimData()\n",
    "weakClassifierList,_ = adaBoostTrainDS(dataArr, labelsArr)\n",
    "print(weakClassifierList)"
   ]
  },
  {
   "cell_type": "markdown",
   "metadata": {},
   "source": [
    "## AdaBoost classify for unseen data"
   ]
  },
  {
   "cell_type": "code",
   "execution_count": 147,
   "metadata": {
    "collapsed": true
   },
   "outputs": [],
   "source": [
    "def adaClassify(dataArr, classifierList):\n",
    "    dataArr = np.mat(dataArr)\n",
    "    m,n = dataArr.shape\n",
    "    aggClassEst = np.zeros((m,1))\n",
    "    for i in range(len(classifierList)):\n",
    "        classifier = classifierList[i]\n",
    "        classEst = stumpClassify(dataArr, \n",
    "                                 classifier['dim'], \n",
    "                                 classifier['thresh'], \n",
    "                                 classifier['ineq'])\n",
    "        aggClassEst += classifier['alpha'] * classEst\n",
    "        #print(aggClassEst.T)\n",
    "    \n",
    "    return np.sign(aggClassEst)"
   ]
  },
  {
   "cell_type": "code",
   "execution_count": 148,
   "metadata": {
    "collapsed": false
   },
   "outputs": [
    {
     "data": {
      "text/plain": [
       "array([[-1.]])"
      ]
     },
     "execution_count": 148,
     "metadata": {},
     "output_type": "execute_result"
    }
   ],
   "source": [
    "adaClassify([0,0], weakClassifierList)"
   ]
  },
  {
   "cell_type": "code",
   "execution_count": 149,
   "metadata": {
    "collapsed": false
   },
   "outputs": [
    {
     "data": {
      "text/plain": [
       "array([[-1.],\n",
       "       [ 1.]])"
      ]
     },
     "execution_count": 149,
     "metadata": {},
     "output_type": "execute_result"
    }
   ],
   "source": [
    "adaClassify([[0,0], [5,5]], weakClassifierList)"
   ]
  },
  {
   "cell_type": "markdown",
   "metadata": {},
   "source": [
    "## A real case :"
   ]
  },
  {
   "cell_type": "code",
   "execution_count": 6,
   "metadata": {
    "collapsed": true
   },
   "outputs": [],
   "source": [
    "def loadDataSet(filename):\n",
    "    numFeat = len( open(filename).readline().split('\\t') )\n",
    "    dataList = []\n",
    "    labelsList = []\n",
    "    fr = open(filename)\n",
    "    for line in fr.readlines():\n",
    "        curLineList = line.split('\\t')\n",
    "        attributeList = [ float(x) for x in curLineList[:-2]]\n",
    "        dataList.append(attributeList)\n",
    "        # map the original label \n",
    "        # 1 -> 1\n",
    "        # 0 -> -1\n",
    "        curLabel = float(curLineList[-1])\n",
    "        if curLabel == 1.0:\n",
    "            labelsList.append(curLabel)\n",
    "        else:\n",
    "            labelsList.append(-1.0)\n",
    "    return np.array(dataList), np.array(labelsList)"
   ]
  },
  {
   "cell_type": "code",
   "execution_count": 151,
   "metadata": {
    "collapsed": false,
    "scrolled": true
   },
   "outputs": [
    {
     "name": "stdout",
     "output_type": "stream",
     "text": [
      "[[   2.     1.    38.5   66.    28.     3.     3.     0.     2.     5.\n",
      "     4.     4.     0.     0.     0.     3.     5.    45.     8.4    0. ]\n",
      " [   1.     1.    39.2   88.    20.     0.     0.     4.     1.     3.\n",
      "     4.     2.     0.     0.     0.     4.     2.    50.    85.     2. ]\n",
      " [   2.     1.    38.3   40.    24.     1.     1.     3.     1.     3.\n",
      "     3.     1.     0.     0.     0.     1.     1.    33.     6.7    0. ]\n",
      " [   1.     9.    39.1  164.    84.     4.     1.     6.     2.     2.\n",
      "     4.     4.     1.     2.     5.     3.     0.    48.     7.2    3. ]\n",
      " [   2.     1.    37.3  104.    35.     0.     0.     6.     2.     0.\n",
      "     0.     0.     0.     0.     0.     0.     0.    74.     7.4    0. ]]\n",
      "[-1. -1.  1. -1. -1.]\n",
      "(299, 1)\n",
      "('total error : ', 0.28428093645484948)\n",
      "(299, 1)\n",
      "('total error : ', 0.28428093645484948)\n",
      "(299, 1)\n",
      "('total error : ', 0.24749163879598662)\n",
      "(299, 1)\n",
      "('total error : ', 0.24749163879598662)\n",
      "(299, 1)\n",
      "('total error : ', 0.25418060200668896)\n",
      "(299, 1)\n",
      "('total error : ', 0.24080267558528429)\n",
      "(299, 1)\n",
      "('total error : ', 0.24080267558528429)\n",
      "(299, 1)\n",
      "('total error : ', 0.22073578595317725)\n",
      "(299, 1)\n",
      "('total error : ', 0.24749163879598662)\n",
      "(299, 1)\n",
      "('total error : ', 0.23076923076923078)\n",
      "(299, 1)\n",
      "('total error : ', 0.24080267558528429)\n",
      "(299, 1)\n",
      "('total error : ', 0.21404682274247491)\n",
      "(299, 1)\n",
      "('total error : ', 0.22742474916387959)\n",
      "(299, 1)\n",
      "('total error : ', 0.21739130434782608)\n",
      "(299, 1)\n",
      "('total error : ', 0.22073578595317725)\n",
      "(299, 1)\n",
      "('total error : ', 0.21739130434782608)\n",
      "(299, 1)\n",
      "('total error : ', 0.22408026755852842)\n",
      "(299, 1)\n",
      "('total error : ', 0.22408026755852842)\n",
      "(299, 1)\n",
      "('total error : ', 0.23076923076923078)\n",
      "(299, 1)\n",
      "('total error : ', 0.22408026755852842)\n",
      "(299, 1)\n",
      "('total error : ', 0.21404682274247491)\n",
      "(299, 1)\n",
      "('total error : ', 0.20735785953177258)\n",
      "(299, 1)\n",
      "('total error : ', 0.22073578595317725)\n",
      "(299, 1)\n",
      "('total error : ', 0.21070234113712374)\n",
      "(299, 1)\n",
      "('total error : ', 0.20401337792642141)\n",
      "(299, 1)\n",
      "('total error : ', 0.20401337792642141)\n",
      "(299, 1)\n",
      "('total error : ', 0.20401337792642141)\n",
      "(299, 1)\n",
      "('total error : ', 0.20735785953177258)\n",
      "(299, 1)\n",
      "('total error : ', 0.21070234113712374)\n",
      "(299, 1)\n",
      "('total error : ', 0.21070234113712374)\n",
      "(299, 1)\n",
      "('total error : ', 0.20066889632107024)\n",
      "(299, 1)\n",
      "('total error : ', 0.21404682274247491)\n",
      "(299, 1)\n",
      "('total error : ', 0.20735785953177258)\n",
      "(299, 1)\n",
      "('total error : ', 0.22408026755852842)\n",
      "(299, 1)\n",
      "('total error : ', 0.21739130434782608)\n",
      "(299, 1)\n",
      "('total error : ', 0.22408026755852842)\n",
      "(299, 1)\n",
      "('total error : ', 0.21739130434782608)\n",
      "(299, 1)\n",
      "('total error : ', 0.21404682274247491)\n",
      "(299, 1)\n",
      "('total error : ', 0.20401337792642141)\n",
      "(299, 1)\n",
      "('total error : ', 0.20401337792642141)\n"
     ]
    }
   ],
   "source": [
    "dataArr, labelsArr = loadDataSet(DATA_ROOT + 'horseColicTraining.txt')\n",
    "print(dataArr[:5, :])\n",
    "print(labelsArr[:5])\n",
    "classifierList,_ = adaBoostTrainDS(dataArr, labelsArr)"
   ]
  },
  {
   "cell_type": "code",
   "execution_count": 152,
   "metadata": {
    "collapsed": false,
    "scrolled": true
   },
   "outputs": [
    {
     "name": "stdout",
     "output_type": "stream",
     "text": [
      "[[  2.    1.   38.5  54.   20.    0.    1.    2.    2.    3.    4.    1.\n",
      "    2.    2.    5.9   0.    2.   42.    6.3   0. ]\n",
      " [  2.    1.   37.6  48.   36.    0.    0.    1.    1.    0.    3.    0.\n",
      "    0.    0.    0.    0.    0.   44.    6.3   1. ]\n",
      " [  1.    1.   37.7  44.   28.    0.    4.    3.    2.    5.    4.    4.\n",
      "    1.    1.    0.    3.    5.   45.   70.    3. ]\n",
      " [  1.    1.   37.   56.   24.    3.    1.    4.    2.    4.    4.    3.\n",
      "    1.    1.    0.    0.    0.   35.   61.    3. ]\n",
      " [  2.    1.   38.   42.   12.    3.    0.    3.    1.    1.    0.    1.\n",
      "    0.    0.    0.    0.    2.   37.    5.8   0. ]]\n",
      "[ 1.  1.  1. -1.  1.]\n",
      "13.0\n",
      "0.194029850746\n"
     ]
    }
   ],
   "source": [
    "dataTestArr, labelsTestArr = loadDataSet(DATA_ROOT + 'horseColicTest.txt')\n",
    "print(dataTestArr[:5,:])\n",
    "print(labelsTestArr[:5])\n",
    "predClass = adaClassify(dataTestArr, classifierList)\n",
    "errArr = np.ones((len(predClass), 1))\n",
    "labelsTestArr = labelsTestArr.reshape(len(labelsTestArr), 1)\n",
    "errorNum = errArr[predClass != labelsTestArr].sum()\n",
    "errorRate = errorNum / len(predClass)\n",
    "print(errorNum)\n",
    "print(errorRate)"
   ]
  },
  {
   "cell_type": "markdown",
   "metadata": {
    "collapsed": true
   },
   "source": [
    "## non-uniform dataset & ROC "
   ]
  },
  {
   "cell_type": "code",
   "execution_count": 214,
   "metadata": {
    "collapsed": false
   },
   "outputs": [],
   "source": [
    "def plotROC(predStrengthsArr, classLabelsArr):\n",
    "    predStrengthsArr = np.array(predStrengthsArr)\n",
    "    classLabelsArr = np.array(classLabelsArr)\n",
    "   \n",
    "    numPositive = sum(classLabelsArr == 1)\n",
    "    numNegative = len(classLabelsArr) - numPositive\n",
    "    yStepSize = 1.0 / float(numPositive)\n",
    "    xStepSize = 1.0 / float(numNegative)\n",
    "    \n",
    "    print(\"numPositive : %d, numNegative: %d, yStepSize = %.2f, xStepSize = %.2f\"\n",
    "          % (numPositive, numNegative, yStepSize, xStepSize))\n",
    "    \n",
    "    sortedIndexs = predStrengthsArr.argsort()\n",
    "    \n",
    "    cur = (1.0, 1.0)  # start point to plot, all of elements are marked as positive \n",
    "    ySum = 0.0 # for AUC calculation\n",
    "    plt.figure()\n",
    "    plt.clf()\n",
    "    \n",
    "    for i in sortedIndexs: # iteration to add negative element\n",
    "        # [0...i] negative\n",
    "        # [i+1, .. end] positive\n",
    "        if classLabelsArr[i] == 1.0: \n",
    "            # error, positive instance is classified as negative\n",
    "            # which will lead the TPR decrease\n",
    "            delx = 0\n",
    "            dely = yStepSize\n",
    "        else: \n",
    "            # correct, negative instance is classified as positive\n",
    "            # which will lead the FPR decrease\n",
    "            delx = xStepSize\n",
    "            dely = 0\n",
    "            ySum += cur[1]\n",
    "        \n",
    "        plt.plot([cur[0], cur[0] - delx], [cur[1], cur[1] - dely], c='b') # line segment\n",
    "        cur = (cur[0]-delx, cur[1]-dely)\n",
    "    \n",
    "    plt.plot([0,1], [0,1], 'b--') # baseline\n",
    "    plt.xlabel(\"False Positive Rate (FPR)\")\n",
    "    plt.ylabel(\"True positive Rate (TPR)\")\n",
    "    plt.title(\"ROC\")\n",
    "    plt.xlim([0,1])\n",
    "    plt.ylim([0,1])\n",
    "    plt.show()\n",
    "    # for calculation of AUC:\n",
    "    # for each iteration appove we got a small rectangle with hight yi = cur[1] and wid xStepSize\n",
    "    # so the Area = [y0*xStepSize + y1*xStepSize + ... + yn*xStepSize] = [y0+y1+...+yn]*xStepSize = ySum*xStepSize\n",
    "    print(\"The Area Under the Curve (AUC) is :\", ySum*xStepSize)"
   ]
  },
  {
   "cell_type": "code",
   "execution_count": 153,
   "metadata": {
    "collapsed": false,
    "scrolled": true
   },
   "outputs": [
    {
     "name": "stdout",
     "output_type": "stream",
     "text": [
      "[[   2.     1.    38.5   66.    28.     3.     3.     0.     2.     5.\n",
      "     4.     4.     0.     0.     0.     3.     5.    45.     8.4    0. ]\n",
      " [   1.     1.    39.2   88.    20.     0.     0.     4.     1.     3.\n",
      "     4.     2.     0.     0.     0.     4.     2.    50.    85.     2. ]\n",
      " [   2.     1.    38.3   40.    24.     1.     1.     3.     1.     3.\n",
      "     3.     1.     0.     0.     0.     1.     1.    33.     6.7    0. ]\n",
      " [   1.     9.    39.1  164.    84.     4.     1.     6.     2.     2.\n",
      "     4.     4.     1.     2.     5.     3.     0.    48.     7.2    3. ]\n",
      " [   2.     1.    37.3  104.    35.     0.     0.     6.     2.     0.\n",
      "     0.     0.     0.     0.     0.     0.     0.    74.     7.4    0. ]]\n",
      "[-1. -1.  1. -1. -1.]\n",
      "(299, 1)\n",
      "('total error : ', 0.28428093645484948)\n",
      "(299, 1)\n",
      "('total error : ', 0.28428093645484948)\n",
      "(299, 1)\n",
      "('total error : ', 0.24749163879598662)\n",
      "(299, 1)\n",
      "('total error : ', 0.24749163879598662)\n",
      "(299, 1)\n",
      "('total error : ', 0.25418060200668896)\n",
      "(299, 1)\n",
      "('total error : ', 0.24080267558528429)\n",
      "(299, 1)\n",
      "('total error : ', 0.24080267558528429)\n",
      "(299, 1)\n",
      "('total error : ', 0.22073578595317725)\n",
      "(299, 1)\n",
      "('total error : ', 0.24749163879598662)\n",
      "(299, 1)\n",
      "('total error : ', 0.23076923076923078)\n",
      "(299, 1)\n",
      "('total error : ', 0.24080267558528429)\n",
      "(299, 1)\n",
      "('total error : ', 0.21404682274247491)\n",
      "(299, 1)\n",
      "('total error : ', 0.22742474916387959)\n",
      "(299, 1)\n",
      "('total error : ', 0.21739130434782608)\n",
      "(299, 1)\n",
      "('total error : ', 0.22073578595317725)\n",
      "(299, 1)\n",
      "('total error : ', 0.21739130434782608)\n",
      "(299, 1)\n",
      "('total error : ', 0.22408026755852842)\n",
      "(299, 1)\n",
      "('total error : ', 0.22408026755852842)\n",
      "(299, 1)\n",
      "('total error : ', 0.23076923076923078)\n",
      "(299, 1)\n",
      "('total error : ', 0.22408026755852842)\n",
      "(299, 1)\n",
      "('total error : ', 0.21404682274247491)\n",
      "(299, 1)\n",
      "('total error : ', 0.20735785953177258)\n",
      "(299, 1)\n",
      "('total error : ', 0.22073578595317725)\n",
      "(299, 1)\n",
      "('total error : ', 0.21070234113712374)\n",
      "(299, 1)\n",
      "('total error : ', 0.20401337792642141)\n",
      "(299, 1)\n",
      "('total error : ', 0.20401337792642141)\n",
      "(299, 1)\n",
      "('total error : ', 0.20401337792642141)\n",
      "(299, 1)\n",
      "('total error : ', 0.20735785953177258)\n",
      "(299, 1)\n",
      "('total error : ', 0.21070234113712374)\n",
      "(299, 1)\n",
      "('total error : ', 0.21070234113712374)\n",
      "(299, 1)\n",
      "('total error : ', 0.20066889632107024)\n",
      "(299, 1)\n",
      "('total error : ', 0.21404682274247491)\n",
      "(299, 1)\n",
      "('total error : ', 0.20735785953177258)\n",
      "(299, 1)\n",
      "('total error : ', 0.22408026755852842)\n",
      "(299, 1)\n",
      "('total error : ', 0.21739130434782608)\n",
      "(299, 1)\n",
      "('total error : ', 0.22408026755852842)\n",
      "(299, 1)\n",
      "('total error : ', 0.21739130434782608)\n",
      "(299, 1)\n",
      "('total error : ', 0.21404682274247491)\n",
      "(299, 1)\n",
      "('total error : ', 0.20401337792642141)\n",
      "(299, 1)\n",
      "('total error : ', 0.20401337792642141)\n"
     ]
    }
   ],
   "source": [
    "dataArr, labelsArr = loadDataSet(DATA_ROOT + 'horseColicTraining.txt')\n",
    "print(dataArr[:5, :])\n",
    "print(labelsArr[:5])\n",
    "classifierList, aggClassEst= adaBoostTrainDS(dataArr, labelsArr)"
   ]
  },
  {
   "cell_type": "code",
   "execution_count": 215,
   "metadata": {
    "collapsed": false,
    "scrolled": false
   },
   "outputs": [
    {
     "name": "stdout",
     "output_type": "stream",
     "text": [
      "numPositive : 178, numNegative: 121, yStepSize = 0.01, xStepSize = 0.01\n"
     ]
    },
    {
     "data": {
      "image/png": "[encoded data removed]",
      "text/plain": [
       "<matplotlib.figure.Figure at 0x7fe9891827d0>"
      ]
     },
     "metadata": {},
     "output_type": "display_data"
    },
    {
     "name": "stdout",
     "output_type": "stream",
     "text": [
      "('The Area Under the Curve (AUC) is :', 0.8918191104095093)\n"
     ]
    }
   ],
   "source": [
    "plotROC(aggClassEst[:,0], labelsArr)"
   ]
  },
  {
   "cell_type": "code",
   "execution_count": null,
   "metadata": {
    "collapsed": true
   },
   "outputs": [],
   "source": []
  }
 ],
 "metadata": {
  "anaconda-cloud": {},
  "kernelspec": {
   "display_name": "Python [default]",
   "language": "python",
   "name": "python2"
  },
  "language_info": {
   "codemirror_mode": {
    "name": "ipython",
    "version": 2
   },
   "file_extension": ".py",
   "mimetype": "text/x-python",
   "name": "python",
   "nbconvert_exporter": "python",
   "pygments_lexer": "ipython2",
   "version": "2.7.12"
  }
 },
 "nbformat": 4,
 "nbformat_minor": 1
}
