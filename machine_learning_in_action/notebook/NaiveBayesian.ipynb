{
 "cells": [
  {
   "cell_type": "code",
   "execution_count": 1,
   "metadata": {
    "collapsed": true
   },
   "outputs": [],
   "source": [
    "import numpy as np\n",
    "import matplotlib.pyplot as plt\n",
    "\n",
    "% matplotlib inline"
   ]
  },
  {
   "cell_type": "code",
   "execution_count": 2,
   "metadata": {
    "collapsed": true
   },
   "outputs": [],
   "source": [
    "def loadDataSet():                                                                                                                  \n",
    "    postingList=[['my', 'dog', 'has', 'flea', 'problems', 'help', 'please'],                                                        \n",
    "                 ['maybe', 'not', 'take', 'him', 'to', 'dog', 'park', 'stupid'],                                                    \n",
    "                 ['my', 'dalmation', 'is', 'so', 'cute', 'I', 'love', 'him'],                                                       \n",
    "                 ['stop', 'posting', 'stupid', 'worthless', 'garbage'],                                                             \n",
    "                 ['mr', 'licks', 'ate', 'my', 'steak', 'how', 'to', 'stop', 'him'],                                                 \n",
    "                 ['quit', 'buying', 'worthless', 'dog', 'food', 'stupid']]                                                          \n",
    "    classVec = [0,1,0,1,0,1]    #1 is abusive, 0 not                                                                                \n",
    "    return postingList,classVec   \n",
    "\n",
    "def createVocabList(dataSet):\n",
    "    vocabSet = set([])\n",
    "    for doc in dataSet:\n",
    "        vocabSet = vocabSet | set(doc)\n",
    "    return list(vocabSet)\n",
    "\n",
    "def setOfWords2Vec(vocabList, inputSet):\n",
    "    resVec = [0] * len(vocabList)\n",
    "    for word in inputSet:\n",
    "        if word in vocabList:\n",
    "            resVec[vocabList.index(word)] = 1\n",
    "        else:\n",
    "            print (\"the word: %s is not in my Vocabulary!\" % word)\n",
    "    return resVec"
   ]
  },
  {
   "cell_type": "code",
   "execution_count": 3,
   "metadata": {
    "collapsed": false
   },
   "outputs": [
    {
     "name": "stdout",
     "output_type": "stream",
     "text": [
      "['cute', 'love', 'help', 'garbage', 'quit', 'I', 'problems', 'is', 'park', 'stop', 'flea', 'dalmation', 'licks', 'food', 'not', 'him', 'buying', 'posting', 'has', 'worthless', 'ate', 'to', 'maybe', 'please', 'dog', 'how', 'stupid', 'so', 'take', 'mr', 'steak', 'my']\n",
      "[0, 0, 1, 0, 0, 0, 1, 0, 0, 0, 1, 0, 0, 0, 0, 0, 0, 0, 1, 0, 0, 0, 0, 1, 1, 0, 0, 0, 0, 0, 0, 1]\n"
     ]
    }
   ],
   "source": [
    "postingList, classVec = loadDataSet()\n",
    "vocabSet = createVocabList(postingList)\n",
    "print(vocabSet)\n",
    "vecDoc1 = setOfWords2Vec(vocabSet, postingList[0])\n",
    "print(vecDoc1)"
   ]
  },
  {
   "cell_type": "markdown",
   "metadata": {},
   "source": [
    "## NB classifier                                                                                        "
   ]
  },
  {
   "cell_type": "markdown",
   "metadata": {},
   "source": [
    "### train"
   ]
  },
  {
   "cell_type": "code",
   "execution_count": 4,
   "metadata": {
    "collapsed": true
   },
   "outputs": [],
   "source": [
    "def trainNB2Class(trainMatrix, trainClass):\n",
    "    numDocs = len(trainMatrix)\n",
    "    numWords = len(trainMatrix[0])\n",
    "    pAbusive = sum(trainClass) / float(numDocs)\n",
    "    \n",
    "    # original\n",
    "    #p1Num = np.zeros(numWords) \n",
    "    #p0Num = np.zeros(numWords)\n",
    "    #p1Denom = 0.0\n",
    "    #p0Denom = 0.0\n",
    "    \n",
    "    # improvement - avoid p(w0|ci)p(w1|ci)...p(wn|ci) = 0\n",
    "    p1Num = np.ones(numWords)\n",
    "    p0Num = np.ones(numWords)\n",
    "    p1Denom = 2.0\n",
    "    p0Denom = 2.0\n",
    "    \n",
    "    for i in range(numDocs):\n",
    "        if trainClass[i] == 1:\n",
    "            p1Num += trainMatrix[i]\n",
    "            p1Denom += sum(trainMatrix[i])\n",
    "        else:\n",
    "            p0Num += trainMatrix[i]\n",
    "            p0Denom += sum(trainMatrix[i])\n",
    "    \n",
    "    # original\n",
    "    #p1Vect = p1Num / p1Denom\n",
    "    #p0Vect = p0Num / p0Denom\n",
    "    \n",
    "    # improvement - avoid p(w0|ci)p(w1|ci)...p(wn|ci) too small to underflow\n",
    "    p1Vect = np.log(p1Num / p1Denom)\n",
    "    p0Vect = np.log(p0Num / p0Denom)\n",
    "    \n",
    "    return p0Vect, p1Vect, pAbusive\n",
    "\n",
    "# the original code calculate the real probability, which can be used to debugging\n",
    "# the improvement version will be used into real case"
   ]
  },
  {
   "cell_type": "code",
   "execution_count": 5,
   "metadata": {
    "collapsed": false
   },
   "outputs": [
    {
     "name": "stdout",
     "output_type": "stream",
     "text": [
      "[-2.56494936 -2.56494936 -2.56494936 -3.25809654 -3.25809654 -2.56494936\n",
      " -2.56494936 -2.56494936 -3.25809654 -2.56494936 -2.56494936 -2.56494936\n",
      " -2.56494936 -3.25809654 -3.25809654 -2.15948425 -3.25809654 -3.25809654\n",
      " -2.56494936 -3.25809654 -2.56494936 -2.56494936 -3.25809654 -2.56494936\n",
      " -2.56494936 -2.56494936 -3.25809654 -2.56494936 -3.25809654 -2.56494936\n",
      " -2.56494936 -1.87180218]\n",
      "[-3.04452244 -3.04452244 -3.04452244 -2.35137526 -2.35137526 -3.04452244\n",
      " -3.04452244 -3.04452244 -2.35137526 -2.35137526 -3.04452244 -3.04452244\n",
      " -3.04452244 -2.35137526 -2.35137526 -2.35137526 -2.35137526 -2.35137526\n",
      " -3.04452244 -1.94591015 -3.04452244 -2.35137526 -2.35137526 -3.04452244\n",
      " -1.94591015 -3.04452244 -1.65822808 -3.04452244 -2.35137526 -3.04452244\n",
      " -3.04452244 -3.04452244]\n",
      "0.5\n"
     ]
    }
   ],
   "source": [
    "postingList, classVec = loadDataSet()\n",
    "vocabList = createVocabList(postingList)\n",
    "trainMatrix = []\n",
    "for doc in postingList:\n",
    "    trainMatrix.append(setOfWords2Vec(vocabList, doc))\n",
    "\n",
    "p0Vect, p1Vect, pAbusive = trainNB2Class(trainMatrix, classVec)\n",
    "print(p0Vect)\n",
    "print(p1Vect)\n",
    "print(pAbusive)"
   ]
  },
  {
   "cell_type": "markdown",
   "metadata": {},
   "source": [
    "### classify"
   ]
  },
  {
   "cell_type": "code",
   "execution_count": 6,
   "metadata": {
    "collapsed": false
   },
   "outputs": [],
   "source": [
    "def classifyNB(instVec, p0Vect, p1Vect, pClass1):\n",
    "    p1 = sum(instVec * p1Vect) + np.log(pClass1)  # log(p(w|ci)p(ci))) = log(p(w|ci))+log(ci)\n",
    "    p0 = sum(instVec * p0Vect) + np.log(1-pClass1)\n",
    "    \n",
    "    if p1 > p0:\n",
    "        return 1\n",
    "    else:\n",
    "        return 0"
   ]
  },
  {
   "cell_type": "code",
   "execution_count": 7,
   "metadata": {
    "collapsed": false
   },
   "outputs": [
    {
     "name": "stdout",
     "output_type": "stream",
     "text": [
      "(['love', 'my', 'dalmation'], 'classified as: ', 0)\n",
      "(['stupid', 'garbage'], 'classified as: ', 1)\n"
     ]
    }
   ],
   "source": [
    "def testingNB(): # convenience function to reduce input operation\n",
    "    docList, classVec = loadDataSet()\n",
    "    vocabList = createVocabList(docList)\n",
    "    docMetrix = []\n",
    "    for doc in docList:\n",
    "        docMetrix.append( setOfWords2Vec(vocabList, doc) )\n",
    "        \n",
    "    p0Vect, p1Vect, pClass1 = trainNB2Class(docMetrix, classVec)\n",
    "    \n",
    "    testEntry = ['love', 'my', 'dalmation']\n",
    "    testVect = np.array(setOfWords2Vec(vocabList, testEntry))\n",
    "    predLabel = classifyNB(testVect, p0Vect, p1Vect, pClass1)\n",
    "    print(testEntry, 'classified as: ', predLabel)\n",
    "    \n",
    "    testEntry = ['stupid', 'garbage']\n",
    "    testVect = np.array(setOfWords2Vec(vocabList, testEntry))\n",
    "    predLabel = classifyNB(testVect, p0Vect, p1Vect, pClass1)\n",
    "    print(testEntry, 'classified as: ', predLabel)\n",
    "\n",
    "testingNB()"
   ]
  },
  {
   "cell_type": "code",
   "execution_count": 8,
   "metadata": {
    "collapsed": false
   },
   "outputs": [],
   "source": [
    "def bagOfWord2Vect(vocabList, doc):\n",
    "    resVect = [0]*len(vocabList)\n",
    "    for word in doc:\n",
    "        if word in vocabList:\n",
    "            resVect[vocabList.index(word)] += 1\n",
    "    return resVect"
   ]
  },
  {
   "cell_type": "markdown",
   "metadata": {},
   "source": [
    "## A real case : filter spam email"
   ]
  },
  {
   "cell_type": "code",
   "execution_count": 9,
   "metadata": {
    "collapsed": true
   },
   "outputs": [],
   "source": [
    "def textParse(bigString):\n",
    "    import re\n",
    "    listOfTokens = re.split(r'\\W*', bigString)\n",
    "    return [ token.lower() for token in listOfTokens if len(token) > 2 ]\n",
    "\n",
    "def spamTest():\n",
    "    dirName = \"data/email/\"\n",
    "    docList = []\n",
    "    classList = []\n",
    "    fullText = []\n",
    "    \n",
    "    for i in range(1,26):\n",
    "        doc = open(dirName+\"spam/{}.txt\".format(i)).read()\n",
    "        wordList = textParse(doc)\n",
    "        docList.append(wordList)\n",
    "        fullText.extend(wordList)\n",
    "        classList.append(1)\n",
    "        \n",
    "        doc = open(dirName + \"ham/{}.txt\".format(i)).read()\n",
    "        wordList = textParse(doc)\n",
    "        docList.append(wordList)\n",
    "        fullText.extend(wordList)\n",
    "        classList.append(0)\n",
    "    \n",
    "    vocabList = createVocabList(docList)\n",
    "    # random split data set into train set and test set\n",
    "    trainingSet = range(50)\n",
    "    testSet = []\n",
    "    for i in range(10):\n",
    "        randIndex = int( np.random.uniform(0, len(trainingSet)) )\n",
    "        testSet.append(trainingSet[randIndex])\n",
    "        del trainingSet[randIndex]\n",
    "        \n",
    "    trainMatrix = []\n",
    "    trainClass = []\n",
    "    for docIndex in trainingSet:\n",
    "        trainMatrix.append( setOfWords2Vec(vocabList, docList[docIndex]) )\n",
    "        trainClass.append(classList[docIndex])\n",
    "    p0Vect, p1Vect, pSpam = trainNB2Class(trainMatrix, trainClass)\n",
    "    \n",
    "#     print(p0Vect.shape)\n",
    "#     print(p1Vect.shape)\n",
    "#     print(pSpam)\n",
    "    \n",
    "    errorCount = 0\n",
    "    for docIndex in testSet:\n",
    "        testVect = np.array(setOfWords2Vec(vocabList, docList[docIndex]))\n",
    "#         print(type(testVect))\n",
    "#         print(testVect.shape)\n",
    "        preLabel = classifyNB(testVect, p0Vect, p1Vect, pSpam)\n",
    "        if preLabel != classList[docIndex]:\n",
    "            errorCount += 1\n",
    "    print(\"the error rate is : \", float(errorCount) / len(testSet))"
   ]
  },
  {
   "cell_type": "code",
   "execution_count": 10,
   "metadata": {
    "collapsed": false
   },
   "outputs": [
    {
     "name": "stdout",
     "output_type": "stream",
     "text": [
      "('the error rate is : ', 0.0)\n"
     ]
    }
   ],
   "source": [
    "spamTest()"
   ]
  },
  {
   "cell_type": "markdown",
   "metadata": {
    "collapsed": true
   },
   "source": [
    "## A real case : gain domain orientation from advertisement "
   ]
  },
  {
   "cell_type": "code",
   "execution_count": 11,
   "metadata": {
    "collapsed": false
   },
   "outputs": [],
   "source": [
    "import feedparser"
   ]
  },
  {
   "cell_type": "code",
   "execution_count": 12,
   "metadata": {
    "collapsed": true
   },
   "outputs": [],
   "source": [
    "ny = feedparser.parse(\"http://newyork.craigslist.org/stp/index.rss\")"
   ]
  },
  {
   "cell_type": "code",
   "execution_count": 13,
   "metadata": {
    "collapsed": false
   },
   "outputs": [
    {
     "name": "stdout",
     "output_type": "stream",
     "text": [
      "[{'dc_source': u'http://newyork.craigslist.org/que/stp/6131968239.html', 'summary_detail': {'base': u'https://newyork.craigslist.org/search/stp?format=rss', 'type': u'text/html', 'value': u'I am an Italian man looking for a woman for friendship.... \\nI am polite good manners! \\nNO DRUGS AND SMOKE!! \\n:)', 'language': None}, 'published_parsed': time.struct_time(tm_year=2017, tm_mon=5, tm_mday=15, tm_hour=2, tm_min=20, tm_sec=28, tm_wday=0, tm_yday=135, tm_isdst=0), 'updated_parsed': time.struct_time(tm_year=2017, tm_mon=5, tm_mday=15, tm_hour=2, tm_min=20, tm_sec=28, tm_wday=0, tm_yday=135, tm_isdst=0), 'links': [{'href': u'http://newyork.craigslist.org/que/stp/6131968239.html', 'type': u'text/html', 'rel': u'alternate'}], 'title': u'Italian Man Looking for a Woman for frienship..... - m4w (Queens)', 'rights': u'copyright 2017 craiglist', 'updated': u'2017-05-14T22:20:28-04:00', 'summary': u'I am an Italian man looking for a woman for friendship.... \\nI am polite good manners! \\nNO DRUGS AND SMOKE!! \\n:)', 'language': u'en-us', 'title_detail': {'base': u'https://newyork.craigslist.org/search/stp?format=rss', 'type': u'text/plain', 'value': u'Italian Man Looking for a Woman for frienship..... - m4w (Queens)', 'language': None}, 'link': u'http://newyork.craigslist.org/que/stp/6131968239.html', 'published': u'2017-05-14T22:20:28-04:00', 'rights_detail': {'base': u'https://newyork.craigslist.org/search/stp?format=rss', 'type': u'text/plain', 'value': u'copyright 2017 craiglist', 'language': None}, 'enc_enclosure': {'type': u'image/jpeg', 'resource': u'https://images.craigslist.org/00N0N_bWGYFysWir3_300x300.jpg'}, 'id': u'http://newyork.craigslist.org/que/stp/6131968239.html', 'dc_type': u'text'}, {'dc_source': u'http://newyork.craigslist.org/mnh/stp/6123004224.html', 'summary_detail': {'base': u'https://newyork.craigslist.org/search/stp?format=rss', 'type': u'text/html', 'value': u'Are you a busy professional who is looking for someone to keep the house organized and clean? \\nDo you find your active lifestyle leaves you little or no time to get your errands done? \\nWell, I may be just what you NEED! I can clean your apartment, do [...]', 'language': None}, 'published_parsed': time.struct_time(tm_year=2017, tm_mon=5, tm_mday=15, tm_hour=2, tm_min=20, tm_sec=6, tm_wday=0, tm_yday=135, tm_isdst=0), 'updated_parsed': time.struct_time(tm_year=2017, tm_mon=5, tm_mday=15, tm_hour=2, tm_min=20, tm_sec=6, tm_wday=0, tm_yday=135, tm_isdst=0), 'links': [{'href': u'http://newyork.craigslist.org/mnh/stp/6123004224.html', 'type': u'text/html', 'rel': u'alternate'}], 'title': u'Gay Male Apartment Cleaner / Organizer / Personal Assistant - m4m (UWS/Midtown/HK/Chelsea)', 'rights': u'copyright 2017 craiglist', 'updated': u'2017-05-14T22:20:06-04:00', 'summary': u'Are you a busy professional who is looking for someone to keep the house organized and clean? \\nDo you find your active lifestyle leaves you little or no time to get your errands done? \\nWell, I may be just what you NEED! I can clean your apartment, do [...]', 'language': u'en-us', 'title_detail': {'base': u'https://newyork.craigslist.org/search/stp?format=rss', 'type': u'text/plain', 'value': u'Gay Male Apartment Cleaner / Organizer / Personal Assistant - m4m (UWS/Midtown/HK/Chelsea)', 'language': None}, 'link': u'http://newyork.craigslist.org/mnh/stp/6123004224.html', 'published': u'2017-05-14T22:20:06-04:00', 'rights_detail': {'base': u'https://newyork.craigslist.org/search/stp?format=rss', 'type': u'text/plain', 'value': u'copyright 2017 craiglist', 'language': None}, 'id': u'http://newyork.craigslist.org/mnh/stp/6123004224.html', 'dc_type': u'text'}, {'dc_source': u'http://newyork.craigslist.org/mnh/stp/6131962190.html', 'summary_detail': {'base': u'https://newyork.craigslist.org/search/stp?format=rss', 'type': u'text/html', 'value': u\"Easy going, educated, d&amp;d free, non-smoking guy looking to expand my circle of friends. Most of my current friends are meet-in-the-cafe acquaintances. I don't speak to them on the phone or make plans for a movie or any kind of outing. Younger wom [...]\", 'language': None}, 'published_parsed': time.struct_time(tm_year=2017, tm_mon=5, tm_mday=15, tm_hour=2, tm_min=13, tm_sec=38, tm_wday=0, tm_yday=135, tm_isdst=0), 'updated_parsed': time.struct_time(tm_year=2017, tm_mon=5, tm_mday=15, tm_hour=2, tm_min=13, tm_sec=38, tm_wday=0, tm_yday=135, tm_isdst=0), 'links': [{'href': u'http://newyork.craigslist.org/mnh/stp/6131962190.html', 'type': u'text/html', 'rel': u'alternate'}], 'title': u'SWM 61 skg younger female friend - m4w (East Village)', 'rights': u'copyright 2017 craiglist', 'updated': u'2017-05-14T22:13:38-04:00', 'summary': u\"Easy going, educated, d&amp;d free, non-smoking guy looking to expand my circle of friends. Most of my current friends are meet-in-the-cafe acquaintances. I don't speak to them on the phone or make plans for a movie or any kind of outing. Younger wom [...]\", 'language': u'en-us', 'title_detail': {'base': u'https://newyork.craigslist.org/search/stp?format=rss', 'type': u'text/plain', 'value': u'SWM 61 skg younger female friend - m4w (East Village)', 'language': None}, 'link': u'http://newyork.craigslist.org/mnh/stp/6131962190.html', 'published': u'2017-05-14T22:13:38-04:00', 'rights_detail': {'base': u'https://newyork.craigslist.org/search/stp?format=rss', 'type': u'text/plain', 'value': u'copyright 2017 craiglist', 'language': None}, 'id': u'http://newyork.craigslist.org/mnh/stp/6131962190.html', 'dc_type': u'text'}, {'dc_source': u'http://newyork.craigslist.org/brk/stp/6106096373.html', 'summary_detail': {'base': u'https://newyork.craigslist.org/search/stp?format=rss', 'type': u'text/html', 'value': u'Looking for a girl for friendship add picture please text me 9two9 threefive5 four6two9', 'language': None}, 'published_parsed': time.struct_time(tm_year=2017, tm_mon=5, tm_mday=15, tm_hour=2, tm_min=6, tm_sec=30, tm_wday=0, tm_yday=135, tm_isdst=0), 'updated_parsed': time.struct_time(tm_year=2017, tm_mon=5, tm_mday=15, tm_hour=2, tm_min=6, tm_sec=30, tm_wday=0, tm_yday=135, tm_isdst=0), 'links': [{'href': u'http://newyork.craigslist.org/brk/stp/6106096373.html', 'type': u'text/html', 'rel': u'alternate'}], 'title': u'Looking for a girl friend first - m4w', 'rights': u'copyright 2017 craiglist', 'updated': u'2017-05-14T22:06:30-04:00', 'summary': u'Looking for a girl for friendship add picture please text me 9two9 threefive5 four6two9', 'language': u'en-us', 'title_detail': {'base': u'https://newyork.craigslist.org/search/stp?format=rss', 'type': u'text/plain', 'value': u'Looking for a girl friend first - m4w', 'language': None}, 'link': u'http://newyork.craigslist.org/brk/stp/6106096373.html', 'published': u'2017-05-14T22:06:30-04:00', 'rights_detail': {'base': u'https://newyork.craigslist.org/search/stp?format=rss', 'type': u'text/plain', 'value': u'copyright 2017 craiglist', 'language': None}, 'enc_enclosure': {'type': u'image/jpeg', 'resource': u'https://images.craigslist.org/00o0o_lWpVzu6teeE_300x300.jpg'}, 'id': u'http://newyork.craigslist.org/brk/stp/6106096373.html', 'dc_type': u'text'}, {'dc_source': u'http://newyork.craigslist.org/mnh/stp/6111914976.html', 'summary_detail': {'base': u'https://newyork.craigslist.org/search/stp?format=rss', 'type': u'text/html', 'value': u'Tell me what you cannot tell anyone else. Anonymous. No pictures. No names. No phone numbers. \\nYou have a secret. You did something. You want to free yourself from the stress.', 'language': None}, 'published_parsed': time.struct_time(tm_year=2017, tm_mon=5, tm_mday=15, tm_hour=2, tm_min=4, tm_sec=56, tm_wday=0, tm_yday=135, tm_isdst=0), 'updated_parsed': time.struct_time(tm_year=2017, tm_mon=5, tm_mday=15, tm_hour=2, tm_min=4, tm_sec=56, tm_wday=0, tm_yday=135, tm_isdst=0), 'links': [{'href': u'http://newyork.craigslist.org/mnh/stp/6111914976.html', 'type': u'text/html', 'rel': u'alternate'}], 'title': u'Confess (anonymously) - m4w (Murray Hill)', 'rights': u'copyright 2017 craiglist', 'updated': u'2017-05-14T22:04:56-04:00', 'summary': u'Tell me what you cannot tell anyone else. Anonymous. No pictures. No names. No phone numbers. \\nYou have a secret. You did something. You want to free yourself from the stress.', 'language': u'en-us', 'title_detail': {'base': u'https://newyork.craigslist.org/search/stp?format=rss', 'type': u'text/plain', 'value': u'Confess (anonymously) - m4w (Murray Hill)', 'language': None}, 'link': u'http://newyork.craigslist.org/mnh/stp/6111914976.html', 'published': u'2017-05-14T22:04:56-04:00', 'rights_detail': {'base': u'https://newyork.craigslist.org/search/stp?format=rss', 'type': u'text/plain', 'value': u'copyright 2017 craiglist', 'language': None}, 'enc_enclosure': {'type': u'image/jpeg', 'resource': u'https://images.craigslist.org/00S0S_2VfrxUCgQeS_300x300.jpg'}, 'id': u'http://newyork.craigslist.org/mnh/stp/6111914976.html', 'dc_type': u'text'}, {'dc_source': u'http://newyork.craigslist.org/brk/stp/6106097732.html', 'summary_detail': {'base': u'https://newyork.craigslist.org/search/stp?format=rss', 'type': u'text/html', 'value': u'Looking for a girl for friendship... please add pictures 9two9 threefive5 four6two9', 'language': None}, 'published_parsed': time.struct_time(tm_year=2017, tm_mon=5, tm_mday=15, tm_hour=2, tm_min=4, tm_sec=16, tm_wday=0, tm_yday=135, tm_isdst=0), 'updated_parsed': time.struct_time(tm_year=2017, tm_mon=5, tm_mday=15, tm_hour=2, tm_min=4, tm_sec=16, tm_wday=0, tm_yday=135, tm_isdst=0), 'links': [{'href': u'http://newyork.craigslist.org/brk/stp/6106097732.html', 'type': u'text/html', 'rel': u'alternate'}], 'title': u'Looking for a girl friend first - m4w', 'rights': u'copyright 2017 craiglist', 'updated': u'2017-05-14T22:04:16-04:00', 'summary': u'Looking for a girl for friendship... please add pictures 9two9 threefive5 four6two9', 'language': u'en-us', 'title_detail': {'base': u'https://newyork.craigslist.org/search/stp?format=rss', 'type': u'text/plain', 'value': u'Looking for a girl friend first - m4w', 'language': None}, 'link': u'http://newyork.craigslist.org/brk/stp/6106097732.html', 'published': u'2017-05-14T22:04:16-04:00', 'rights_detail': {'base': u'https://newyork.craigslist.org/search/stp?format=rss', 'type': u'text/plain', 'value': u'copyright 2017 craiglist', 'language': None}, 'enc_enclosure': {'type': u'image/jpeg', 'resource': u'https://images.craigslist.org/00o0o_lWpVzu6teeE_300x300.jpg'}, 'id': u'http://newyork.craigslist.org/brk/stp/6106097732.html', 'dc_type': u'text'}, {'dc_source': u'http://newyork.craigslist.org/que/stp/6131951511.html', 'summary_detail': {'base': u'https://newyork.craigslist.org/search/stp?format=rss', 'type': u'text/html', 'value': u'I am a passionate Italian man. \\nI am looking for Asian student to have fun time together. \\nI am polite good manners no drug and smoke.', 'language': None}, 'published_parsed': time.struct_time(tm_year=2017, tm_mon=5, tm_mday=15, tm_hour=2, tm_min=1, tm_sec=45, tm_wday=0, tm_yday=135, tm_isdst=0), 'updated_parsed': time.struct_time(tm_year=2017, tm_mon=5, tm_mday=15, tm_hour=2, tm_min=1, tm_sec=45, tm_wday=0, tm_yday=135, tm_isdst=0), 'links': [{'href': u'http://newyork.craigslist.org/que/stp/6131951511.html', 'type': u'text/html', 'rel': u'alternate'}], 'title': u'Looking for Asian student to have fun time (Queens)', 'rights': u'copyright 2017 craiglist', 'updated': u'2017-05-14T22:01:45-04:00', 'summary': u'I am a passionate Italian man. \\nI am looking for Asian student to have fun time together. \\nI am polite good manners no drug and smoke.', 'language': u'en-us', 'title_detail': {'base': u'https://newyork.craigslist.org/search/stp?format=rss', 'type': u'text/plain', 'value': u'Looking for Asian student to have fun time (Queens)', 'language': None}, 'link': u'http://newyork.craigslist.org/que/stp/6131951511.html', 'published': u'2017-05-14T22:01:45-04:00', 'rights_detail': {'base': u'https://newyork.craigslist.org/search/stp?format=rss', 'type': u'text/plain', 'value': u'copyright 2017 craiglist', 'language': None}, 'enc_enclosure': {'type': u'image/jpeg', 'resource': u'https://images.craigslist.org/00E0E_73ZR8j7eher_300x300.jpg'}, 'id': u'http://newyork.craigslist.org/que/stp/6131951511.html', 'dc_type': u'text'}, {'dc_source': u'http://newyork.craigslist.org/que/stp/6131950566.html', 'summary_detail': {'base': u'https://newyork.craigslist.org/search/stp?format=rss', 'type': u'text/html', 'value': u'Hypno Master skinny black nerd for totally submissive white, asian or Latino jock. You must obey fully, commit to serve, seek longterm ownership, not be superficial, like all nerd no matter the type and be seeking sex or attraction .', 'language': None}, 'published_parsed': time.struct_time(tm_year=2017, tm_mon=5, tm_mday=15, tm_hour=2, tm_min=0, tm_sec=43, tm_wday=0, tm_yday=135, tm_isdst=0), 'updated_parsed': time.struct_time(tm_year=2017, tm_mon=5, tm_mday=15, tm_hour=2, tm_min=0, tm_sec=43, tm_wday=0, tm_yday=135, tm_isdst=0), 'links': [{'href': u'http://newyork.craigslist.org/que/stp/6131950566.html', 'type': u'text/html', 'rel': u'alternate'}], 'title': u'Hypno Master Nerd 4 sub jock - m4m (Queens)', 'rights': u'copyright 2017 craiglist', 'updated': u'2017-05-14T22:00:43-04:00', 'summary': u'Hypno Master skinny black nerd for totally submissive white, asian or Latino jock. You must obey fully, commit to serve, seek longterm ownership, not be superficial, like all nerd no matter the type and be seeking sex or attraction .', 'language': u'en-us', 'title_detail': {'base': u'https://newyork.craigslist.org/search/stp?format=rss', 'type': u'text/plain', 'value': u'Hypno Master Nerd 4 sub jock - m4m (Queens)', 'language': None}, 'link': u'http://newyork.craigslist.org/que/stp/6131950566.html', 'published': u'2017-05-14T22:00:43-04:00', 'rights_detail': {'base': u'https://newyork.craigslist.org/search/stp?format=rss', 'type': u'text/plain', 'value': u'copyright 2017 craiglist', 'language': None}, 'id': u'http://newyork.craigslist.org/que/stp/6131950566.html', 'dc_type': u'text'}, {'dc_source': u'http://newyork.craigslist.org/wch/stp/6129408753.html', 'summary_detail': {'base': u'https://newyork.craigslist.org/search/stp?format=rss', 'type': u'text/html', 'value': u\"I am a 24 year old guy looking for friends, people to talk to, hang out with, chill, up for whatever, and get to know each other. Male or female, it doesn't matter to me, I'm just legitimately looking to make friends; around my age helps. I don't car [...]\", 'language': None}, 'published_parsed': time.struct_time(tm_year=2017, tm_mon=5, tm_mday=15, tm_hour=2, tm_min=0, tm_sec=29, tm_wday=0, tm_yday=135, tm_isdst=0), 'updated_parsed': time.struct_time(tm_year=2017, tm_mon=5, tm_mday=15, tm_hour=2, tm_min=0, tm_sec=29, tm_wday=0, tm_yday=135, tm_isdst=0), 'links': [{'href': u'http://newyork.craigslist.org/wch/stp/6129408753.html', 'type': u'text/html', 'rel': u'alternate'}], 'title': u'Friends anyone - m4mw', 'rights': u'copyright 2017 craiglist', 'updated': u'2017-05-14T22:00:29-04:00', 'summary': u\"I am a 24 year old guy looking for friends, people to talk to, hang out with, chill, up for whatever, and get to know each other. Male or female, it doesn't matter to me, I'm just legitimately looking to make friends; around my age helps. I don't car [...]\", 'language': u'en-us', 'title_detail': {'base': u'https://newyork.craigslist.org/search/stp?format=rss', 'type': u'text/plain', 'value': u'Friends anyone - m4mw', 'language': None}, 'link': u'http://newyork.craigslist.org/wch/stp/6129408753.html', 'published': u'2017-05-14T22:00:29-04:00', 'rights_detail': {'base': u'https://newyork.craigslist.org/search/stp?format=rss', 'type': u'text/plain', 'value': u'copyright 2017 craiglist', 'language': None}, 'id': u'http://newyork.craigslist.org/wch/stp/6129408753.html', 'dc_type': u'text'}, {'dc_source': u'http://newyork.craigslist.org/que/stp/6131945068.html', 'summary_detail': {'base': u'https://newyork.craigslist.org/search/stp?format=rss', 'type': u'text/html', 'value': u'Hypno Master Son for total Slave Dad to build from scratch. Hypno Master son looking to use hypnosis to create perfect submissive dad to serve me non sexually. \\nYou will worship me only when commanded and non sexual service is most important .', 'language': None}, 'published_parsed': time.struct_time(tm_year=2017, tm_mon=5, tm_mday=15, tm_hour=1, tm_min=54, tm_sec=44, tm_wday=0, tm_yday=135, tm_isdst=0), 'updated_parsed': time.struct_time(tm_year=2017, tm_mon=5, tm_mday=15, tm_hour=1, tm_min=54, tm_sec=44, tm_wday=0, tm_yday=135, tm_isdst=0), 'links': [{'href': u'http://newyork.craigslist.org/que/stp/6131945068.html', 'type': u'text/html', 'rel': u'alternate'}], 'title': u'Hypno Master Son 4 Slave Dad - m4m (Queens)', 'rights': u'copyright 2017 craiglist', 'updated': u'2017-05-14T21:54:44-04:00', 'summary': u'Hypno Master Son for total Slave Dad to build from scratch. Hypno Master son looking to use hypnosis to create perfect submissive dad to serve me non sexually. \\nYou will worship me only when commanded and non sexual service is most important .', 'language': u'en-us', 'title_detail': {'base': u'https://newyork.craigslist.org/search/stp?format=rss', 'type': u'text/plain', 'value': u'Hypno Master Son 4 Slave Dad - m4m (Queens)', 'language': None}, 'link': u'http://newyork.craigslist.org/que/stp/6131945068.html', 'published': u'2017-05-14T21:54:44-04:00', 'rights_detail': {'base': u'https://newyork.craigslist.org/search/stp?format=rss', 'type': u'text/plain', 'value': u'copyright 2017 craiglist', 'language': None}, 'id': u'http://newyork.craigslist.org/que/stp/6131945068.html', 'dc_type': u'text'}, {'dc_source': u'http://newyork.craigslist.org/mnh/stp/6131942492.html', 'summary_detail': {'base': u'https://newyork.craigslist.org/search/stp?format=rss', 'type': u'text/html', 'value': u\"I'm really like this tiny sweet, down to earth, don't freaking d**k around with me, goofy, sensitive, cry baby, type of gangsta. I listen to rap sprinkled with a little Taylor Swift. Will I murder you? Will I buy you a puppy? You never know. I'm an a [...]\", 'language': None}, 'published_parsed': time.struct_time(tm_year=2017, tm_mon=5, tm_mday=15, tm_hour=1, tm_min=51, tm_sec=55, tm_wday=0, tm_yday=135, tm_isdst=0), 'updated_parsed': time.struct_time(tm_year=2017, tm_mon=5, tm_mday=15, tm_hour=1, tm_min=51, tm_sec=55, tm_wday=0, tm_yday=135, tm_isdst=0), 'links': [{'href': u'http://newyork.craigslist.org/mnh/stp/6131942492.html', 'type': u'text/html', 'rel': u'alternate'}], 'title': u'I like Makeup + Gossip + Weed - w4w (Chinatown / Lit Italy)', 'rights': u'copyright 2017 craiglist', 'updated': u'2017-05-14T21:51:55-04:00', 'summary': u\"I'm really like this tiny sweet, down to earth, don't freaking d**k around with me, goofy, sensitive, cry baby, type of gangsta. I listen to rap sprinkled with a little Taylor Swift. Will I murder you? Will I buy you a puppy? You never know. I'm an a [...]\", 'language': u'en-us', 'title_detail': {'base': u'https://newyork.craigslist.org/search/stp?format=rss', 'type': u'text/plain', 'value': u'I like Makeup + Gossip + Weed - w4w (Chinatown / Lit Italy)', 'language': None}, 'link': u'http://newyork.craigslist.org/mnh/stp/6131942492.html', 'published': u'2017-05-14T21:51:55-04:00', 'rights_detail': {'base': u'https://newyork.craigslist.org/search/stp?format=rss', 'type': u'text/plain', 'value': u'copyright 2017 craiglist', 'language': None}, 'enc_enclosure': {'type': u'image/jpeg', 'resource': u'https://images.craigslist.org/01616_ihqb0KTl5yn_300x300.jpg'}, 'id': u'http://newyork.craigslist.org/mnh/stp/6131942492.html', 'dc_type': u'text'}, {'dc_source': u'http://newyork.craigslist.org/brk/stp/6103389114.html', 'summary_detail': {'base': u'https://newyork.craigslist.org/search/stp?format=rss', 'type': u'text/html', 'value': u'Seeking a young cute BBw for ltr with no strings. \\nAges 25-35 only. \\nKiK Rickdaboss09 if interested. \\nIf something sparks lets see where it goes. \\nReply with a pic to get a reply. \\nPlease be from Brooklyn. \\nThis for this week', 'language': None}, 'published_parsed': time.struct_time(tm_year=2017, tm_mon=5, tm_mday=15, tm_hour=1, tm_min=49, tm_sec=57, tm_wday=0, tm_yday=135, tm_isdst=0), 'updated_parsed': time.struct_time(tm_year=2017, tm_mon=5, tm_mday=15, tm_hour=1, tm_min=49, tm_sec=57, tm_wday=0, tm_yday=135, tm_isdst=0), 'links': [{'href': u'http://newyork.craigslist.org/brk/stp/6103389114.html', 'type': u'text/html', 'rel': u'alternate'}], 'title': u\"Any cute Bbw's? - m4w (Brooklyn)\", 'rights': u'copyright 2017 craiglist', 'updated': u'2017-05-14T21:49:57-04:00', 'summary': u'Seeking a young cute BBw for ltr with no strings. \\nAges 25-35 only. \\nKiK Rickdaboss09 if interested. \\nIf something sparks lets see where it goes. \\nReply with a pic to get a reply. \\nPlease be from Brooklyn. \\nThis for this week', 'language': u'en-us', 'title_detail': {'base': u'https://newyork.craigslist.org/search/stp?format=rss', 'type': u'text/plain', 'value': u\"Any cute Bbw's? - m4w (Brooklyn)\", 'language': None}, 'link': u'http://newyork.craigslist.org/brk/stp/6103389114.html', 'published': u'2017-05-14T21:49:57-04:00', 'rights_detail': {'base': u'https://newyork.craigslist.org/search/stp?format=rss', 'type': u'text/plain', 'value': u'copyright 2017 craiglist', 'language': None}, 'id': u'http://newyork.craigslist.org/brk/stp/6103389114.html', 'dc_type': u'text'}, {'dc_source': u'http://newyork.craigslist.org/brk/stp/6106372600.html', 'summary_detail': {'base': u'https://newyork.craigslist.org/search/stp?format=rss', 'type': u'text/html', 'value': u\"It's about to be 10pm and I'm horny asf. \\nLol just looking to see what I can get into. \\nDon't be a creep when replying. \\nABSOLUTELY NO MEN. \\nSINGLE WOMAN ONLY. \\nCUTE BIG GIRLS TO THE FRONT. \\nKIK RICKDABOSS09.\", 'language': None}, 'published_parsed': time.struct_time(tm_year=2017, tm_mon=5, tm_mday=15, tm_hour=1, tm_min=46, tm_sec=43, tm_wday=0, tm_yday=135, tm_isdst=0), 'updated_parsed': time.struct_time(tm_year=2017, tm_mon=5, tm_mday=15, tm_hour=1, tm_min=46, tm_sec=43, tm_wday=0, tm_yday=135, tm_isdst=0), 'links': [{'href': u'http://newyork.craigslist.org/brk/stp/6106372600.html', 'type': u'text/html', 'rel': u'alternate'}], 'title': u\"Let's be discreet. - m4w (Flatbush)\", 'rights': u'copyright 2017 craiglist', 'updated': u'2017-05-14T21:46:43-04:00', 'summary': u\"It's about to be 10pm and I'm horny asf. \\nLol just looking to see what I can get into. \\nDon't be a creep when replying. \\nABSOLUTELY NO MEN. \\nSINGLE WOMAN ONLY. \\nCUTE BIG GIRLS TO THE FRONT. \\nKIK RICKDABOSS09.\", 'language': u'en-us', 'title_detail': {'base': u'https://newyork.craigslist.org/search/stp?format=rss', 'type': u'text/plain', 'value': u\"Let's be discreet. - m4w (Flatbush)\", 'language': None}, 'link': u'http://newyork.craigslist.org/brk/stp/6106372600.html', 'published': u'2017-05-14T21:46:43-04:00', 'rights_detail': {'base': u'https://newyork.craigslist.org/search/stp?format=rss', 'type': u'text/plain', 'value': u'copyright 2017 craiglist', 'language': None}, 'enc_enclosure': {'type': u'image/jpeg', 'resource': u'https://images.craigslist.org/00o0o_aD9bvJBU2z2_300x300.jpg'}, 'id': u'http://newyork.craigslist.org/brk/stp/6106372600.html', 'dc_type': u'text'}, {'dc_source': u'http://newyork.craigslist.org/mnh/stp/6131937036.html', 'summary_detail': {'base': u'https://newyork.craigslist.org/search/stp?format=rss', 'type': u'text/html', 'value': u'This ad has been reposted not due to overposting, but due to it being maliciously and/or incorrectly flagged which does not respect the terms listed by Craigslist. Thanks for your understanding. \\nIt looks as if my tentatively planned ride from the ci [...]', 'language': None}, 'published_parsed': time.struct_time(tm_year=2017, tm_mon=5, tm_mday=15, tm_hour=1, tm_min=45, tm_sec=54, tm_wday=0, tm_yday=135, tm_isdst=0), 'updated_parsed': time.struct_time(tm_year=2017, tm_mon=5, tm_mday=15, tm_hour=1, tm_min=45, tm_sec=54, tm_wday=0, tm_yday=135, tm_isdst=0), 'links': [{'href': u'http://newyork.craigslist.org/mnh/stp/6131937036.html', 'type': u'text/html', 'rel': u'alternate'}], 'title': u'Reliable, respectful gent who enjoys driving for ride wanted - w4m (Midtown/SI)', 'rights': u'copyright 2017 craiglist', 'updated': u'2017-05-14T21:45:54-04:00', 'summary': u'This ad has been reposted not due to overposting, but due to it being maliciously and/or incorrectly flagged which does not respect the terms listed by Craigslist. Thanks for your understanding. \\nIt looks as if my tentatively planned ride from the ci [...]', 'language': u'en-us', 'title_detail': {'base': u'https://newyork.craigslist.org/search/stp?format=rss', 'type': u'text/plain', 'value': u'Reliable, respectful gent who enjoys driving for ride wanted - w4m (Midtown/SI)', 'language': None}, 'link': u'http://newyork.craigslist.org/mnh/stp/6131937036.html', 'published': u'2017-05-14T21:45:54-04:00', 'rights_detail': {'base': u'https://newyork.craigslist.org/search/stp?format=rss', 'type': u'text/plain', 'value': u'copyright 2017 craiglist', 'language': None}, 'id': u'http://newyork.craigslist.org/mnh/stp/6131937036.html', 'dc_type': u'text'}, {'dc_source': u'http://newyork.craigslist.org/que/stp/6131925545.html', 'summary_detail': {'base': u'https://newyork.craigslist.org/search/stp?format=rss', 'type': u'text/html', 'value': u\"Hey, Looking for a new bff (Paris)&amp;(Nicole) &lt;3 :).... \\nI'm a easy going guy who enjoys movies,dinners,long drives &amp; spontaneous stuff... \\nNot into drama &amp; attention seekers.... \\nI'm also a hair stylist/makeup artist... \\nI'm not superfi [...]\", 'language': None}, 'published_parsed': time.struct_time(tm_year=2017, tm_mon=5, tm_mday=15, tm_hour=1, tm_min=44, tm_sec=24, tm_wday=0, tm_yday=135, tm_isdst=0), 'updated_parsed': time.struct_time(tm_year=2017, tm_mon=5, tm_mday=15, tm_hour=1, tm_min=44, tm_sec=24, tm_wday=0, tm_yday=135, tm_isdst=0), 'links': [{'href': u'http://newyork.craigslist.org/que/stp/6131925545.html', 'type': u'text/html', 'rel': u'alternate'}], 'title': u'Looking for a new BFF <3 - m4m (ozone park)', 'rights': u'copyright 2017 craiglist', 'updated': u'2017-05-14T21:44:24-04:00', 'summary': u\"Hey, Looking for a new bff (Paris)&amp;(Nicole) &lt;3 :).... \\nI'm a easy going guy who enjoys movies,dinners,long drives &amp; spontaneous stuff... \\nNot into drama &amp; attention seekers.... \\nI'm also a hair stylist/makeup artist... \\nI'm not superfi [...]\", 'language': u'en-us', 'title_detail': {'base': u'https://newyork.craigslist.org/search/stp?format=rss', 'type': u'text/plain', 'value': u'Looking for a new BFF <3 - m4m (ozone park)', 'language': None}, 'link': u'http://newyork.craigslist.org/que/stp/6131925545.html', 'published': u'2017-05-14T21:44:24-04:00', 'rights_detail': {'base': u'https://newyork.craigslist.org/search/stp?format=rss', 'type': u'text/plain', 'value': u'copyright 2017 craiglist', 'language': None}, 'enc_enclosure': {'type': u'image/jpeg', 'resource': u'https://images.craigslist.org/00M0M_Juo3RQ1bO9_300x300.jpg'}, 'id': u'http://newyork.craigslist.org/que/stp/6131925545.html', 'dc_type': u'text'}, {'dc_source': u'http://newyork.craigslist.org/brk/stp/6116266153.html', 'summary_detail': {'base': u'https://newyork.craigslist.org/search/stp?format=rss', 'type': u'text/html', 'value': u'Seeking a female , for a nice friendship ... I am an Italian male single , down to earth -non smoker , no drugs , std free . \\nI enjoy arts, music , reading, walks, day trips , computers, fianacing , history , gym, cooking, films &amp; music , coffee  [...]', 'language': None}, 'published_parsed': time.struct_time(tm_year=2017, tm_mon=5, tm_mday=15, tm_hour=1, tm_min=42, tm_sec=52, tm_wday=0, tm_yday=135, tm_isdst=0), 'updated_parsed': time.struct_time(tm_year=2017, tm_mon=5, tm_mday=15, tm_hour=1, tm_min=42, tm_sec=52, tm_wday=0, tm_yday=135, tm_isdst=0), 'links': [{'href': u'http://newyork.craigslist.org/brk/stp/6116266153.html', 'type': u'text/html', 'rel': u'alternate'}], 'title': u'Seeking a female friend - m4w (Bensonhurst)', 'rights': u'copyright 2017 craiglist', 'updated': u'2017-05-14T21:42:52-04:00', 'summary': u'Seeking a female , for a nice friendship ... I am an Italian male single , down to earth -non smoker , no drugs , std free . \\nI enjoy arts, music , reading, walks, day trips , computers, fianacing , history , gym, cooking, films &amp; music , coffee  [...]', 'language': u'en-us', 'title_detail': {'base': u'https://newyork.craigslist.org/search/stp?format=rss', 'type': u'text/plain', 'value': u'Seeking a female friend - m4w (Bensonhurst)', 'language': None}, 'link': u'http://newyork.craigslist.org/brk/stp/6116266153.html', 'published': u'2017-05-14T21:42:52-04:00', 'rights_detail': {'base': u'https://newyork.craigslist.org/search/stp?format=rss', 'type': u'text/plain', 'value': u'copyright 2017 craiglist', 'language': None}, 'enc_enclosure': {'type': u'image/jpeg', 'resource': u'https://images.craigslist.org/00e0e_f9KmL8SwLqC_300x300.jpg'}, 'id': u'http://newyork.craigslist.org/brk/stp/6116266153.html', 'dc_type': u'text'}, {'dc_source': u'http://newyork.craigslist.org/brk/stp/6121339517.html', 'summary_detail': {'base': u'https://newyork.craigslist.org/search/stp?format=rss', 'type': u'text/html', 'value': u'Seeking a female , for a nice friendship ... I am an Italian male single , down to earth -non smoker , no drugs , std free . \\nI enjoy arts, music , reading, walks, day trips , computers, fianacing , history , gym, cooking, films & music , coffee shop [...]', 'language': None}, 'published_parsed': time.struct_time(tm_year=2017, tm_mon=5, tm_mday=15, tm_hour=1, tm_min=42, tm_sec=2, tm_wday=0, tm_yday=135, tm_isdst=0), 'updated_parsed': time.struct_time(tm_year=2017, tm_mon=5, tm_mday=15, tm_hour=1, tm_min=42, tm_sec=2, tm_wday=0, tm_yday=135, tm_isdst=0), 'links': [{'href': u'http://newyork.craigslist.org/brk/stp/6121339517.html', 'type': u'text/html', 'rel': u'alternate'}], 'title': u'Male seeking female friend - m4w (Bensonhurst)', 'rights': u'copyright 2017 craiglist', 'updated': u'2017-05-14T21:42:02-04:00', 'summary': u'Seeking a female , for a nice friendship ... I am an Italian male single , down to earth -non smoker , no drugs , std free . \\nI enjoy arts, music , reading, walks, day trips , computers, fianacing , history , gym, cooking, films & music , coffee shop [...]', 'language': u'en-us', 'title_detail': {'base': u'https://newyork.craigslist.org/search/stp?format=rss', 'type': u'text/plain', 'value': u'Male seeking female friend - m4w (Bensonhurst)', 'language': None}, 'link': u'http://newyork.craigslist.org/brk/stp/6121339517.html', 'published': u'2017-05-14T21:42:02-04:00', 'rights_detail': {'base': u'https://newyork.craigslist.org/search/stp?format=rss', 'type': u'text/plain', 'value': u'copyright 2017 craiglist', 'language': None}, 'enc_enclosure': {'type': u'image/jpeg', 'resource': u'https://images.craigslist.org/00g0g_1y5R2R9wwpX_300x300.jpg'}, 'id': u'http://newyork.craigslist.org/brk/stp/6121339517.html', 'dc_type': u'text'}, {'dc_source': u'http://newyork.craigslist.org/que/stp/6104096997.html', 'summary_detail': {'base': u'https://newyork.craigslist.org/search/stp?format=rss', 'type': u'text/html', 'value': u'My massages promote a feeling of total well being and peace allowing You simply melt away into bliss. I love giving a safe care and compassion we all crave for. I have been a practicing a wide range of modalities and I am 100% fully tuned into the bo [...]', 'language': None}, 'published_parsed': time.struct_time(tm_year=2017, tm_mon=5, tm_mday=15, tm_hour=1, tm_min=41, tm_sec=22, tm_wday=0, tm_yday=135, tm_isdst=0), 'updated_parsed': time.struct_time(tm_year=2017, tm_mon=5, tm_mday=15, tm_hour=1, tm_min=41, tm_sec=22, tm_wday=0, tm_yday=135, tm_isdst=0), 'links': [{'href': u'http://newyork.craigslist.org/que/stp/6104096997.html', 'type': u'text/html', 'rel': u'alternate'}], 'title': u'Leave Your Stress in My Hands - m4w', 'rights': u'copyright 2017 craiglist', 'updated': u'2017-05-14T21:41:22-04:00', 'summary': u'My massages promote a feeling of total well being and peace allowing You simply melt away into bliss. I love giving a safe care and compassion we all crave for. I have been a practicing a wide range of modalities and I am 100% fully tuned into the bo [...]', 'language': u'en-us', 'title_detail': {'base': u'https://newyork.craigslist.org/search/stp?format=rss', 'type': u'text/plain', 'value': u'Leave Your Stress in My Hands - m4w', 'language': None}, 'link': u'http://newyork.craigslist.org/que/stp/6104096997.html', 'published': u'2017-05-14T21:41:22-04:00', 'rights_detail': {'base': u'https://newyork.craigslist.org/search/stp?format=rss', 'type': u'text/plain', 'value': u'copyright 2017 craiglist', 'language': None}, 'enc_enclosure': {'type': u'image/jpeg', 'resource': u'https://images.craigslist.org/00J0J_alL5Uw4iYd2_300x300.jpg'}, 'id': u'http://newyork.craigslist.org/que/stp/6104096997.html', 'dc_type': u'text'}, {'dc_source': u'http://newyork.craigslist.org/brk/stp/6109476808.html', 'summary_detail': {'base': u'https://newyork.craigslist.org/search/stp?format=rss', 'type': u'text/html', 'value': u\"Wow...So much complaining and whining.. \\nIt seems everybody is bitter or depressed. Get over it. We all have problems. Life goes on. \\nHave a sense of humor. Stop blaming everyone for the world's ills. Tomorrow is not promised. \\nIf you meet a guy and  [...]\", 'language': None}, 'published_parsed': time.struct_time(tm_year=2017, tm_mon=5, tm_mday=15, tm_hour=1, tm_min=40, tm_sec=7, tm_wday=0, tm_yday=135, tm_isdst=0), 'updated_parsed': time.struct_time(tm_year=2017, tm_mon=5, tm_mday=15, tm_hour=1, tm_min=40, tm_sec=7, tm_wday=0, tm_yday=135, tm_isdst=0), 'links': [{'href': u'http://newyork.craigslist.org/brk/stp/6109476808.html', 'type': u'text/html', 'rel': u'alternate'}], 'title': u'WOW.....IT SEEMS EVERYBODY IS BITTER, DEPRESSED AND ANGRY........ - m4w', 'rights': u'copyright 2017 craiglist', 'updated': u'2017-05-14T21:40:07-04:00', 'summary': u\"Wow...So much complaining and whining.. \\nIt seems everybody is bitter or depressed. Get over it. We all have problems. Life goes on. \\nHave a sense of humor. Stop blaming everyone for the world's ills. Tomorrow is not promised. \\nIf you meet a guy and  [...]\", 'language': u'en-us', 'title_detail': {'base': u'https://newyork.craigslist.org/search/stp?format=rss', 'type': u'text/plain', 'value': u'WOW.....IT SEEMS EVERYBODY IS BITTER, DEPRESSED AND ANGRY........ - m4w', 'language': None}, 'link': u'http://newyork.craigslist.org/brk/stp/6109476808.html', 'published': u'2017-05-14T21:40:07-04:00', 'rights_detail': {'base': u'https://newyork.craigslist.org/search/stp?format=rss', 'type': u'text/plain', 'value': u'copyright 2017 craiglist', 'language': None}, 'id': u'http://newyork.craigslist.org/brk/stp/6109476808.html', 'dc_type': u'text'}, {'dc_source': u'http://newyork.craigslist.org/que/stp/6114494321.html', 'summary_detail': {'base': u'https://newyork.craigslist.org/search/stp?format=rss', 'type': u'text/html', 'value': u\"Looking to meet a cool straight guy and make a new friend in the area tonight! \\nI'm a straight, easy-going, educated, late 30s. If you are too, and could use a good new friend (strictly platonic, no weird gay stuff!) then drop me a line asap. Pls be  [...]\", 'language': None}, 'published_parsed': time.struct_time(tm_year=2017, tm_mon=5, tm_mday=15, tm_hour=1, tm_min=38, tm_sec=35, tm_wday=0, tm_yday=135, tm_isdst=0), 'updated_parsed': time.struct_time(tm_year=2017, tm_mon=5, tm_mday=15, tm_hour=1, tm_min=38, tm_sec=35, tm_wday=0, tm_yday=135, tm_isdst=0), 'links': [{'href': u'http://newyork.craigslist.org/que/stp/6114494321.html', 'type': u'text/html', 'rel': u'alternate'}], 'title': u'New Drinking Buddy in Forest Hills Tonight - m4m (Queens)', 'rights': u'copyright 2017 craiglist', 'updated': u'2017-05-14T21:38:35-04:00', 'summary': u\"Looking to meet a cool straight guy and make a new friend in the area tonight! \\nI'm a straight, easy-going, educated, late 30s. If you are too, and could use a good new friend (strictly platonic, no weird gay stuff!) then drop me a line asap. Pls be  [...]\", 'language': u'en-us', 'title_detail': {'base': u'https://newyork.craigslist.org/search/stp?format=rss', 'type': u'text/plain', 'value': u'New Drinking Buddy in Forest Hills Tonight - m4m (Queens)', 'language': None}, 'link': u'http://newyork.craigslist.org/que/stp/6114494321.html', 'published': u'2017-05-14T21:38:35-04:00', 'rights_detail': {'base': u'https://newyork.craigslist.org/search/stp?format=rss', 'type': u'text/plain', 'value': u'copyright 2017 craiglist', 'language': None}, 'id': u'http://newyork.craigslist.org/que/stp/6114494321.html', 'dc_type': u'text'}, {'dc_source': u'http://newyork.craigslist.org/mnh/stp/6116190028.html', 'summary_detail': {'base': u'https://newyork.craigslist.org/search/stp?format=rss', 'type': u'text/html', 'value': u'If you\\'re a good-natured straight (NOT GAY, NOT BI, NOT \"CURIOUS\", JUST STRAIGHT) dude, age 30 - 40, normal, who is an easy-going friend and available to meet up TONIGHT to shoot some pool and have a few drinks, maybe flirt with some cute girls - I k [...]', 'language': None}, 'published_parsed': time.struct_time(tm_year=2017, tm_mon=5, tm_mday=15, tm_hour=1, tm_min=37, tm_sec=20, tm_wday=0, tm_yday=135, tm_isdst=0), 'updated_parsed': time.struct_time(tm_year=2017, tm_mon=5, tm_mday=15, tm_hour=1, tm_min=37, tm_sec=20, tm_wday=0, tm_yday=135, tm_isdst=0), 'links': [{'href': u'http://newyork.craigslist.org/mnh/stp/6116190028.html', 'type': u'text/html', 'rel': u'alternate'}], 'title': u'STRAIGHT GUY up for BILLIARDS + BEERS TONIGHT - m4m (Astoria)', 'rights': u'copyright 2017 craiglist', 'updated': u'2017-05-14T21:37:20-04:00', 'summary': u'If you\\'re a good-natured straight (NOT GAY, NOT BI, NOT \"CURIOUS\", JUST STRAIGHT) dude, age 30 - 40, normal, who is an easy-going friend and available to meet up TONIGHT to shoot some pool and have a few drinks, maybe flirt with some cute girls - I k [...]', 'language': u'en-us', 'title_detail': {'base': u'https://newyork.craigslist.org/search/stp?format=rss', 'type': u'text/plain', 'value': u'STRAIGHT GUY up for BILLIARDS + BEERS TONIGHT - m4m (Astoria)', 'language': None}, 'link': u'http://newyork.craigslist.org/mnh/stp/6116190028.html', 'published': u'2017-05-14T21:37:20-04:00', 'rights_detail': {'base': u'https://newyork.craigslist.org/search/stp?format=rss', 'type': u'text/plain', 'value': u'copyright 2017 craiglist', 'language': None}, 'id': u'http://newyork.craigslist.org/mnh/stp/6116190028.html', 'dc_type': u'text'}, {'dc_source': u'http://newyork.craigslist.org/jsy/stp/6101535550.html', 'summary_detail': {'base': u'https://newyork.craigslist.org/search/stp?format=rss', 'type': u'text/html', 'value': u\"I'm a 35 year old man. I currently live and grew up in a suburban environment in Northern New Jersey. I'm of the impression that I'd have a decent prospect of finding a close friend for myself by looking for someone who likes to laugh at the same typ [...]\", 'language': None}, 'published_parsed': time.struct_time(tm_year=2017, tm_mon=5, tm_mday=15, tm_hour=1, tm_min=33, tm_sec=18, tm_wday=0, tm_yday=135, tm_isdst=0), 'updated_parsed': time.struct_time(tm_year=2017, tm_mon=5, tm_mday=15, tm_hour=1, tm_min=33, tm_sec=18, tm_wday=0, tm_yday=135, tm_isdst=0), 'links': [{'href': u'http://newyork.craigslist.org/jsy/stp/6101535550.html', 'type': u'text/html', 'rel': u'alternate'}], 'title': u'Looking For Someone Who Shares My Sense Of Humor - m4w (Essex County, NJ)', 'rights': u'copyright 2017 craiglist', 'updated': u'2017-05-14T21:33:18-04:00', 'summary': u\"I'm a 35 year old man. I currently live and grew up in a suburban environment in Northern New Jersey. I'm of the impression that I'd have a decent prospect of finding a close friend for myself by looking for someone who likes to laugh at the same typ [...]\", 'language': u'en-us', 'title_detail': {'base': u'https://newyork.craigslist.org/search/stp?format=rss', 'type': u'text/plain', 'value': u'Looking For Someone Who Shares My Sense Of Humor - m4w (Essex County, NJ)', 'language': None}, 'link': u'http://newyork.craigslist.org/jsy/stp/6101535550.html', 'published': u'2017-05-14T21:33:18-04:00', 'rights_detail': {'base': u'https://newyork.craigslist.org/search/stp?format=rss', 'type': u'text/plain', 'value': u'copyright 2017 craiglist', 'language': None}, 'enc_enclosure': {'type': u'image/jpeg', 'resource': u'https://images.craigslist.org/00T0T_agnK8TlEznk_300x300.jpg'}, 'id': u'http://newyork.craigslist.org/jsy/stp/6101535550.html', 'dc_type': u'text'}, {'dc_source': u'http://newyork.craigslist.org/brx/stp/6125146894.html', 'summary_detail': {'base': u'https://newyork.craigslist.org/search/stp?format=rss', 'type': u'text/html', 'value': u'hello iam a black male living in the bronx looking to smoke and chill maybe drink can host looking for a cool female thats chill and calm and thats wants to hang today send a full clean pic and be serious about meeting up', 'language': None}, 'published_parsed': time.struct_time(tm_year=2017, tm_mon=5, tm_mday=15, tm_hour=1, tm_min=30, tm_sec=54, tm_wday=0, tm_yday=135, tm_isdst=0), 'updated_parsed': time.struct_time(tm_year=2017, tm_mon=5, tm_mday=15, tm_hour=1, tm_min=30, tm_sec=54, tm_wday=0, tm_yday=135, tm_isdst=0), 'links': [{'href': u'http://newyork.craigslist.org/brx/stp/6125146894.html', 'type': u'text/html', 'rel': u'alternate'}], 'title': u'lets smoke and chill - m4w (bronx)', 'rights': u'copyright 2017 craiglist', 'updated': u'2017-05-14T21:30:54-04:00', 'summary': u'hello iam a black male living in the bronx looking to smoke and chill maybe drink can host looking for a cool female thats chill and calm and thats wants to hang today send a full clean pic and be serious about meeting up', 'language': u'en-us', 'title_detail': {'base': u'https://newyork.craigslist.org/search/stp?format=rss', 'type': u'text/plain', 'value': u'lets smoke and chill - m4w (bronx)', 'language': None}, 'link': u'http://newyork.craigslist.org/brx/stp/6125146894.html', 'published': u'2017-05-14T21:30:54-04:00', 'rights_detail': {'base': u'https://newyork.craigslist.org/search/stp?format=rss', 'type': u'text/plain', 'value': u'copyright 2017 craiglist', 'language': None}, 'id': u'http://newyork.craigslist.org/brx/stp/6125146894.html', 'dc_type': u'text'}, {'dc_source': u'http://newyork.craigslist.org/mnh/stp/6128325341.html', 'summary_detail': {'base': u'https://newyork.craigslist.org/search/stp?format=rss', 'type': u'text/html', 'value': u'Grooming/ Hair Service 4 Men (Manhatten) \\n\"Are you too busy to take care of your hair? Do you find that there are not enough hours in the week to make and keep your hair appointment? I offer grooming of unwanted back and chest hair. I am male. \\nI am  [...]', 'language': None}, 'published_parsed': time.struct_time(tm_year=2017, tm_mon=5, tm_mday=15, tm_hour=1, tm_min=29, tm_sec=47, tm_wday=0, tm_yday=135, tm_isdst=0), 'updated_parsed': time.struct_time(tm_year=2017, tm_mon=5, tm_mday=15, tm_hour=1, tm_min=29, tm_sec=47, tm_wday=0, tm_yday=135, tm_isdst=0), 'links': [{'href': u'http://newyork.craigslist.org/mnh/stp/6128325341.html', 'type': u'text/html', 'rel': u'alternate'}], 'title': u'Grooming/ Hair Service 4 Men - m4m (Manhattan)', 'rights': u'copyright 2017 craiglist', 'updated': u'2017-05-14T21:29:47-04:00', 'summary': u'Grooming/ Hair Service 4 Men (Manhatten) \\n\"Are you too busy to take care of your hair? Do you find that there are not enough hours in the week to make and keep your hair appointment? I offer grooming of unwanted back and chest hair. I am male. \\nI am  [...]', 'language': u'en-us', 'title_detail': {'base': u'https://newyork.craigslist.org/search/stp?format=rss', 'type': u'text/plain', 'value': u'Grooming/ Hair Service 4 Men - m4m (Manhattan)', 'language': None}, 'link': u'http://newyork.craigslist.org/mnh/stp/6128325341.html', 'published': u'2017-05-14T21:29:47-04:00', 'rights_detail': {'base': u'https://newyork.craigslist.org/search/stp?format=rss', 'type': u'text/plain', 'value': u'copyright 2017 craiglist', 'language': None}, 'enc_enclosure': {'type': u'image/jpeg', 'resource': u'https://images.craigslist.org/00I0I_3SOXvZ2k43j_300x300.jpg'}, 'id': u'http://newyork.craigslist.org/mnh/stp/6128325341.html', 'dc_type': u'text'}, {'dc_source': u'http://newyork.craigslist.org/que/stp/6122732369.html', 'summary_detail': {'base': u'https://newyork.craigslist.org/search/stp?format=rss', 'type': u'text/html', 'value': u'latino mix guy in astoria looking for good peeps in the hood to netflix and chill \\nhang and talk about chicks \\ngrab food, netflix hulu \\nwatch porn \\nmaybe get a girl together \\nlooking for easy going. no gay guys please \\njust send a simply clear photo  [...]', 'language': None}, 'published_parsed': time.struct_time(tm_year=2017, tm_mon=5, tm_mday=15, tm_hour=1, tm_min=21, tm_sec=53, tm_wday=0, tm_yday=135, tm_isdst=0), 'updated_parsed': time.struct_time(tm_year=2017, tm_mon=5, tm_mday=15, tm_hour=1, tm_min=21, tm_sec=53, tm_wday=0, tm_yday=135, tm_isdst=0), 'links': [{'href': u'http://newyork.craigslist.org/que/stp/6122732369.html', 'type': u'text/html', 'rel': u'alternate'}], 'title': u'New to hood, looking buds to chill and vibe - m4m (Astoria)', 'rights': u'copyright 2017 craiglist', 'updated': u'2017-05-14T21:21:53-04:00', 'summary': u'latino mix guy in astoria looking for good peeps in the hood to netflix and chill \\nhang and talk about chicks \\ngrab food, netflix hulu \\nwatch porn \\nmaybe get a girl together \\nlooking for easy going. no gay guys please \\njust send a simply clear photo  [...]', 'language': u'en-us', 'title_detail': {'base': u'https://newyork.craigslist.org/search/stp?format=rss', 'type': u'text/plain', 'value': u'New to hood, looking buds to chill and vibe - m4m (Astoria)', 'language': None}, 'link': u'http://newyork.craigslist.org/que/stp/6122732369.html', 'published': u'2017-05-14T21:21:53-04:00', 'rights_detail': {'base': u'https://newyork.craigslist.org/search/stp?format=rss', 'type': u'text/plain', 'value': u'copyright 2017 craiglist', 'language': None}, 'enc_enclosure': {'type': u'image/jpeg', 'resource': u'https://images.craigslist.org/00H0H_4zhNbrUy73I_300x300.jpg'}, 'id': u'http://newyork.craigslist.org/que/stp/6122732369.html', 'dc_type': u'text'}]\n"
     ]
    },
    {
     "data": {
      "text/plain": [
       "25"
      ]
     },
     "execution_count": 13,
     "metadata": {},
     "output_type": "execute_result"
    }
   ],
   "source": [
    "print(ny['entries'])\n",
    "len(ny['entries'])"
   ]
  },
  {
   "cell_type": "code",
   "execution_count": 14,
   "metadata": {
    "collapsed": false
   },
   "outputs": [],
   "source": [
    "def getTopKFreqWords(vocabList, fullText, k):\n",
    "    import operator\n",
    "    freDict = {}\n",
    "    for token in vocabList:\n",
    "        freDict[token] = fullText.count(token)\n",
    "    sortedFreDict = sorted(freDict.iteritems(), key = operator.itemgetter(1), reverse = True)\n",
    "    return sortedFreDict[:k]\n",
    "\n",
    "def localWords(feed1, feed0, isRemoveTopKFreqWords):\n",
    "    # two class RSS\n",
    "    import feedparser\n",
    "    docList = []\n",
    "    classList = []\n",
    "    fullText = []\n",
    "    minLen = min(len(feed1['entries']), len(feed0['entries']))\n",
    "    for i in range(minLen):\n",
    "        wordList = textParse(feed1['entries'][i]['summary'])\n",
    "        docList.append(wordList)\n",
    "        fullText.extend(wordList)\n",
    "        classList.append(1)\n",
    "        \n",
    "        wordList = textParse(feed0['entries'][i]['summary'])\n",
    "        docList.append(wordList)\n",
    "        fullText.extend(wordList)\n",
    "        classList.append(0)\n",
    "    \n",
    "    vocabList = []\n",
    "    vocabList = createVocabList(docList)\n",
    "    \n",
    "    \n",
    "    top30Words = getTopKFreqWords(vocabList, fullText, 30)\n",
    "    if isRemoveTopKFreqWords == True:\n",
    "        for pairW in top30Words:\n",
    "            if pairW[0] in vocabList : vocabList.remove(pairW[0])\n",
    "    \n",
    "    trainingSet = range(2*minLen)\n",
    "    testSet = []\n",
    "    for i in range(20):\n",
    "        randIndex = int(np.random.uniform(0, len(trainingSet)))\n",
    "        testSet.append(randIndex)\n",
    "        del trainingSet[randIndex]\n",
    "    \n",
    "    trainMat = []\n",
    "    trainClasses = []\n",
    "    for docIndex in trainingSet:\n",
    "        doc = docList[docIndex]\n",
    "        trainMat.append(bagOfWord2Vect(vocabList, doc))\n",
    "        trainClasses.append(classList[docIndex])\n",
    "    \n",
    "    p0Vect, p1Vect, pClass1 = trainNB2Class(trainMat, trainClasses)\n",
    "    \n",
    "    errCount = 0.0\n",
    "    for docIndex in testSet:\n",
    "        doc = docList[docIndex]\n",
    "        wordVect = np.array(bagOfWord2Vect(vocabList, doc))\n",
    "        preLabel = classifyNB(wordVect, p0Vect, p1Vect, pClass1)\n",
    "        if preLabel != classList[docIndex]:\n",
    "            errCount += 1\n",
    "    \n",
    "    print (\"the error rate is: \", errCount / len(testSet))\n",
    "    \n",
    "    return vocabList, top30Words, p0Vect, p1Vect, pClass1"
   ]
  },
  {
   "cell_type": "code",
   "execution_count": 15,
   "metadata": {
    "collapsed": true
   },
   "outputs": [],
   "source": [
    "ny = feedparser.parse(\"http://newyork.craigslist.org/stp/index.rss\")\n",
    "sf = feedparser.parse(\"http://sfbay.craigslist.org/stp/index.rss\")"
   ]
  },
  {
   "cell_type": "code",
   "execution_count": 16,
   "metadata": {
    "collapsed": false
   },
   "outputs": [
    {
     "name": "stdout",
     "output_type": "stream",
     "text": [
      "('the error rate is: ', 0.35)\n",
      "('the error rate is: ', 0.15)\n",
      "('the error rate is: ', 0.25)\n",
      "('the error rate is: ', 0.15)\n",
      "('the error rate is: ', 0.1)\n",
      "('the error rate is: ', 0.3)\n",
      "('the error rate is: ', 0.15)\n",
      "('the error rate is: ', 0.15)\n",
      "('the error rate is: ', 0.2)\n",
      "('the error rate is: ', 0.35)\n",
      "[(u'and', 63), (u'for', 48), (u'looking', 31), (u'the', 30), (u'you', 27), (u'not', 17), (u'who', 14), (u'have', 14), (u'with', 13), (u'out', 11), (u'get', 11), (u'are', 11), (u'like', 11), (u'been', 10), (u'guy', 9), (u'single', 9), (u'can', 8), (u'someone', 8), (u'going', 8), (u'good', 8), (u'just', 8), (u'time', 8), (u'from', 7), (u'this', 7), (u'there', 7), (u'please', 7), (u'know', 7), (u'your', 7), (u'chat', 7), (u'interested', 7)]\n"
     ]
    }
   ],
   "source": [
    "for i in range(10):\n",
    "    vocabList,topkWords, p0Vect, p1Vect, pClass1 = localWords(ny, sf, True)\n",
    "print(topkWords)"
   ]
  },
  {
   "cell_type": "code",
   "execution_count": 17,
   "metadata": {
    "collapsed": false
   },
   "outputs": [
    {
     "name": "stdout",
     "output_type": "stream",
     "text": [
      "('the error rate is: ', 0.05)\n",
      "('the error rate is: ', 0.2)\n",
      "('the error rate is: ', 0.1)\n",
      "('the error rate is: ', 0.1)\n",
      "('the error rate is: ', 0.15)\n",
      "('the error rate is: ', 0.2)\n",
      "('the error rate is: ', 0.0)\n",
      "('the error rate is: ', 0.1)\n",
      "('the error rate is: ', 0.15)\n",
      "('the error rate is: ', 0.05)\n",
      "[(u'and', 63), (u'for', 48), (u'looking', 31), (u'the', 30), (u'you', 27), (u'not', 17), (u'who', 14), (u'have', 14), (u'with', 13), (u'out', 11), (u'get', 11), (u'are', 11), (u'like', 11), (u'been', 10), (u'guy', 9), (u'single', 9), (u'can', 8), (u'someone', 8), (u'going', 8), (u'good', 8), (u'just', 8), (u'time', 8), (u'from', 7), (u'this', 7), (u'there', 7), (u'please', 7), (u'know', 7), (u'your', 7), (u'chat', 7), (u'interested', 7)]\n"
     ]
    }
   ],
   "source": [
    "for i in range(10):\n",
    "    vocabList,topkWords, p0Vect, p1Vect, pClass1 = localWords(ny, sf, False)\n",
    "print(topkWords)"
   ]
  },
  {
   "cell_type": "code",
   "execution_count": 18,
   "metadata": {
    "collapsed": true
   },
   "outputs": [],
   "source": [
    "## analysis data\n",
    "\n",
    "def getTopWords(ny, sf):\n",
    "    import operator\n",
    "    vocabList, topkWords, p0Vect, p1Vect, pClass1 = localWords(ny, sf, True)\n",
    "    topNY = []\n",
    "    topSF = []\n",
    "    \n",
    "    for i in range(len(p0Vect)):\n",
    "        topSF.append((vocabList[i], p0Vect[i]))\n",
    "        topNY.append((vocabList[i], p1Vect[i]))\n",
    "    \n",
    "    sortedSF = sorted(topSF, key = lambda pair : pair[1], reverse = True)\n",
    "    print(\"SF**\"*10)\n",
    "    for item in sortedSF[:20]:\n",
    "        print(item[0])\n",
    "        \n",
    "    sortedNY = sorted(topNY, key = lambda pair : pair[1], reverse = True)\n",
    "    print(\"NY**\"*10)\n",
    "    for item in sortedNY[:20]:\n",
    "        print(item[0])\n"
   ]
  },
  {
   "cell_type": "code",
   "execution_count": 19,
   "metadata": {
    "collapsed": false,
    "scrolled": true
   },
   "outputs": [
    {
     "name": "stdout",
     "output_type": "stream",
     "text": [
      "('the error rate is: ', 0.2)\n",
      "SF**SF**SF**SF**SF**SF**SF**SF**SF**SF**\n",
      "dancing\n",
      "nice\n",
      "enjoy\n",
      "awesome\n",
      "fit\n",
      "anyone\n",
      "between\n",
      "some\n",
      "pass\n",
      "here\n",
      "active\n",
      "would\n",
      "want\n",
      "dinner\n",
      "maybe\n",
      "personal\n",
      "white\n",
      "also\n",
      "don\n",
      "watch\n",
      "NY**NY**NY**NY**NY**NY**NY**NY**NY**NY**\n",
      "new\n",
      "friendship\n",
      "chill\n",
      "amp\n",
      "easy\n",
      "into\n",
      "friends\n",
      "all\n",
      "smoke\n",
      "meet\n",
      "male\n",
      "man\n",
      "seeking\n",
      "girl\n",
      "friend\n",
      "don\n",
      "clean\n",
      "make\n",
      "hang\n",
      "italian\n"
     ]
    }
   ],
   "source": [
    "getTopWords(ny, sf)"
   ]
  },
  {
   "cell_type": "code",
   "execution_count": null,
   "metadata": {
    "collapsed": true
   },
   "outputs": [],
   "source": []
  }
 ],
 "metadata": {
  "anaconda-cloud": {},
  "kernelspec": {
   "display_name": "Python [default]",
   "language": "python",
   "name": "python2"
  },
  "language_info": {
   "codemirror_mode": {
    "name": "ipython",
    "version": 2
   },
   "file_extension": ".py",
   "mimetype": "text/x-python",
   "name": "python",
   "nbconvert_exporter": "python",
   "pygments_lexer": "ipython2",
   "version": "2.7.12"
  }
 },
 "nbformat": 4,
 "nbformat_minor": 1
}
