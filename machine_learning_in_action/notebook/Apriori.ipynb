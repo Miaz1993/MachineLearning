{
 "cells": [
  {
   "cell_type": "code",
   "execution_count": 13,
   "metadata": {
    "collapsed": true
   },
   "outputs": [],
   "source": [
    "import numpy as np\n",
    "import matplotlib.pyplot as plt\n",
    "\n",
    "% matplotlib inline"
   ]
  },
  {
   "cell_type": "markdown",
   "metadata": {},
   "source": [
    "## Basic function"
   ]
  },
  {
   "cell_type": "code",
   "execution_count": 14,
   "metadata": {
    "collapsed": true
   },
   "outputs": [],
   "source": [
    "def loadTestDataSet():\n",
    "    return [[1, 3, 4], [2, 3, 5], [1, 2, 3, 5], [2, 5]]\n",
    "\n",
    "def createC1(dataList):\n",
    "    C1 = []\n",
    "    for transaction in dataList:\n",
    "        for item in transaction:\n",
    "            if not [item] in C1:\n",
    "                C1.append([item])\n",
    "    C1.sort()\n",
    "    return map(frozenset, C1)\n",
    "\n",
    "def scanD(DataSet, Ck, minSupport): # generate LK\n",
    "    ssCnt = {}\n",
    "    for transaction in DataSet:\n",
    "        for candidate in Ck:\n",
    "            if candidate.issubset(transaction):\n",
    "                if not ssCnt.has_key(candidate):\n",
    "                    ssCnt[candidate] = 1\n",
    "                else:\n",
    "                    ssCnt[candidate] += 1\n",
    "   \n",
    "    numItems = float(len(DataSet))\n",
    "    retList = []\n",
    "    supportVals = {}\n",
    "    for key in ssCnt.keys():\n",
    "        support = ssCnt[key] / numItems\n",
    "        if support >= minSupport:\n",
    "            retList.insert(0, key)\n",
    "        supportVals[key] = support\n",
    "    \n",
    "    return retList, supportVals"
   ]
  },
  {
   "cell_type": "code",
   "execution_count": 15,
   "metadata": {
    "collapsed": false
   },
   "outputs": [
    {
     "name": "stdout",
     "output_type": "stream",
     "text": [
      "<type 'list'>\n",
      "(4,)\n",
      "\n",
      "\n",
      "[frozenset([1]), frozenset([2]), frozenset([3]), frozenset([4]), frozenset([5])]\n",
      "\n",
      "\n",
      "[set([1, 3, 4]), set([2, 3, 5]), set([1, 2, 3, 5]), set([2, 5])]\n",
      "\n",
      "\n",
      "[frozenset([1]), frozenset([3]), frozenset([2]), frozenset([5])]\n",
      "{frozenset([4]): 0.25, frozenset([5]): 0.75, frozenset([2]): 0.75, frozenset([3]): 0.75, frozenset([1]): 0.5}\n"
     ]
    }
   ],
   "source": [
    "dataSet = loadTestDataSet()\n",
    "print(type(dataSet))\n",
    "print(np.shape(dataSet))\n",
    "print(\"\\n\")\n",
    "\n",
    "C1 = createC1(dataSet)\n",
    "print(C1)\n",
    "print(\"\\n\")\n",
    "\n",
    "D = map(set, dataSet)\n",
    "print(D)\n",
    "print(\"\\n\")\n",
    "\n",
    "L1, supportVals = scanD(D, C1, 0.5)\n",
    "print(L1)\n",
    "print(supportVals)"
   ]
  },
  {
   "cell_type": "markdown",
   "metadata": {},
   "source": [
    "## Apriori"
   ]
  },
  {
   "cell_type": "code",
   "execution_count": 60,
   "metadata": {
    "collapsed": true
   },
   "outputs": [],
   "source": [
    "def generateCandidateSet(Lk): # generate Ck from Lk-1\n",
    "    #print(\"haha\",Lk)\n",
    "    Ck = []\n",
    "    lenLK = len(Lk)\n",
    "    for i in range(lenLK):\n",
    "        for j in range(i+1, lenLK):\n",
    "            k = len(Lk[i])\n",
    "            L1 = list(Lk[i])[:k-1]\n",
    "            L2 = list(Lk[j])[:k-1]\n",
    "            L1.sort(); L2.sort()\n",
    "            if L1 == L2:\n",
    "                Ck.append(Lk[i] | Lk[j])\n",
    "    return Ck\n",
    "\n",
    "def apriori(dataSet, minSupport = 0.5):\n",
    "    C1 = createC1(dataSet)\n",
    "    D = map(set, dataSet)\n",
    "    L1, supportVals = scanD(D, C1, minSupport)\n",
    "    L = [L1]\n",
    "    while( len(L[-1]) > 0 ):\n",
    "        Ck = generateCandidateSet(L[-1])\n",
    "        Lk, supportK = scanD(D, Ck, minSupport)\n",
    "        supportVals.update(supportK)\n",
    "        L.append(Lk)\n",
    "    \n",
    "    return L, supportVals"
   ]
  },
  {
   "cell_type": "code",
   "execution_count": 61,
   "metadata": {
    "collapsed": false
   },
   "outputs": [
    {
     "name": "stdout",
     "output_type": "stream",
     "text": [
      "[[frozenset([1]), frozenset([3]), frozenset([2]), frozenset([5])], [frozenset([1, 3]), frozenset([2, 5]), frozenset([2, 3]), frozenset([3, 5])], [frozenset([2, 3, 5])], []]\n",
      "{frozenset([5]): 0.75, frozenset([3]): 0.75, frozenset([2, 3, 5]): 0.5, frozenset([1, 2]): 0.25, frozenset([1, 5]): 0.25, frozenset([3, 5]): 0.5, frozenset([4]): 0.25, frozenset([2, 3]): 0.5, frozenset([2, 5]): 0.75, frozenset([1]): 0.5, frozenset([1, 3]): 0.5, frozenset([2]): 0.75}\n"
     ]
    }
   ],
   "source": [
    "dataSet = loadTestDataSet()\n",
    "L, supportVals = apriori(dataSet)\n",
    "print(L)\n",
    "print(supportVals)"
   ]
  },
  {
   "cell_type": "code",
   "execution_count": 18,
   "metadata": {
    "collapsed": false
   },
   "outputs": [
    {
     "name": "stdout",
     "output_type": "stream",
     "text": [
      "[[frozenset([3]), frozenset([2]), frozenset([5])], [frozenset([2, 5])], []]\n",
      "{frozenset([5]): 0.75, frozenset([3]): 0.75, frozenset([3, 5]): 0.5, frozenset([4]): 0.25, frozenset([2, 3]): 0.5, frozenset([2, 5]): 0.75, frozenset([1]): 0.5, frozenset([2]): 0.75}\n"
     ]
    }
   ],
   "source": [
    "dataSet = loadTestDataSet()\n",
    "L, supportVals = apriori(dataSet, 0.7)\n",
    "print(L)\n",
    "print(supportVals)"
   ]
  },
  {
   "cell_type": "markdown",
   "metadata": {
    "collapsed": true
   },
   "source": [
    "## asocciation rules: P->H"
   ]
  },
  {
   "cell_type": "code",
   "execution_count": 77,
   "metadata": {
    "collapsed": false
   },
   "outputs": [],
   "source": [
    "def calConf(freqSet, H, supportVals, bigRuleList, minConf = 0.7):\n",
    "    # H is the item list of freqSet\n",
    "    prunedH = []\n",
    "    for conseq in H:\n",
    "        conf = supportVals[freqSet] / supportVals[freqSet - conseq]\n",
    "        if conf >= minConf:\n",
    "            print( freqSet - conseq, '--->', conseq, ' conf: ', conf )\n",
    "            bigRuleList.append((freqSet - conseq, conseq, conf))\n",
    "            prunedH.append(conseq)\n",
    "    return prunedH\n",
    "        \n",
    "def rulesFromConseq(freqSet, H, supportVals, bigRuleList, minConf=0.7):\n",
    "    m = len(H[0])\n",
    "    if (len(freqSet) > m+1):\n",
    "        Hmp1 = generateCandidateSet(H) # try to merge the element of H to generate larger H\n",
    "        Hmp1 = calConf(freqSet, Hmp1, supportVals, bigRuleList, minConf)\n",
    "        if len(Hmp1) > 1:\n",
    "            rulesFromConseq(freqSet, Hmp1, supportVals, bigRuleList, minConf)\n",
    "\n",
    "def generateRules(L, supportVals, minConf = 0.7):\n",
    "    bigRuleList = []\n",
    "    for i in range(1, len(L)):\n",
    "        for freqSet in L[i]: # frequent set with order i+1\n",
    "            #print('freaSet:', freqSet)\n",
    "            H1 = [frozenset([item]) for item in freqSet]\n",
    "            #print(\"H1\", H1)\n",
    "            if i > 1 :\n",
    "                rulesFromConseq(freqSet, H1, supportVals, bigRuleList, minConf)\n",
    "            else:\n",
    "                calConf(freqSet, H1, supportVals, bigRuleList, minConf)\n",
    "    return bigRuleList"
   ]
  },
  {
   "cell_type": "code",
   "execution_count": 51,
   "metadata": {
    "collapsed": false
   },
   "outputs": [
    {
     "name": "stdout",
     "output_type": "stream",
     "text": [
      "[[frozenset([1]), frozenset([3]), frozenset([2]), frozenset([5])], [frozenset([1, 3]), frozenset([2, 5]), frozenset([2, 3]), frozenset([3, 5])], [frozenset([2, 3, 5])], []]\n",
      "4\n",
      "\n",
      "\n",
      "{frozenset([5]): 0.75, frozenset([3]): 0.75, frozenset([2, 3, 5]): 0.5, frozenset([1, 2]): 0.25, frozenset([1, 5]): 0.25, frozenset([3, 5]): 0.5, frozenset([4]): 0.25, frozenset([2, 3]): 0.5, frozenset([2, 5]): 0.75, frozenset([1]): 0.5, frozenset([1, 3]): 0.5, frozenset([2]): 0.75}\n"
     ]
    }
   ],
   "source": [
    "dataSet = loadTestDataSet()\n",
    "L, supportVals = apriori(dataSet)\n",
    "print(L)\n",
    "print(len(L))\n",
    "print(\"\\n\")\n",
    "print(supportVals)"
   ]
  },
  {
   "cell_type": "code",
   "execution_count": 75,
   "metadata": {
    "collapsed": false
   },
   "outputs": [
    {
     "name": "stdout",
     "output_type": "stream",
     "text": [
      "(frozenset([1]), '--->', frozenset([3]), ' conf: ', 1.0)\n",
      "(frozenset([5]), '--->', frozenset([2]), ' conf: ', 1.0)\n",
      "(frozenset([2]), '--->', frozenset([5]), ' conf: ', 1.0)\n"
     ]
    }
   ],
   "source": [
    "rules = generateRules(L, supportVals)"
   ]
  },
  {
   "cell_type": "code",
   "execution_count": 76,
   "metadata": {
    "collapsed": false
   },
   "outputs": [
    {
     "name": "stdout",
     "output_type": "stream",
     "text": [
      "(frozenset([3]), '--->', frozenset([1]), ' conf: ', 0.6666666666666666)\n",
      "(frozenset([1]), '--->', frozenset([3]), ' conf: ', 1.0)\n",
      "(frozenset([5]), '--->', frozenset([2]), ' conf: ', 1.0)\n",
      "(frozenset([2]), '--->', frozenset([5]), ' conf: ', 1.0)\n",
      "(frozenset([3]), '--->', frozenset([2]), ' conf: ', 0.6666666666666666)\n",
      "(frozenset([2]), '--->', frozenset([3]), ' conf: ', 0.6666666666666666)\n",
      "(frozenset([5]), '--->', frozenset([3]), ' conf: ', 0.6666666666666666)\n",
      "(frozenset([3]), '--->', frozenset([5]), ' conf: ', 0.6666666666666666)\n",
      "(frozenset([5]), '--->', frozenset([2, 3]), ' conf: ', 0.6666666666666666)\n",
      "(frozenset([3]), '--->', frozenset([2, 5]), ' conf: ', 0.6666666666666666)\n",
      "(frozenset([2]), '--->', frozenset([3, 5]), ' conf: ', 0.6666666666666666)\n"
     ]
    }
   ],
   "source": [
    "rules = generateRules(L, supportVals, 0.5)"
   ]
  },
  {
   "cell_type": "markdown",
   "metadata": {},
   "source": [
    "## A real case : mushroom"
   ]
  },
  {
   "cell_type": "code",
   "execution_count": 78,
   "metadata": {
    "collapsed": true
   },
   "outputs": [],
   "source": [
    "DATA_DIR = 'data/apriori/'"
   ]
  },
  {
   "cell_type": "code",
   "execution_count": 88,
   "metadata": {
    "collapsed": false
   },
   "outputs": [
    {
     "name": "stdout",
     "output_type": "stream",
     "text": [
      "(8124, 23)\n",
      "[['1' '3' '9' '13' '23' '25' '34' '36' '38' '40' '52' '54' '59' '63' '67'\n",
      "  '76' '85' '86' '90' '93' '98' '107' '113']\n",
      " ['2' '3' '9' '14' '23' '26' '34' '36' '39' '40' '52' '55' '59' '63' '67'\n",
      "  '76' '85' '86' '90' '93' '99' '108' '114']]\n"
     ]
    }
   ],
   "source": [
    "dataMushroom = np.array([line.split() for line in open(DATA_DIR+'mushroom.dat').readlines()])\n",
    "print(np.shape(dataMushroom))\n",
    "print(dataMushroom[:2,:])"
   ]
  },
  {
   "cell_type": "code",
   "execution_count": 89,
   "metadata": {
    "collapsed": true
   },
   "outputs": [],
   "source": [
    "L, supportVals = apriori(dataMushroom, minSupport=0.3)"
   ]
  },
  {
   "cell_type": "code",
   "execution_count": 96,
   "metadata": {
    "collapsed": false
   },
   "outputs": [
    {
     "name": "stdout",
     "output_type": "stream",
     "text": [
      "frozenset(['2', '59'])\n",
      "frozenset(['39', '2'])\n",
      "frozenset(['2', '67'])\n",
      "frozenset(['2', '34'])\n",
      "frozenset(['2', '23'])\n",
      "frozenset(['2', '86'])\n",
      "frozenset(['76', '2'])\n",
      "frozenset(['90', '2'])\n",
      "frozenset(['2', '53'])\n",
      "frozenset(['93', '2'])\n",
      "frozenset(['63', '2'])\n",
      "frozenset(['2', '28'])\n",
      "frozenset(['2', '85'])\n",
      "frozenset(['2', '36'])\n"
     ]
    }
   ],
   "source": [
    "for item in L[1]:\n",
    "    if item.intersection('2'):\n",
    "        print(item)"
   ]
  },
  {
   "cell_type": "code",
   "execution_count": 97,
   "metadata": {
    "collapsed": false
   },
   "outputs": [
    {
     "name": "stdout",
     "output_type": "stream",
     "text": [
      "frozenset(['90', '2', '23'])\n",
      "frozenset(['39', '2', '53'])\n",
      "frozenset(['2', '59', '34'])\n",
      "frozenset(['2', '53', '85'])\n",
      "frozenset(['23', '2', '34'])\n",
      "frozenset(['2', '53', '34'])\n",
      "frozenset(['93', '2', '86'])\n",
      "frozenset(['39', '2', '59'])\n",
      "frozenset(['2', '59', '36'])\n",
      "frozenset(['39', '2', '36'])\n",
      "frozenset(['2', '28', '53'])\n",
      "frozenset(['86', '2', '59'])\n",
      "frozenset(['90', '2', '59'])\n",
      "frozenset(['2', '93', '63'])\n",
      "frozenset(['90', '39', '2'])\n",
      "frozenset(['39', '2', '93'])\n",
      "frozenset(['76', '2', '34'])\n",
      "frozenset(['39', '2', '85'])\n",
      "frozenset(['2', '85', '67'])\n",
      "frozenset(['63', '90', '2'])\n",
      "frozenset(['93', '2', '36'])\n",
      "frozenset(['2', '63', '34'])\n",
      "frozenset(['2', '86', '23'])\n",
      "frozenset(['2', '59', '23'])\n",
      "frozenset(['39', '2', '67'])\n",
      "frozenset(['63', '39', '2'])\n",
      "frozenset(['2', '28', '85'])\n",
      "frozenset(['28', '2', '59'])\n",
      "frozenset(['2', '63', '23'])\n",
      "frozenset(['2', '86', '53'])\n",
      "frozenset(['2', '63', '85'])\n",
      "frozenset(['2', '36', '34'])\n",
      "frozenset(['2', '86', '67'])\n",
      "frozenset(['28', '2', '86'])\n",
      "frozenset(['93', '2', '85'])\n",
      "frozenset(['2', '85', '34'])\n",
      "frozenset(['76', '2', '86'])\n",
      "frozenset(['2', '28', '34'])\n",
      "frozenset(['39', '2', '34'])\n",
      "frozenset(['2', '86', '85'])\n",
      "frozenset(['2', '63', '28'])\n",
      "frozenset(['2', '63', '36'])\n",
      "frozenset(['2', '63', '59'])\n",
      "frozenset(['90', '2', '86'])\n",
      "frozenset(['39', '2', '86'])\n",
      "frozenset(['90', '2', '36'])\n",
      "frozenset(['90', '2', '28'])\n",
      "frozenset(['2', '86', '34'])\n",
      "frozenset(['93', '2', '23'])\n",
      "frozenset(['76', '39', '2'])\n",
      "frozenset(['93', '2', '59'])\n",
      "frozenset(['2', '86', '36'])\n",
      "frozenset(['90', '2', '53'])\n",
      "frozenset(['76', '2', '85'])\n",
      "frozenset(['93', '2', '34'])\n",
      "frozenset(['2', '36', '23'])\n",
      "frozenset(['34', '2', '67'])\n",
      "frozenset(['90', '93', '2'])\n",
      "frozenset(['2', '85', '23'])\n",
      "frozenset(['90', '2', '85'])\n",
      "frozenset(['2', '63', '86'])\n",
      "frozenset(['39', '2', '28'])\n",
      "frozenset(['39', '2', '23'])\n",
      "frozenset(['2', '36', '85'])\n",
      "frozenset(['90', '2', '34'])\n",
      "frozenset(['2', '59', '85'])\n"
     ]
    }
   ],
   "source": [
    "for item in L[2]:\n",
    "    if item.intersection('2'):\n",
    "        print(item)"
   ]
  },
  {
   "cell_type": "code",
   "execution_count": null,
   "metadata": {
    "collapsed": true
   },
   "outputs": [],
   "source": []
  }
 ],
 "metadata": {
  "anaconda-cloud": {},
  "kernelspec": {
   "display_name": "Python [default]",
   "language": "python",
   "name": "python2"
  },
  "language_info": {
   "codemirror_mode": {
    "name": "ipython",
    "version": 2
   },
   "file_extension": ".py",
   "mimetype": "text/x-python",
   "name": "python",
   "nbconvert_exporter": "python",
   "pygments_lexer": "ipython2",
   "version": "2.7.12"
  }
 },
 "nbformat": 4,
 "nbformat_minor": 1
}
